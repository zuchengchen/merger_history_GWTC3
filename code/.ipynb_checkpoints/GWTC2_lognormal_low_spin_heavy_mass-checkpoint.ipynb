{
 "cells": [
  {
   "cell_type": "code",
   "execution_count": 1,
   "metadata": {},
   "outputs": [],
   "source": [
    "model = \"GWTC2_lognormal_low_spin_heavy_mass\"\n",
    "using Cuba\n",
    "include(\"events.jl\")\n",
    "using Revise\n",
    "using Cuba\n",
    "using HypergeometricFunctions\n",
    "using SpecialFunctions\n",
    "using BenchmarkTools\n",
    "using Interpolations\n",
    "using Distributions\n",
    "using KernelDensity\n",
    "using DelimitedFiles\n",
    "using StatsPlots\n",
    "using NestedSamplers\n",
    "using StatsBase: sample\n",
    "using Random\n",
    "# using MCMCChains\n",
    "using FileIO\n",
    "using BAT\n",
    "using IntervalSets\n",
    "using FileIO\n",
    "using LaTeXStrings\n",
    "using Roots\n",
    "# using GWSC\n",
    "using IntervalSets\n",
    "using AbstractMCMC\n",
    "# AbstractMCMC.setprogress!(false)\n",
    "Random.seed!(8452);"
   ]
  },
  {
   "cell_type": "code",
   "execution_count": 2,
   "metadata": {},
   "outputs": [
    {
     "data": {
      "text/plain": [
       "127"
      ]
     },
     "execution_count": 2,
     "metadata": {},
     "output_type": "execute_result"
    }
   ],
   "source": [
    "f = 0.0025693801260000975\n",
    "mc = 8.896735628637506\n",
    "σc = 0.9108320383237213\n",
    "i = 10\n",
    "j = 30\n",
    "\n",
    "const m_min = 3\n",
    "const m_max = 130\n",
    "const δm = m_max - m_min"
   ]
  },
  {
   "cell_type": "code",
   "execution_count": 3,
   "metadata": {},
   "outputs": [
    {
     "data": {
      "text/plain": [
       "merger_rate (generic function with 1 method)"
      ]
     },
     "execution_count": 3,
     "metadata": {},
     "output_type": "execute_result"
    }
   ],
   "source": [
    "function mergerRateDensity1st(i, j, mc, σc, f)\n",
    "    210084.52488130186/(i^2 * j^2 * σc^2) * exp(-(743*σc^4 + 1369*log(i/mc)^2 + 1369*log(j/mc)^2)/(2738*σc^2)) * (i*j)^(3/37) * (i+j)^(36/37) * ((exp(σc^2/2)*f)/mc)^(53/37) * mc^(53/37)\n",
    "end\n",
    "\n",
    "function mergerRateDensity2nd1(i, j, mc, σc, f)\n",
    "    tmp1 = 1009.5488113544313 * f^(69/37) * i^(6/37) * (i+j)^(72/37) / j^(68/37) / σc^3 \n",
    "    tmp2 = exp(-(-3318*σc^4 + 1369*log(j/mc)^2)/(2738*σc^2))\n",
    "    \n",
    "    int0(e) = exp(-(1369*log(e/mc)^2 + 1369*log((-e+i)/mc)^2)/(2738*σc^2)) / (e^2 * (-e + i)^2)\n",
    "    int(e) = i * int0(i*e)\n",
    "    function integrand(x, f)\n",
    "        f[1] = int(x[1])\n",
    "    end\n",
    "    result, err = cuhre(integrand, rtol=1e-1)\n",
    "    tmp1 * tmp2 * result[1]\n",
    "end\n",
    "\n",
    "mergerRateDensity2nd(i, j, mc, σc, f) = 0.5 * (mergerRateDensity2nd1(i, j, mc, σc, f) + mergerRateDensity2nd1(j, i, mc, σc, f))\n",
    "\n",
    "# function mergerRateDensity(i, j, mc, σc, f)\n",
    "#     if i >= j\n",
    "#         mergerRateDensity1st(i, j, mc, σc, f) + mergerRateDensity2nd(i, j, mc, σc, f)\n",
    "#     else\n",
    "#         mergerRateDensity(j, i, mc, σc, f)\n",
    "#     end\n",
    "# end\n",
    "\n",
    "mergerRateDensity(i, j, mc, σc, f) = mergerRateDensity1st(i, j, mc, σc, f) + mergerRateDensity2nd(i, j, mc, σc, f)\n",
    "\n",
    "function merger_rate(mc, σc, f) \n",
    "    δm = m_max - m_min\n",
    "    int(m1, m2) = δm^2 * mergerRateDensity(m_min + δm*m1, m_min + δm*m2, mc, σc, f) \n",
    "#     println(\"p1=$p10, p2=$p20, p3=$p30\")\n",
    "    function integrand(x, f)\n",
    "        f[1] = int(x[1], x[2])\n",
    "    end\n",
    "    result, err = cuhre(integrand, rtol=1e-3)\n",
    "    0.5*result[1]\n",
    "end"
   ]
  },
  {
   "cell_type": "code",
   "execution_count": 4,
   "metadata": {},
   "outputs": [],
   "source": [
    "# @time mergerRateDensity(i, j, mc, σc, f)\n",
    "# mergerRateDensity1st(i, j, mc, σc, f)\n",
    "# @time merger_rate(mc, σc, f)\n",
    "# mergerRateDensity2nd(i, j, mc, σc, f)\n",
    "# @time mergerRateDensity2nd(i, j, mc, σc, f)\n",
    "# @time mergerRateDensity2nd1(i, j, mc, σc, f)"
   ]
  },
  {
   "cell_type": "code",
   "execution_count": 5,
   "metadata": {},
   "outputs": [
    {
     "data": {
      "text/plain": [
       "get_VT_GWTC2 (generic function with 1 method)"
      ]
     },
     "execution_count": 5,
     "metadata": {},
     "output_type": "execute_result"
    }
   ],
   "source": [
    "function get_post_func(event)\n",
    "    post_file = \"LIGO-data/masses_source_frame_posterior/GW$(event)_posterior.txt\"\n",
    "    post = readdlm(post_file);\n",
    "    d1 = fit(MvNormal, transpose(post))\n",
    "    \n",
    "    μ1, μ2 = d1.μ\n",
    "    σ1 = sqrt(d1.Σ[1])\n",
    "    σ2 = sqrt(d1.Σ[4])\n",
    "    ρ = d1.Σ[2]/σ1/σ2\n",
    "    norm = 2pi * sqrt(1 - ρ^2) * σ1 * σ2\n",
    "    \n",
    "    post(x1, x2) = 1/norm * exp(- 1/2/(1-ρ^2) * ((x1-μ1)^2/σ1^2 - 2ρ*(x1-μ1)*(x2-μ2)/σ1/σ2 + (x2-μ2)^2/σ2^2))\n",
    "end\n",
    "\n",
    "#### \n",
    "# vt\n",
    "const time_O1 = 46.1; # (* days or 48.6 days *)\n",
    "const time_O2 = 117; #(* days *)\n",
    "const time_O3a = 149.9 #;(* days *)\n",
    "\n",
    "function get_VT_GWTC2()\n",
    "    m1s = m2s = collect(1.0:1.0:136.0)\n",
    "    vts_O1O2 = (time_O1 + time_O2)/365 * reshape(readdlm(\"backup/VT_1yr_m1m2_LIGO_O1.txt\")[:, 3], length(m1s), length(m1s))\n",
    "    vts_O3a = (time_O3a)/365 * reshape(readdlm(\"backup/VT_1yr_m1m2_LIGO_O3.txt\")[:, 3], length(m1s), length(m1s))\n",
    "    vts = vts_O1O2 + vts_O3a\n",
    "    \n",
    "    vt_int0 = LinearInterpolation((m1s, m2s), vts)\n",
    "    \n",
    "    VT(m1, m2) = vt_int0(m1, m2)\n",
    "end"
   ]
  },
  {
   "cell_type": "code",
   "execution_count": 6,
   "metadata": {},
   "outputs": [
    {
     "data": {
      "text/plain": [
       "VT (generic function with 1 method)"
      ]
     },
     "execution_count": 6,
     "metadata": {},
     "output_type": "execute_result"
    }
   ],
   "source": [
    "posts = [get_post_func(event) for event in GWTC2_events_low_spin_heavy_mass];\n",
    "# save(\"backup/posts_$(model).jld2\", Dict(\"posts\" => posts))\n",
    "# posts = load(\"backup/posts_$(model).jld2\", \"posts\");\n",
    "\n",
    "VT = get_VT_GWTC2()"
   ]
  },
  {
   "cell_type": "code",
   "execution_count": 7,
   "metadata": {},
   "outputs": [
    {
     "data": {
      "text/plain": [
       "β_func (generic function with 1 method)"
      ]
     },
     "execution_count": 7,
     "metadata": {},
     "output_type": "execute_result"
    }
   ],
   "source": [
    "# function β_func(mc, σc, f)\n",
    "#     int0(m1, m2) = mergerRateDensity(m1, m2, mc, σc, f) * VT(m1, m2)\n",
    "#     int(m1, m2) = δm^2 * int0(m_min + δm * m1, m_min + δm * m2)\n",
    "#     function integrand(x, f)\n",
    "#         f[1] = int(x[1], x[2])\n",
    "#     end\n",
    "#     result, err = cuhre(integrand, rtol=1e-1)\n",
    "#     0.5 * result[1]\n",
    "# end\n",
    "\n",
    "function β_func_1st(mc, σc, f)\n",
    "    int0(m1, m2) = mergerRateDensity1st(m1, m2, mc, σc, f) * VT(m1, m2)\n",
    "    int(m1, m2) = δm^2 * int0(m_min + δm * m1, m_min + δm * m2)\n",
    "    function integrand(x, f)\n",
    "        f[1] = int(x[1], x[2])\n",
    "    end\n",
    "    result, err = cuhre(integrand, rtol=1e-1)\n",
    "    0.5 * result[1]\n",
    "end\n",
    "\n",
    "function β_func_2nd(mc, σc, f)\n",
    "    \n",
    "    int00(i, j, e) = 1009.5488113544313 * f^(69/37) * i^(6/37) * (i+j)^(72/37) / j^(68/37) / σc^3 * exp(-(-3318*σc^4 + 1369*log(j/mc)^2)/(2738*σc^2)) * exp(-(1369*log(e/mc)^2 + 1369*log((-e+i)/mc)^2)/(2738*σc^2)) / (e^2 * (-e + i)^2) * VT(i, j)\n",
    "#     int0(i, j, e) = 0.5 * (int00(i, j, e) + int00(j, i, e))\n",
    "    int(i, j, e) = δm^2 * (m_min + δm * i) * int00(m_min + δm * i, m_min + δm * j, (m_min + δm * i)*e)\n",
    "    function integrand(x, f)\n",
    "        f[1] = int(x[1], x[2], x[3])\n",
    "    end\n",
    "    result, err = cuhre(integrand, 3, 1, rtol=1e-1)\n",
    "    0.5 * result[1]\n",
    "end\n",
    "\n",
    "β_func(mc, σc, f) = β_func_1st(mc, σc, f) + β_func_2nd(mc, σc, f)"
   ]
  },
  {
   "cell_type": "code",
   "execution_count": 8,
   "metadata": {},
   "outputs": [
    {
     "name": "stdout",
     "output_type": "stream",
     "text": [
      "  438.503 μs (11738 allocations: 319.41 KiB)\n"
     ]
    },
    {
     "data": {
      "text/plain": [
       "14.289933820547343"
      ]
     },
     "execution_count": 8,
     "metadata": {},
     "output_type": "execute_result"
    }
   ],
   "source": [
    "@btime β_func(mc, σc, f)"
   ]
  },
  {
   "cell_type": "markdown",
   "metadata": {},
   "source": [
    "## test"
   ]
  },
  {
   "cell_type": "code",
   "execution_count": 9,
   "metadata": {},
   "outputs": [],
   "source": [
    "# 190924_021846, 190930_133541"
   ]
  },
  {
   "cell_type": "code",
   "execution_count": 10,
   "metadata": {},
   "outputs": [],
   "source": [
    "# using Plots, PairPlots\n",
    "# gr()\n",
    "# a = randn(1000)\n",
    "# c = randn(1000)\n",
    "# data = (post[:, 1], post[:, 2])\n",
    "\n",
    "# PairPlots.corner(data)"
   ]
  },
  {
   "cell_type": "code",
   "execution_count": 11,
   "metadata": {},
   "outputs": [
    {
     "name": "stdout",
     "output_type": "stream",
     "text": [
      "190924_021846\n"
     ]
    },
    {
     "data": {
      "image/png": "[encoded data removed]"
     },
     "execution_count": 11,
     "metadata": {},
     "output_type": "execute_result"
    }
   ],
   "source": [
    "event = \"190924_021846\"\n",
    "    \n",
    "println(event)\n",
    "post_file = \"LIGO-data/masses_source_frame_posterior/GW$(event)_posterior.txt\"\n",
    "post = readdlm(post_file);\n",
    "pyplot()\n",
    "scatter(post[:, 1], post[:, 2], markersize=0.5)\n",
    "hline!([3], leg=false)\n",
    "hline!([1], leg=false)\n",
    "xlabel!(L\"m_1/M_\\odot\")\n",
    "ylabel!(L\"m_2/M_\\odot\")\n",
    "title!(\"GW$event\")"
   ]
  },
  {
   "cell_type": "markdown",
   "metadata": {},
   "source": [
    "## LIGO data"
   ]
  },
  {
   "cell_type": "code",
   "execution_count": 12,
   "metadata": {},
   "outputs": [],
   "source": [
    "# function log_pR_func(mc, σc, f, post)\n",
    "#     int0(m1, m2) = mergerRateDensity(m1, m2, mc, σc, f) * post(m1, m2)\n",
    "#     int(m1, m2) = δm^2 * int0(m_min + δm * m1, m_min + δm * m2)\n",
    "#     function integrand(x, f)\n",
    "#         f[1] = int(x[1], x[2])\n",
    "#     end\n",
    "#     result, err = cuhre(integrand, rtol=1e-1)\n",
    "#     log(0.5 * abs(result[1]))\n",
    "# end"
   ]
  },
  {
   "cell_type": "code",
   "execution_count": 13,
   "metadata": {},
   "outputs": [
    {
     "data": {
      "text/plain": [
       "log_pR_func (generic function with 1 method)"
      ]
     },
     "execution_count": 13,
     "metadata": {},
     "output_type": "execute_result"
    }
   ],
   "source": [
    "function log_pR_func_1st(mc, σc, f, post)\n",
    "    int0(m1, m2) = mergerRateDensity1st(m1, m2, mc, σc, f) * post(m1, m2)\n",
    "    int(m1, m2) = δm^2 * int0(m_min + δm * m1, m_min + δm * m2)\n",
    "    function integrand(x, f)\n",
    "        f[1] = int(x[1], x[2])\n",
    "    end\n",
    "    result, err = cuhre(integrand, rtol=1e-1)\n",
    "    log(0.5 * abs(result[1]))\n",
    "end\n",
    "\n",
    "function log_pR_func_2nd(mc, σc, f, post)\n",
    "    \n",
    "    int00(i, j, e) = 1009.5488113544313 * f^(69/37) * i^(6/37) * (i+j)^(72/37) / j^(68/37) / σc^3 * exp(-(-3318*σc^4 + 1369*log(j/mc)^2)/(2738*σc^2)) * exp(-(1369*log(e/mc)^2 + 1369*log((-e+i)/mc)^2)/(2738*σc^2)) / (e^2 * (-e + i)^2) * post(i, j)\n",
    "#     int0(i, j, e) = 0.5 * (int00(i, j, e) + int00(j, i, e))\n",
    "    int(i, j, e) = δm^2 * (m_min + δm * i) * int00(m_min + δm * i, m_min + δm * j, (m_min + δm * i)*e)\n",
    "    function integrand(x, f)\n",
    "        f[1] = int(x[1], x[2], x[3])\n",
    "    end\n",
    "    result, err = cuhre(integrand, 3, 1, rtol=1e-1)\n",
    "    result[1]\n",
    "end\n",
    "\n",
    "log_pR_func(mc, σc, f, post) = log_pR_func_1st(mc, σc, f, post) + log_pR_func_2nd(mc, σc, f, post)"
   ]
  },
  {
   "cell_type": "code",
   "execution_count": 14,
   "metadata": {},
   "outputs": [
    {
     "name": "stdout",
     "output_type": "stream",
     "text": [
      "  0.056236 seconds (180.56 k allocations: 10.871 MiB, 99.18% compilation time)\n"
     ]
    },
    {
     "data": {
      "text/plain": [
       "-8.218407946793164"
      ]
     },
     "execution_count": 14,
     "metadata": {},
     "output_type": "execute_result"
    }
   ],
   "source": [
    "@time log_pR_func_1st(mc, σc, f, posts[8])"
   ]
  },
  {
   "cell_type": "code",
   "execution_count": 15,
   "metadata": {},
   "outputs": [
    {
     "name": "stdout",
     "output_type": "stream",
     "text": [
      "  0.056635 seconds (206.31 k allocations: 12.251 MiB, 97.70% compilation time)\n"
     ]
    },
    {
     "data": {
      "text/plain": [
       "6.973043678504772e-5"
      ]
     },
     "execution_count": 15,
     "metadata": {},
     "output_type": "execute_result"
    }
   ],
   "source": [
    "@time log_pR_func_2nd(mc, σc, f, posts[8])"
   ]
  },
  {
   "cell_type": "code",
   "execution_count": 16,
   "metadata": {},
   "outputs": [
    {
     "name": "stdout",
     "output_type": "stream",
     "text": [
      "  0.017384 seconds (80.09 k allocations: 4.571 MiB, 90.40% compilation time)\n"
     ]
    },
    {
     "data": {
      "text/plain": [
       "-8.21833821635638"
      ]
     },
     "execution_count": 16,
     "metadata": {},
     "output_type": "execute_result"
    }
   ],
   "source": [
    "@time log_pR_func(mc, σc, f, posts[8])"
   ]
  },
  {
   "cell_type": "code",
   "execution_count": 17,
   "metadata": {},
   "outputs": [
    {
     "data": {
      "text/plain": [
       "logL (generic function with 1 method)"
      ]
     },
     "execution_count": 17,
     "metadata": {},
     "output_type": "execute_result"
    }
   ],
   "source": [
    "function logL(mc, σc, log_fpbh, posts)\n",
    "    - β_func(mc, σc, 10.0^log_fpbh) + sum(log_pR_func.(mc, σc, 10.0^log_fpbh, posts))\n",
    "end"
   ]
  },
  {
   "cell_type": "code",
   "execution_count": 18,
   "metadata": {},
   "outputs": [
    {
     "name": "stdout",
     "output_type": "stream",
     "text": [
      "  100.482 ms (1325379 allocations: 60.46 MiB)\n"
     ]
    },
    {
     "data": {
      "text/plain": [
       "-431.625635616547"
      ]
     },
     "execution_count": 18,
     "metadata": {},
     "output_type": "execute_result"
    }
   ],
   "source": [
    "@btime logL(mc, σc, -3, posts)"
   ]
  },
  {
   "cell_type": "code",
   "execution_count": 20,
   "metadata": {},
   "outputs": [
    {
     "data": {
      "text/plain": [
       "-844.4042118410274"
      ]
     },
     "execution_count": 20,
     "metadata": {},
     "output_type": "execute_result"
    }
   ],
   "source": [
    "logL(17.068251251921872, 0.11702570160808631, -2.871914894259725, posts)"
   ]
  },
  {
   "cell_type": "markdown",
   "metadata": {},
   "source": [
    "## mcmc"
   ]
  },
  {
   "cell_type": "code",
   "execution_count": 18,
   "metadata": {},
   "outputs": [
    {
     "data": {
      "text/plain": [
       "LogDVal{Float64}(-430.43927699224326)"
      ]
     },
     "execution_count": 18,
     "metadata": {},
     "output_type": "execute_result"
    }
   ],
   "source": [
    "true_par_values = (mc=mc, σc=σc, log_fpbh=-3)\n",
    "likelihood(true_par_values)"
   ]
  },
  {
   "cell_type": "code",
   "execution_count": null,
   "metadata": {},
   "outputs": [
    {
     "name": "stdout",
     "output_type": "stream",
     "text": [
      "Start sampling.\n"
     ]
    },
    {
     "name": "stderr",
     "output_type": "stream",
     "text": [
      "┌ Info: Initializing new RNG of type Random123.Philox4x{UInt64, 10}\n",
      "└ @ BAT /home/czc/.julia/packages/BAT/XvOy6/src/algotypes/bat_default.jl:44\n",
      "┌ Info: Using transform algorithm PriorSubstitution()\n",
      "└ @ BAT /home/czc/.julia/packages/BAT/XvOy6/src/algotypes/bat_default.jl:44\n",
      "┌ Info: Trying to generate 4 viable MCMC chain(s).\n",
      "└ @ BAT /home/czc/.julia/packages/BAT/XvOy6/src/samplers/mcmc/chain_pool_init.jl:56\n"
     ]
    }
   ],
   "source": [
    "@time begin\n",
    "println(\"Start sampling.\")\n",
    "\n",
    "burnin = MCMCMultiCycleBurnin(max_ncycles=1000)\n",
    "samples, chains = bat_sample(posterior, MCMCSampling(mcalg=MetropolisHastings(), nsteps=10^5, nchains=4, burnin = burnin));\n",
    "    \n",
    "println(\" \")\n",
    "println(\"Finish sampling.\")\n",
    "end\n",
    "\n",
    "save(\"backup/samples_$model.jld2\", Dict(\"samples\" => samples, \"chains\" => chains))"
   ]
  },
  {
   "cell_type": "code",
   "execution_count": null,
   "metadata": {},
   "outputs": [],
   "source": [
    "samples = load(\"backup/samples_$model.jld2\")[\"samples\"];"
   ]
  },
  {
   "cell_type": "code",
   "execution_count": null,
   "metadata": {},
   "outputs": [],
   "source": [
    "plot(samples)"
   ]
  },
  {
   "cell_type": "code",
   "execution_count": null,
   "metadata": {},
   "outputs": [],
   "source": [
    "plot(\n",
    "    samples, :σc,\n",
    "    mean = true, std = true, globalmode = true, marginalmode = true,\n",
    "    nbins = 50, title = \"Marginalized Distribution for y\"\n",
    ")"
   ]
  },
  {
   "cell_type": "code",
   "execution_count": null,
   "metadata": {},
   "outputs": [],
   "source": [
    "sd = SampledDensity(posterior, samples)\n",
    "display(sd)"
   ]
  },
  {
   "cell_type": "code",
   "execution_count": 20,
   "metadata": {},
   "outputs": [
    {
     "data": {
      "text/plain": [
       "get_post (generic function with 1 method)"
      ]
     },
     "execution_count": 20,
     "metadata": {},
     "output_type": "execute_result"
    }
   ],
   "source": [
    "get_post(para, samples) = [a[para] for a in samples.v]"
   ]
  },
  {
   "cell_type": "code",
   "execution_count": 21,
   "metadata": {},
   "outputs": [],
   "source": [
    "log_p1_posts = get_post(:log_p1, samples)\n",
    "log_p2_posts = get_post(:log_p2, samples)\n",
    "log_p3_posts = get_post(:log_p3, samples)\n",
    "log_p4_posts = get_post(:log_p4, samples)\n",
    "log_fpbh_posts = get_post(:log_fpbh, samples)\n",
    "\n",
    "p1_posts = 10 .^ log_p1_posts\n",
    "p2_posts = 10 .^ log_p2_posts\n",
    "p3_posts = 10 .^ log_p3_posts\n",
    "p4_posts = 10 .^ log_p4_posts\n",
    "fpbh_posts = 10 .^ log_fpbh_posts\n",
    "\n",
    "p5_posts = get_p5.(p1_posts, p2_posts, p3_posts, p4_posts);\n",
    "log_p5_posts = log10.(p5_posts);"
   ]
  },
  {
   "cell_type": "code",
   "execution_count": 22,
   "metadata": {},
   "outputs": [],
   "source": [
    "p1_fpbh_posts = p1_posts .* fpbh_posts\n",
    "p2_fpbh_posts = p2_posts .* fpbh_posts\n",
    "p3_fpbh_posts = p3_posts .* fpbh_posts\n",
    "p4_fpbh_posts = p4_posts .* fpbh_posts\n",
    "p5_fpbh_posts = p5_posts .* fpbh_posts;\n",
    "\n",
    "log_p1_fpbh_posts = log10.(p1_fpbh_posts)\n",
    "log_p2_fpbh_posts = log10.(p2_fpbh_posts)\n",
    "log_p3_fpbh_posts = log10.(p3_fpbh_posts)\n",
    "log_p4_fpbh_posts = log10.(p4_fpbh_posts)\n",
    "log_p5_fpbh_posts = log10.(p5_fpbh_posts);"
   ]
  },
  {
   "cell_type": "code",
   "execution_count": 37,
   "metadata": {},
   "outputs": [],
   "source": [
    "# R_posts = zeros(length(p1_posts))\n",
    "# Threads.@threads for i in 1:length(R_posts)\n",
    "#     R_posts[i] = merger_rate(p1_posts[i], p2_posts[i], p3_posts[i], p4_posts[i], fpbh_posts[i])\n",
    "# end\n",
    "\n",
    "# save(\"backup/R_posts_$model.jld2\", Dict(\"samples\" => R_posts))\n",
    "R_posts = load(\"backup/R_posts_$model.jld2\")[\"samples\"];"
   ]
  },
  {
   "cell_type": "code",
   "execution_count": 38,
   "metadata": {},
   "outputs": [
    {
     "data": {
      "image/svg+xml": [
       "<?xml version=\"1.0\" encoding=\"utf-8\"?>\n",
       "<svg xmlns=\"http://www.w3.org/2000/svg\" xmlns:xlink=\"http://www.w3.org/1999/xlink\" width=\"600\" height=\"400\" viewBox=\"0 0 2400 1600\">\n",
       "<defs>\n",
       "  <clipPath id=\"clip420\">\n",
       "    <rect x=\"0\" y=\"0\" width=\"2400\" height=\"1600\"/>\n",
       "  </clipPath>\n",
       "</defs>\n",
       "<path clip-path=\"url(#clip420)\" d=\"\n",
       "M0 1600 L2400 1600 L2400 0 L0 0  Z\n",
       "  \" fill=\"#ffffff\" fill-rule=\"evenodd\" fill-opacity=\"1\"/>\n",
       "<defs>\n",
       "  <clipPath id=\"clip421\">\n",
       "    <rect x=\"480\" y=\"0\" width=\"1681\" height=\"1600\"/>\n",
       "  </clipPath>\n",
       "</defs>\n",
       "<path clip-path=\"url(#clip420)\" d=\"\n",
       "M201.019 1486.45 L2352.76 1486.45 L2352.76 47.2441 L201.019 47.2441  Z\n",
       "  \" fill=\"#ffffff\" fill-rule=\"evenodd\" fill-opacity=\"1\"/>\n",
       "<defs>\n",
       "  <clipPath id=\"clip422\">\n",
       "    <rect x=\"201\" y=\"47\" width=\"2153\" height=\"1440\"/>\n",
       "  </clipPath>\n",
       "</defs>\n",
       "<polyline clip-path=\"url(#clip422)\" style=\"stroke:#000000; stroke-linecap:butt; stroke-linejoin:round; stroke-width:2; stroke-opacity:0.1; fill:none\" points=\"\n",
       "  352.104,1486.45 352.104,47.2441 \n",
       "  \"/>\n",
       "<polyline clip-path=\"url(#clip422)\" style=\"stroke:#000000; stroke-linecap:butt; stroke-linejoin:round; stroke-width:2; stroke-opacity:0.1; fill:none\" points=\"\n",
       "  761.3,1486.45 761.3,47.2441 \n",
       "  \"/>\n",
       "<polyline clip-path=\"url(#clip422)\" style=\"stroke:#000000; stroke-linecap:butt; stroke-linejoin:round; stroke-width:2; stroke-opacity:0.1; fill:none\" points=\"\n",
       "  1170.5,1486.45 1170.5,47.2441 \n",
       "  \"/>\n",
       "<polyline clip-path=\"url(#clip422)\" style=\"stroke:#000000; stroke-linecap:butt; stroke-linejoin:round; stroke-width:2; stroke-opacity:0.1; fill:none\" points=\"\n",
       "  1579.69,1486.45 1579.69,47.2441 \n",
       "  \"/>\n",
       "<polyline clip-path=\"url(#clip422)\" style=\"stroke:#000000; stroke-linecap:butt; stroke-linejoin:round; stroke-width:2; stroke-opacity:0.1; fill:none\" points=\"\n",
       "  1988.89,1486.45 1988.89,47.2441 \n",
       "  \"/>\n",
       "<polyline clip-path=\"url(#clip420)\" style=\"stroke:#000000; stroke-linecap:butt; stroke-linejoin:round; stroke-width:4; stroke-opacity:1; fill:none\" points=\"\n",
       "  201.019,1486.45 2352.76,1486.45 \n",
       "  \"/>\n",
       "<polyline clip-path=\"url(#clip420)\" style=\"stroke:#000000; stroke-linecap:butt; stroke-linejoin:round; stroke-width:4; stroke-opacity:1; fill:none\" points=\"\n",
       "  352.104,1486.45 352.104,1467.55 \n",
       "  \"/>\n",
       "<polyline clip-path=\"url(#clip420)\" style=\"stroke:#000000; stroke-linecap:butt; stroke-linejoin:round; stroke-width:4; stroke-opacity:1; fill:none\" points=\"\n",
       "  761.3,1486.45 761.3,1467.55 \n",
       "  \"/>\n",
       "<polyline clip-path=\"url(#clip420)\" style=\"stroke:#000000; stroke-linecap:butt; stroke-linejoin:round; stroke-width:4; stroke-opacity:1; fill:none\" points=\"\n",
       "  1170.5,1486.45 1170.5,1467.55 \n",
       "  \"/>\n",
       "<polyline clip-path=\"url(#clip420)\" style=\"stroke:#000000; stroke-linecap:butt; stroke-linejoin:round; stroke-width:4; stroke-opacity:1; fill:none\" points=\"\n",
       "  1579.69,1486.45 1579.69,1467.55 \n",
       "  \"/>\n",
       "<polyline clip-path=\"url(#clip420)\" style=\"stroke:#000000; stroke-linecap:butt; stroke-linejoin:round; stroke-width:4; stroke-opacity:1; fill:none\" points=\"\n",
       "  1988.89,1486.45 1988.89,1467.55 \n",
       "  \"/>\n",
       "<path clip-path=\"url(#clip420)\" d=\"M299.13 1530.29 L328.806 1530.29 L328.806 1534.23 L299.13 1534.23 L299.13 1530.29 Z\" fill=\"#000000\" fill-rule=\"evenodd\" fill-opacity=\"1\" /><path clip-path=\"url(#clip420)\" d=\"M353.065 1528.49 Q356.421 1529.2 358.296 1531.47 Q360.195 1533.74 360.195 1537.07 Q360.195 1542.19 356.676 1544.99 Q353.158 1547.79 346.676 1547.79 Q344.5 1547.79 342.185 1547.35 Q339.894 1546.93 337.44 1546.08 L337.44 1541.56 Q339.384 1542.7 341.699 1543.28 Q344.014 1543.86 346.537 1543.86 Q350.935 1543.86 353.227 1542.12 Q355.542 1540.38 355.542 1537.07 Q355.542 1534.02 353.389 1532.31 Q351.259 1530.57 347.44 1530.57 L343.412 1530.57 L343.412 1526.73 L347.625 1526.73 Q351.074 1526.73 352.903 1525.36 Q354.732 1523.97 354.732 1521.38 Q354.732 1518.72 352.833 1517.31 Q350.959 1515.87 347.44 1515.87 Q345.519 1515.87 343.32 1516.29 Q341.121 1516.7 338.482 1517.58 L338.482 1513.42 Q341.144 1512.68 343.459 1512.31 Q345.796 1511.93 347.857 1511.93 Q353.181 1511.93 356.283 1514.37 Q359.384 1516.77 359.384 1520.89 Q359.384 1523.76 357.741 1525.75 Q356.097 1527.72 353.065 1528.49 Z\" fill=\"#000000\" fill-rule=\"evenodd\" fill-opacity=\"1\" /><path clip-path=\"url(#clip420)\" d=\"M369.06 1541.24 L373.944 1541.24 L373.944 1547.12 L369.06 1547.12 L369.06 1541.24 Z\" fill=\"#000000\" fill-rule=\"evenodd\" fill-opacity=\"1\" /><path clip-path=\"url(#clip420)\" d=\"M384.176 1512.56 L402.532 1512.56 L402.532 1516.5 L388.458 1516.5 L388.458 1524.97 Q389.477 1524.62 390.495 1524.46 Q391.514 1524.27 392.532 1524.27 Q398.319 1524.27 401.699 1527.44 Q405.079 1530.62 405.079 1536.03 Q405.079 1541.61 401.606 1544.71 Q398.134 1547.79 391.815 1547.79 Q389.639 1547.79 387.37 1547.42 Q385.125 1547.05 382.718 1546.31 L382.718 1541.61 Q384.801 1542.74 387.023 1543.3 Q389.245 1543.86 391.722 1543.86 Q395.727 1543.86 398.065 1541.75 Q400.403 1539.64 400.403 1536.03 Q400.403 1532.42 398.065 1530.31 Q395.727 1528.21 391.722 1528.21 Q389.847 1528.21 387.972 1528.62 Q386.12 1529.04 384.176 1529.92 L384.176 1512.56 Z\" fill=\"#000000\" fill-rule=\"evenodd\" fill-opacity=\"1\" /><path clip-path=\"url(#clip420)\" d=\"M707.829 1530.29 L737.504 1530.29 L737.504 1534.23 L707.829 1534.23 L707.829 1530.29 Z\" fill=\"#000000\" fill-rule=\"evenodd\" fill-opacity=\"1\" /><path clip-path=\"url(#clip420)\" d=\"M761.763 1528.49 Q765.12 1529.2 766.995 1531.47 Q768.893 1533.74 768.893 1537.07 Q768.893 1542.19 765.375 1544.99 Q761.856 1547.79 755.375 1547.79 Q753.199 1547.79 750.884 1547.35 Q748.592 1546.93 746.139 1546.08 L746.139 1541.56 Q748.083 1542.7 750.398 1543.28 Q752.713 1543.86 755.236 1543.86 Q759.634 1543.86 761.925 1542.12 Q764.24 1540.38 764.24 1537.07 Q764.24 1534.02 762.087 1532.31 Q759.958 1530.57 756.138 1530.57 L752.111 1530.57 L752.111 1526.73 L756.324 1526.73 Q759.773 1526.73 761.601 1525.36 Q763.43 1523.97 763.43 1521.38 Q763.43 1518.72 761.532 1517.31 Q759.657 1515.87 756.138 1515.87 Q754.217 1515.87 752.018 1516.29 Q749.819 1516.7 747.18 1517.58 L747.18 1513.42 Q749.842 1512.68 752.157 1512.31 Q754.495 1511.93 756.555 1511.93 Q761.879 1511.93 764.981 1514.37 Q768.083 1516.77 768.083 1520.89 Q768.083 1523.76 766.439 1525.75 Q764.796 1527.72 761.763 1528.49 Z\" fill=\"#000000\" fill-rule=\"evenodd\" fill-opacity=\"1\" /><path clip-path=\"url(#clip420)\" d=\"M777.759 1541.24 L782.643 1541.24 L782.643 1547.12 L777.759 1547.12 L777.759 1541.24 Z\" fill=\"#000000\" fill-rule=\"evenodd\" fill-opacity=\"1\" /><path clip-path=\"url(#clip420)\" d=\"M802.828 1515.64 Q799.217 1515.64 797.388 1519.2 Q795.583 1522.75 795.583 1529.87 Q795.583 1536.98 797.388 1540.55 Q799.217 1544.09 802.828 1544.09 Q806.462 1544.09 808.268 1540.55 Q810.097 1536.98 810.097 1529.87 Q810.097 1522.75 808.268 1519.2 Q806.462 1515.64 802.828 1515.64 M802.828 1511.93 Q808.638 1511.93 811.694 1516.54 Q814.772 1521.12 814.772 1529.87 Q814.772 1538.6 811.694 1543.21 Q808.638 1547.79 802.828 1547.79 Q797.018 1547.79 793.939 1543.21 Q790.884 1538.6 790.884 1529.87 Q790.884 1521.12 793.939 1516.54 Q797.018 1511.93 802.828 1511.93 Z\" fill=\"#000000\" fill-rule=\"evenodd\" fill-opacity=\"1\" /><path clip-path=\"url(#clip420)\" d=\"M1117.52 1530.29 L1147.2 1530.29 L1147.2 1534.23 L1117.52 1534.23 L1117.52 1530.29 Z\" fill=\"#000000\" fill-rule=\"evenodd\" fill-opacity=\"1\" /><path clip-path=\"url(#clip420)\" d=\"M1161.32 1543.18 L1177.64 1543.18 L1177.64 1547.12 L1155.69 1547.12 L1155.69 1543.18 Q1158.36 1540.43 1162.94 1535.8 Q1167.55 1531.15 1168.73 1529.81 Q1170.97 1527.28 1171.85 1525.55 Q1172.75 1523.79 1172.75 1522.1 Q1172.75 1519.34 1170.81 1517.61 Q1168.89 1515.87 1165.79 1515.87 Q1163.59 1515.87 1161.13 1516.63 Q1158.7 1517.4 1155.92 1518.95 L1155.92 1514.23 Q1158.75 1513.09 1161.2 1512.51 Q1163.66 1511.93 1165.69 1511.93 Q1171.06 1511.93 1174.26 1514.62 Q1177.45 1517.31 1177.45 1521.8 Q1177.45 1523.93 1176.64 1525.85 Q1175.86 1527.74 1173.75 1530.34 Q1173.17 1531.01 1170.07 1534.23 Q1166.97 1537.42 1161.32 1543.18 Z\" fill=\"#000000\" fill-rule=\"evenodd\" fill-opacity=\"1\" /><path clip-path=\"url(#clip420)\" d=\"M1187.45 1541.24 L1192.34 1541.24 L1192.34 1547.12 L1187.45 1547.12 L1187.45 1541.24 Z\" fill=\"#000000\" fill-rule=\"evenodd\" fill-opacity=\"1\" /><path clip-path=\"url(#clip420)\" d=\"M1202.57 1512.56 L1220.92 1512.56 L1220.92 1516.5 L1206.85 1516.5 L1206.85 1524.97 Q1207.87 1524.62 1208.89 1524.46 Q1209.91 1524.27 1210.92 1524.27 Q1216.71 1524.27 1220.09 1527.44 Q1223.47 1530.62 1223.47 1536.03 Q1223.47 1541.61 1220 1544.71 Q1216.53 1547.79 1210.21 1547.79 Q1208.03 1547.79 1205.76 1547.42 Q1203.52 1547.05 1201.11 1546.31 L1201.11 1541.61 Q1203.19 1542.74 1205.42 1543.3 Q1207.64 1543.86 1210.11 1543.86 Q1214.12 1543.86 1216.46 1541.75 Q1218.79 1539.64 1218.79 1536.03 Q1218.79 1532.42 1216.46 1530.31 Q1214.12 1528.21 1210.11 1528.21 Q1208.24 1528.21 1206.36 1528.62 Q1204.51 1529.04 1202.57 1529.92 L1202.57 1512.56 Z\" fill=\"#000000\" fill-rule=\"evenodd\" fill-opacity=\"1\" /><path clip-path=\"url(#clip420)\" d=\"M1526.22 1530.29 L1555.9 1530.29 L1555.9 1534.23 L1526.22 1534.23 L1526.22 1530.29 Z\" fill=\"#000000\" fill-rule=\"evenodd\" fill-opacity=\"1\" /><path clip-path=\"url(#clip420)\" d=\"M1570.02 1543.18 L1586.34 1543.18 L1586.34 1547.12 L1564.39 1547.12 L1564.39 1543.18 Q1567.05 1540.43 1571.64 1535.8 Q1576.24 1531.15 1577.42 1529.81 Q1579.67 1527.28 1580.55 1525.55 Q1581.45 1523.79 1581.45 1522.1 Q1581.45 1519.34 1579.51 1517.61 Q1577.59 1515.87 1574.48 1515.87 Q1572.29 1515.87 1569.83 1516.63 Q1567.4 1517.4 1564.62 1518.95 L1564.62 1514.23 Q1567.45 1513.09 1569.9 1512.51 Q1572.35 1511.93 1574.39 1511.93 Q1579.76 1511.93 1582.96 1514.62 Q1586.15 1517.31 1586.15 1521.8 Q1586.15 1523.93 1585.34 1525.85 Q1584.55 1527.74 1582.45 1530.34 Q1581.87 1531.01 1578.77 1534.23 Q1575.66 1537.42 1570.02 1543.18 Z\" fill=\"#000000\" fill-rule=\"evenodd\" fill-opacity=\"1\" /><path clip-path=\"url(#clip420)\" d=\"M1596.15 1541.24 L1601.04 1541.24 L1601.04 1547.12 L1596.15 1547.12 L1596.15 1541.24 Z\" fill=\"#000000\" fill-rule=\"evenodd\" fill-opacity=\"1\" /><path clip-path=\"url(#clip420)\" d=\"M1621.22 1515.64 Q1617.61 1515.64 1615.78 1519.2 Q1613.97 1522.75 1613.97 1529.87 Q1613.97 1536.98 1615.78 1540.55 Q1617.61 1544.09 1621.22 1544.09 Q1624.85 1544.09 1626.66 1540.55 Q1628.49 1536.98 1628.49 1529.87 Q1628.49 1522.75 1626.66 1519.2 Q1624.85 1515.64 1621.22 1515.64 M1621.22 1511.93 Q1627.03 1511.93 1630.09 1516.54 Q1633.16 1521.12 1633.16 1529.87 Q1633.16 1538.6 1630.09 1543.21 Q1627.03 1547.79 1621.22 1547.79 Q1615.41 1547.79 1612.33 1543.21 Q1609.28 1538.6 1609.28 1529.87 Q1609.28 1521.12 1612.33 1516.54 Q1615.41 1511.93 1621.22 1511.93 Z\" fill=\"#000000\" fill-rule=\"evenodd\" fill-opacity=\"1\" /><path clip-path=\"url(#clip420)\" d=\"M1935.91 1530.29 L1965.59 1530.29 L1965.59 1534.23 L1935.91 1534.23 L1935.91 1530.29 Z\" fill=\"#000000\" fill-rule=\"evenodd\" fill-opacity=\"1\" /><path clip-path=\"url(#clip420)\" d=\"M1976.49 1543.18 L1984.13 1543.18 L1984.13 1516.82 L1975.82 1518.49 L1975.82 1514.23 L1984.09 1512.56 L1988.76 1512.56 L1988.76 1543.18 L1996.4 1543.18 L1996.4 1547.12 L1976.49 1547.12 L1976.49 1543.18 Z\" fill=\"#000000\" fill-rule=\"evenodd\" fill-opacity=\"1\" /><path clip-path=\"url(#clip420)\" d=\"M2005.84 1541.24 L2010.73 1541.24 L2010.73 1547.12 L2005.84 1547.12 L2005.84 1541.24 Z\" fill=\"#000000\" fill-rule=\"evenodd\" fill-opacity=\"1\" /><path clip-path=\"url(#clip420)\" d=\"M2020.96 1512.56 L2039.32 1512.56 L2039.32 1516.5 L2025.24 1516.5 L2025.24 1524.97 Q2026.26 1524.62 2027.28 1524.46 Q2028.3 1524.27 2029.32 1524.27 Q2035.1 1524.27 2038.48 1527.44 Q2041.86 1530.62 2041.86 1536.03 Q2041.86 1541.61 2038.39 1544.71 Q2034.92 1547.79 2028.6 1547.79 Q2026.42 1547.79 2024.15 1547.42 Q2021.91 1547.05 2019.5 1546.31 L2019.5 1541.61 Q2021.59 1542.74 2023.81 1543.3 Q2026.03 1543.86 2028.51 1543.86 Q2032.51 1543.86 2034.85 1541.75 Q2037.19 1539.64 2037.19 1536.03 Q2037.19 1532.42 2034.85 1530.31 Q2032.51 1528.21 2028.51 1528.21 Q2026.63 1528.21 2024.76 1528.62 Q2022.9 1529.04 2020.96 1529.92 L2020.96 1512.56 Z\" fill=\"#000000\" fill-rule=\"evenodd\" fill-opacity=\"1\" /><polyline clip-path=\"url(#clip422)\" style=\"stroke:#000000; stroke-linecap:butt; stroke-linejoin:round; stroke-width:2; stroke-opacity:0.1; fill:none\" points=\"\n",
       "  201.019,1445.72 2352.76,1445.72 \n",
       "  \"/>\n",
       "<polyline clip-path=\"url(#clip422)\" style=\"stroke:#000000; stroke-linecap:butt; stroke-linejoin:round; stroke-width:2; stroke-opacity:0.1; fill:none\" points=\"\n",
       "  201.019,1039.69 2352.76,1039.69 \n",
       "  \"/>\n",
       "<polyline clip-path=\"url(#clip422)\" style=\"stroke:#000000; stroke-linecap:butt; stroke-linejoin:round; stroke-width:2; stroke-opacity:0.1; fill:none\" points=\"\n",
       "  201.019,633.671 2352.76,633.671 \n",
       "  \"/>\n",
       "<polyline clip-path=\"url(#clip422)\" style=\"stroke:#000000; stroke-linecap:butt; stroke-linejoin:round; stroke-width:2; stroke-opacity:0.1; fill:none\" points=\"\n",
       "  201.019,227.648 2352.76,227.648 \n",
       "  \"/>\n",
       "<polyline clip-path=\"url(#clip420)\" style=\"stroke:#000000; stroke-linecap:butt; stroke-linejoin:round; stroke-width:4; stroke-opacity:1; fill:none\" points=\"\n",
       "  201.019,1486.45 201.019,47.2441 \n",
       "  \"/>\n",
       "<polyline clip-path=\"url(#clip420)\" style=\"stroke:#000000; stroke-linecap:butt; stroke-linejoin:round; stroke-width:4; stroke-opacity:1; fill:none\" points=\"\n",
       "  201.019,1445.72 219.917,1445.72 \n",
       "  \"/>\n",
       "<polyline clip-path=\"url(#clip420)\" style=\"stroke:#000000; stroke-linecap:butt; stroke-linejoin:round; stroke-width:4; stroke-opacity:1; fill:none\" points=\"\n",
       "  201.019,1039.69 219.917,1039.69 \n",
       "  \"/>\n",
       "<polyline clip-path=\"url(#clip420)\" style=\"stroke:#000000; stroke-linecap:butt; stroke-linejoin:round; stroke-width:4; stroke-opacity:1; fill:none\" points=\"\n",
       "  201.019,633.671 219.917,633.671 \n",
       "  \"/>\n",
       "<polyline clip-path=\"url(#clip420)\" style=\"stroke:#000000; stroke-linecap:butt; stroke-linejoin:round; stroke-width:4; stroke-opacity:1; fill:none\" points=\"\n",
       "  201.019,227.648 219.917,227.648 \n",
       "  \"/>\n",
       "<path clip-path=\"url(#clip420)\" d=\"M153.075 1431.51 Q149.464 1431.51 147.635 1435.08 Q145.83 1438.62 145.83 1445.75 Q145.83 1452.86 147.635 1456.42 Q149.464 1459.96 153.075 1459.96 Q156.709 1459.96 158.515 1456.42 Q160.343 1452.86 160.343 1445.75 Q160.343 1438.62 158.515 1435.08 Q156.709 1431.51 153.075 1431.51 M153.075 1427.81 Q158.885 1427.81 161.941 1432.42 Q165.019 1437 165.019 1445.75 Q165.019 1454.48 161.941 1459.08 Q158.885 1463.67 153.075 1463.67 Q147.265 1463.67 144.186 1459.08 Q141.131 1454.48 141.131 1445.75 Q141.131 1437 144.186 1432.42 Q147.265 1427.81 153.075 1427.81 Z\" fill=\"#000000\" fill-rule=\"evenodd\" fill-opacity=\"1\" /><path clip-path=\"url(#clip420)\" d=\"M53.3995 1053.04 L61.0384 1053.04 L61.0384 1026.67 L52.7282 1028.34 L52.7282 1024.08 L60.9921 1022.41 L65.668 1022.41 L65.668 1053.04 L73.3068 1053.04 L73.3068 1056.97 L53.3995 1056.97 L53.3995 1053.04 Z\" fill=\"#000000\" fill-rule=\"evenodd\" fill-opacity=\"1\" /><path clip-path=\"url(#clip420)\" d=\"M92.7512 1025.49 Q89.1401 1025.49 87.3114 1029.06 Q85.5058 1032.6 85.5058 1039.73 Q85.5058 1046.83 87.3114 1050.4 Q89.1401 1053.94 92.7512 1053.94 Q96.3854 1053.94 98.1909 1050.4 Q100.02 1046.83 100.02 1039.73 Q100.02 1032.6 98.1909 1029.06 Q96.3854 1025.49 92.7512 1025.49 M92.7512 1021.79 Q98.5613 1021.79 101.617 1026.39 Q104.696 1030.98 104.696 1039.73 Q104.696 1048.45 101.617 1053.06 Q98.5613 1057.64 92.7512 1057.64 Q86.941 1057.64 83.8623 1053.06 Q80.8068 1048.45 80.8068 1039.73 Q80.8068 1030.98 83.8623 1026.39 Q86.941 1021.79 92.7512 1021.79 Z\" fill=\"#000000\" fill-rule=\"evenodd\" fill-opacity=\"1\" /><path clip-path=\"url(#clip420)\" d=\"M122.913 1025.49 Q119.302 1025.49 117.473 1029.06 Q115.668 1032.6 115.668 1039.73 Q115.668 1046.83 117.473 1050.4 Q119.302 1053.94 122.913 1053.94 Q126.547 1053.94 128.353 1050.4 Q130.182 1046.83 130.182 1039.73 Q130.182 1032.6 128.353 1029.06 Q126.547 1025.49 122.913 1025.49 M122.913 1021.79 Q128.723 1021.79 131.779 1026.39 Q134.857 1030.98 134.857 1039.73 Q134.857 1048.45 131.779 1053.06 Q128.723 1057.64 122.913 1057.64 Q117.103 1057.64 114.024 1053.06 Q110.969 1048.45 110.969 1039.73 Q110.969 1030.98 114.024 1026.39 Q117.103 1021.79 122.913 1021.79 Z\" fill=\"#000000\" fill-rule=\"evenodd\" fill-opacity=\"1\" /><path clip-path=\"url(#clip420)\" d=\"M153.075 1025.49 Q149.464 1025.49 147.635 1029.06 Q145.83 1032.6 145.83 1039.73 Q145.83 1046.83 147.635 1050.4 Q149.464 1053.94 153.075 1053.94 Q156.709 1053.94 158.515 1050.4 Q160.343 1046.83 160.343 1039.73 Q160.343 1032.6 158.515 1029.06 Q156.709 1025.49 153.075 1025.49 M153.075 1021.79 Q158.885 1021.79 161.941 1026.39 Q165.019 1030.98 165.019 1039.73 Q165.019 1048.45 161.941 1053.06 Q158.885 1057.64 153.075 1057.64 Q147.265 1057.64 144.186 1053.06 Q141.131 1048.45 141.131 1039.73 Q141.131 1030.98 144.186 1026.39 Q147.265 1021.79 153.075 1021.79 Z\" fill=\"#000000\" fill-rule=\"evenodd\" fill-opacity=\"1\" /><path clip-path=\"url(#clip420)\" d=\"M56.6171 647.015 L72.9365 647.015 L72.9365 650.951 L50.9921 650.951 L50.9921 647.015 Q53.6541 644.261 58.2375 639.631 Q62.8439 634.978 64.0245 633.636 Q66.2698 631.113 67.1494 629.377 Q68.0522 627.617 68.0522 625.928 Q68.0522 623.173 66.1078 621.437 Q64.1865 619.701 61.0847 619.701 Q58.8856 619.701 56.4319 620.465 Q54.0014 621.229 51.2236 622.779 L51.2236 618.057 Q54.0477 616.923 56.5014 616.344 Q58.955 615.766 60.9921 615.766 Q66.3624 615.766 69.5568 618.451 Q72.7513 621.136 72.7513 625.627 Q72.7513 627.756 71.9411 629.678 Q71.1541 631.576 69.0476 634.168 Q68.4689 634.84 65.367 638.057 Q62.2652 641.252 56.6171 647.015 Z\" fill=\"#000000\" fill-rule=\"evenodd\" fill-opacity=\"1\" /><path clip-path=\"url(#clip420)\" d=\"M92.7512 619.469 Q89.1401 619.469 87.3114 623.034 Q85.5058 626.576 85.5058 633.705 Q85.5058 640.812 87.3114 644.377 Q89.1401 647.918 92.7512 647.918 Q96.3854 647.918 98.1909 644.377 Q100.02 640.812 100.02 633.705 Q100.02 626.576 98.1909 623.034 Q96.3854 619.469 92.7512 619.469 M92.7512 615.766 Q98.5613 615.766 101.617 620.372 Q104.696 624.955 104.696 633.705 Q104.696 642.432 101.617 647.039 Q98.5613 651.622 92.7512 651.622 Q86.941 651.622 83.8623 647.039 Q80.8068 642.432 80.8068 633.705 Q80.8068 624.955 83.8623 620.372 Q86.941 615.766 92.7512 615.766 Z\" fill=\"#000000\" fill-rule=\"evenodd\" fill-opacity=\"1\" /><path clip-path=\"url(#clip420)\" d=\"M122.913 619.469 Q119.302 619.469 117.473 623.034 Q115.668 626.576 115.668 633.705 Q115.668 640.812 117.473 644.377 Q119.302 647.918 122.913 647.918 Q126.547 647.918 128.353 644.377 Q130.182 640.812 130.182 633.705 Q130.182 626.576 128.353 623.034 Q126.547 619.469 122.913 619.469 M122.913 615.766 Q128.723 615.766 131.779 620.372 Q134.857 624.955 134.857 633.705 Q134.857 642.432 131.779 647.039 Q128.723 651.622 122.913 651.622 Q117.103 651.622 114.024 647.039 Q110.969 642.432 110.969 633.705 Q110.969 624.955 114.024 620.372 Q117.103 615.766 122.913 615.766 Z\" fill=\"#000000\" fill-rule=\"evenodd\" fill-opacity=\"1\" /><path clip-path=\"url(#clip420)\" d=\"M153.075 619.469 Q149.464 619.469 147.635 623.034 Q145.83 626.576 145.83 633.705 Q145.83 640.812 147.635 644.377 Q149.464 647.918 153.075 647.918 Q156.709 647.918 158.515 644.377 Q160.343 640.812 160.343 633.705 Q160.343 626.576 158.515 623.034 Q156.709 619.469 153.075 619.469 M153.075 615.766 Q158.885 615.766 161.941 620.372 Q165.019 624.955 165.019 633.705 Q165.019 642.432 161.941 647.039 Q158.885 651.622 153.075 651.622 Q147.265 651.622 144.186 647.039 Q141.131 642.432 141.131 633.705 Q141.131 624.955 144.186 620.372 Q147.265 615.766 153.075 615.766 Z\" fill=\"#000000\" fill-rule=\"evenodd\" fill-opacity=\"1\" /><path clip-path=\"url(#clip420)\" d=\"M66.7559 226.294 Q70.1124 227.011 71.9874 229.28 Q73.8855 231.548 73.8855 234.882 Q73.8855 239.998 70.367 242.798 Q66.8485 245.599 60.3671 245.599 Q58.1912 245.599 55.8764 245.16 Q53.5847 244.743 51.131 243.886 L51.131 239.373 Q53.0754 240.507 55.3903 241.085 Q57.7051 241.664 60.2282 241.664 Q64.6263 241.664 66.918 239.928 Q69.2328 238.192 69.2328 234.882 Q69.2328 231.826 67.08 230.113 Q64.9504 228.377 61.131 228.377 L57.1032 228.377 L57.1032 224.535 L61.3161 224.535 Q64.7652 224.535 66.5939 223.169 Q68.4226 221.78 68.4226 219.187 Q68.4226 216.525 66.5245 215.113 Q64.6495 213.678 61.131 213.678 Q59.2097 213.678 57.0106 214.095 Q54.8115 214.512 52.1727 215.391 L52.1727 211.225 Q54.8347 210.484 57.1495 210.113 Q59.4875 209.743 61.5476 209.743 Q66.8717 209.743 69.9735 212.174 Q73.0753 214.581 73.0753 218.701 Q73.0753 221.572 71.4318 223.562 Q69.7883 225.53 66.7559 226.294 Z\" fill=\"#000000\" fill-rule=\"evenodd\" fill-opacity=\"1\" /><path clip-path=\"url(#clip420)\" d=\"M92.7512 213.447 Q89.1401 213.447 87.3114 217.012 Q85.5058 220.553 85.5058 227.683 Q85.5058 234.789 87.3114 238.354 Q89.1401 241.896 92.7512 241.896 Q96.3854 241.896 98.1909 238.354 Q100.02 234.789 100.02 227.683 Q100.02 220.553 98.1909 217.012 Q96.3854 213.447 92.7512 213.447 M92.7512 209.743 Q98.5613 209.743 101.617 214.349 Q104.696 218.933 104.696 227.683 Q104.696 236.41 101.617 241.016 Q98.5613 245.599 92.7512 245.599 Q86.941 245.599 83.8623 241.016 Q80.8068 236.41 80.8068 227.683 Q80.8068 218.933 83.8623 214.349 Q86.941 209.743 92.7512 209.743 Z\" fill=\"#000000\" fill-rule=\"evenodd\" fill-opacity=\"1\" /><path clip-path=\"url(#clip420)\" d=\"M122.913 213.447 Q119.302 213.447 117.473 217.012 Q115.668 220.553 115.668 227.683 Q115.668 234.789 117.473 238.354 Q119.302 241.896 122.913 241.896 Q126.547 241.896 128.353 238.354 Q130.182 234.789 130.182 227.683 Q130.182 220.553 128.353 217.012 Q126.547 213.447 122.913 213.447 M122.913 209.743 Q128.723 209.743 131.779 214.349 Q134.857 218.933 134.857 227.683 Q134.857 236.41 131.779 241.016 Q128.723 245.599 122.913 245.599 Q117.103 245.599 114.024 241.016 Q110.969 236.41 110.969 227.683 Q110.969 218.933 114.024 214.349 Q117.103 209.743 122.913 209.743 Z\" fill=\"#000000\" fill-rule=\"evenodd\" fill-opacity=\"1\" /><path clip-path=\"url(#clip420)\" d=\"M153.075 213.447 Q149.464 213.447 147.635 217.012 Q145.83 220.553 145.83 227.683 Q145.83 234.789 147.635 238.354 Q149.464 241.896 153.075 241.896 Q156.709 241.896 158.515 238.354 Q160.343 234.789 160.343 227.683 Q160.343 220.553 158.515 217.012 Q156.709 213.447 153.075 213.447 M153.075 209.743 Q158.885 209.743 161.941 214.349 Q165.019 218.933 165.019 227.683 Q165.019 236.41 161.941 241.016 Q158.885 245.599 153.075 245.599 Q147.265 245.599 144.186 241.016 Q141.131 236.41 141.131 227.683 Q141.131 218.933 144.186 214.349 Q147.265 209.743 153.075 209.743 Z\" fill=\"#000000\" fill-rule=\"evenodd\" fill-opacity=\"1\" /><path clip-path=\"url(#clip422)\" d=\"\n",
       "M319.369 1444.9 L319.369 1445.72 L335.736 1445.72 L335.736 1444.9 L319.369 1444.9 L319.369 1444.9  Z\n",
       "  \" fill=\"#009af9\" fill-rule=\"evenodd\" fill-opacity=\"1\"/>\n",
       "<polyline clip-path=\"url(#clip422)\" style=\"stroke:#000000; stroke-linecap:butt; stroke-linejoin:round; stroke-width:4; stroke-opacity:1; fill:none\" points=\"\n",
       "  319.369,1444.9 319.369,1445.72 335.736,1445.72 335.736,1444.9 319.369,1444.9 \n",
       "  \"/>\n",
       "<path clip-path=\"url(#clip422)\" d=\"\n",
       "M335.736 1442.06 L335.736 1445.72 L352.104 1445.72 L352.104 1442.06 L335.736 1442.06 L335.736 1442.06  Z\n",
       "  \" fill=\"#009af9\" fill-rule=\"evenodd\" fill-opacity=\"1\"/>\n",
       "<polyline clip-path=\"url(#clip422)\" style=\"stroke:#000000; stroke-linecap:butt; stroke-linejoin:round; stroke-width:4; stroke-opacity:1; fill:none\" points=\"\n",
       "  335.736,1442.06 335.736,1445.72 352.104,1445.72 352.104,1442.06 335.736,1442.06 \n",
       "  \"/>\n",
       "<path clip-path=\"url(#clip422)\" d=\"\n",
       "M352.104 1442.87 L352.104 1445.72 L368.472 1445.72 L368.472 1442.87 L352.104 1442.87 L352.104 1442.87  Z\n",
       "  \" fill=\"#009af9\" fill-rule=\"evenodd\" fill-opacity=\"1\"/>\n",
       "<polyline clip-path=\"url(#clip422)\" style=\"stroke:#000000; stroke-linecap:butt; stroke-linejoin:round; stroke-width:4; stroke-opacity:1; fill:none\" points=\"\n",
       "  352.104,1442.87 352.104,1445.72 368.472,1445.72 368.472,1442.87 352.104,1442.87 \n",
       "  \"/>\n",
       "<path clip-path=\"url(#clip422)\" d=\"\n",
       "M368.472 1445.31 L368.472 1445.72 L384.84 1445.72 L384.84 1445.31 L368.472 1445.31 L368.472 1445.31  Z\n",
       "  \" fill=\"#009af9\" fill-rule=\"evenodd\" fill-opacity=\"1\"/>\n",
       "<polyline clip-path=\"url(#clip422)\" style=\"stroke:#000000; stroke-linecap:butt; stroke-linejoin:round; stroke-width:4; stroke-opacity:1; fill:none\" points=\"\n",
       "  368.472,1445.31 368.472,1445.72 384.84,1445.72 384.84,1445.31 368.472,1445.31 \n",
       "  \"/>\n",
       "<path clip-path=\"url(#clip422)\" d=\"\n",
       "M384.84 1444.5 L384.84 1445.72 L401.208 1445.72 L401.208 1444.5 L384.84 1444.5 L384.84 1444.5  Z\n",
       "  \" fill=\"#009af9\" fill-rule=\"evenodd\" fill-opacity=\"1\"/>\n",
       "<polyline clip-path=\"url(#clip422)\" style=\"stroke:#000000; stroke-linecap:butt; stroke-linejoin:round; stroke-width:4; stroke-opacity:1; fill:none\" points=\"\n",
       "  384.84,1444.5 384.84,1445.72 401.208,1445.72 401.208,1444.5 384.84,1444.5 \n",
       "  \"/>\n",
       "<path clip-path=\"url(#clip422)\" d=\"\n",
       "M401.208 1444.9 L401.208 1445.72 L417.576 1445.72 L417.576 1444.9 L401.208 1444.9 L401.208 1444.9  Z\n",
       "  \" fill=\"#009af9\" fill-rule=\"evenodd\" fill-opacity=\"1\"/>\n",
       "<polyline clip-path=\"url(#clip422)\" style=\"stroke:#000000; stroke-linecap:butt; stroke-linejoin:round; stroke-width:4; stroke-opacity:1; fill:none\" points=\"\n",
       "  401.208,1444.9 401.208,1445.72 417.576,1445.72 417.576,1444.9 401.208,1444.9 \n",
       "  \"/>\n",
       "<path clip-path=\"url(#clip422)\" d=\"\n",
       "M417.576 1443.28 L417.576 1445.72 L433.944 1445.72 L433.944 1443.28 L417.576 1443.28 L417.576 1443.28  Z\n",
       "  \" fill=\"#009af9\" fill-rule=\"evenodd\" fill-opacity=\"1\"/>\n",
       "<polyline clip-path=\"url(#clip422)\" style=\"stroke:#000000; stroke-linecap:butt; stroke-linejoin:round; stroke-width:4; stroke-opacity:1; fill:none\" points=\"\n",
       "  417.576,1443.28 417.576,1445.72 433.944,1445.72 433.944,1443.28 417.576,1443.28 \n",
       "  \"/>\n",
       "<path clip-path=\"url(#clip422)\" d=\"\n",
       "M433.944 1442.47 L433.944 1445.72 L450.311 1445.72 L450.311 1442.47 L433.944 1442.47 L433.944 1442.47  Z\n",
       "  \" fill=\"#009af9\" fill-rule=\"evenodd\" fill-opacity=\"1\"/>\n",
       "<polyline clip-path=\"url(#clip422)\" style=\"stroke:#000000; stroke-linecap:butt; stroke-linejoin:round; stroke-width:4; stroke-opacity:1; fill:none\" points=\"\n",
       "  433.944,1442.47 433.944,1445.72 450.311,1445.72 450.311,1442.47 433.944,1442.47 \n",
       "  \"/>\n",
       "<path clip-path=\"url(#clip422)\" d=\"\n",
       "M450.311 1444.09 L450.311 1445.72 L466.679 1445.72 L466.679 1444.09 L450.311 1444.09 L450.311 1444.09  Z\n",
       "  \" fill=\"#009af9\" fill-rule=\"evenodd\" fill-opacity=\"1\"/>\n",
       "<polyline clip-path=\"url(#clip422)\" style=\"stroke:#000000; stroke-linecap:butt; stroke-linejoin:round; stroke-width:4; stroke-opacity:1; fill:none\" points=\"\n",
       "  450.311,1444.09 450.311,1445.72 466.679,1445.72 466.679,1444.09 450.311,1444.09 \n",
       "  \"/>\n",
       "<path clip-path=\"url(#clip422)\" d=\"\n",
       "M466.679 1441.66 L466.679 1445.72 L483.047 1445.72 L483.047 1441.66 L466.679 1441.66 L466.679 1441.66  Z\n",
       "  \" fill=\"#009af9\" fill-rule=\"evenodd\" fill-opacity=\"1\"/>\n",
       "<polyline clip-path=\"url(#clip422)\" style=\"stroke:#000000; stroke-linecap:butt; stroke-linejoin:round; stroke-width:4; stroke-opacity:1; fill:none\" points=\"\n",
       "  466.679,1441.66 466.679,1445.72 483.047,1445.72 483.047,1441.66 466.679,1441.66 \n",
       "  \"/>\n",
       "<path clip-path=\"url(#clip422)\" d=\"\n",
       "M483.047 1444.09 L483.047 1445.72 L499.415 1445.72 L499.415 1444.09 L483.047 1444.09 L483.047 1444.09  Z\n",
       "  \" fill=\"#009af9\" fill-rule=\"evenodd\" fill-opacity=\"1\"/>\n",
       "<polyline clip-path=\"url(#clip422)\" style=\"stroke:#000000; stroke-linecap:butt; stroke-linejoin:round; stroke-width:4; stroke-opacity:1; fill:none\" points=\"\n",
       "  483.047,1444.09 483.047,1445.72 499.415,1445.72 499.415,1444.09 483.047,1444.09 \n",
       "  \"/>\n",
       "<path clip-path=\"url(#clip422)\" d=\"\n",
       "M499.415 1443.69 L499.415 1445.72 L515.783 1445.72 L515.783 1443.69 L499.415 1443.69 L499.415 1443.69  Z\n",
       "  \" fill=\"#009af9\" fill-rule=\"evenodd\" fill-opacity=\"1\"/>\n",
       "<polyline clip-path=\"url(#clip422)\" style=\"stroke:#000000; stroke-linecap:butt; stroke-linejoin:round; stroke-width:4; stroke-opacity:1; fill:none\" points=\"\n",
       "  499.415,1443.69 499.415,1445.72 515.783,1445.72 515.783,1443.69 499.415,1443.69 \n",
       "  \"/>\n",
       "<path clip-path=\"url(#clip422)\" d=\"\n",
       "M515.783 1444.09 L515.783 1445.72 L532.151 1445.72 L532.151 1444.09 L515.783 1444.09 L515.783 1444.09  Z\n",
       "  \" fill=\"#009af9\" fill-rule=\"evenodd\" fill-opacity=\"1\"/>\n",
       "<polyline clip-path=\"url(#clip422)\" style=\"stroke:#000000; stroke-linecap:butt; stroke-linejoin:round; stroke-width:4; stroke-opacity:1; fill:none\" points=\"\n",
       "  515.783,1444.09 515.783,1445.72 532.151,1445.72 532.151,1444.09 515.783,1444.09 \n",
       "  \"/>\n",
       "<path clip-path=\"url(#clip422)\" d=\"\n",
       "M532.151 1443.28 L532.151 1445.72 L548.518 1445.72 L548.518 1443.28 L532.151 1443.28 L532.151 1443.28  Z\n",
       "  \" fill=\"#009af9\" fill-rule=\"evenodd\" fill-opacity=\"1\"/>\n",
       "<polyline clip-path=\"url(#clip422)\" style=\"stroke:#000000; stroke-linecap:butt; stroke-linejoin:round; stroke-width:4; stroke-opacity:1; fill:none\" points=\"\n",
       "  532.151,1443.28 532.151,1445.72 548.518,1445.72 548.518,1443.28 532.151,1443.28 \n",
       "  \"/>\n",
       "<path clip-path=\"url(#clip422)\" d=\"\n",
       "M548.518 1444.09 L548.518 1445.72 L564.886 1445.72 L564.886 1444.09 L548.518 1444.09 L548.518 1444.09  Z\n",
       "  \" fill=\"#009af9\" fill-rule=\"evenodd\" fill-opacity=\"1\"/>\n",
       "<polyline clip-path=\"url(#clip422)\" style=\"stroke:#000000; stroke-linecap:butt; stroke-linejoin:round; stroke-width:4; stroke-opacity:1; fill:none\" points=\"\n",
       "  548.518,1444.09 548.518,1445.72 564.886,1445.72 564.886,1444.09 548.518,1444.09 \n",
       "  \"/>\n",
       "<path clip-path=\"url(#clip422)\" d=\"\n",
       "M564.886 1439.63 L564.886 1445.72 L581.254 1445.72 L581.254 1439.63 L564.886 1439.63 L564.886 1439.63  Z\n",
       "  \" fill=\"#009af9\" fill-rule=\"evenodd\" fill-opacity=\"1\"/>\n",
       "<polyline clip-path=\"url(#clip422)\" style=\"stroke:#000000; stroke-linecap:butt; stroke-linejoin:round; stroke-width:4; stroke-opacity:1; fill:none\" points=\"\n",
       "  564.886,1439.63 564.886,1445.72 581.254,1445.72 581.254,1439.63 564.886,1439.63 \n",
       "  \"/>\n",
       "<path clip-path=\"url(#clip422)\" d=\"\n",
       "M581.254 1438 L581.254 1445.72 L597.622 1445.72 L597.622 1438 L581.254 1438 L581.254 1438  Z\n",
       "  \" fill=\"#009af9\" fill-rule=\"evenodd\" fill-opacity=\"1\"/>\n",
       "<polyline clip-path=\"url(#clip422)\" style=\"stroke:#000000; stroke-linecap:butt; stroke-linejoin:round; stroke-width:4; stroke-opacity:1; fill:none\" points=\"\n",
       "  581.254,1438 581.254,1445.72 597.622,1445.72 597.622,1438 581.254,1438 \n",
       "  \"/>\n",
       "<path clip-path=\"url(#clip422)\" d=\"\n",
       "M597.622 1429.88 L597.622 1445.72 L613.99 1445.72 L613.99 1429.88 L597.622 1429.88 L597.622 1429.88  Z\n",
       "  \" fill=\"#009af9\" fill-rule=\"evenodd\" fill-opacity=\"1\"/>\n",
       "<polyline clip-path=\"url(#clip422)\" style=\"stroke:#000000; stroke-linecap:butt; stroke-linejoin:round; stroke-width:4; stroke-opacity:1; fill:none\" points=\"\n",
       "  597.622,1429.88 597.622,1445.72 613.99,1445.72 613.99,1429.88 597.622,1429.88 \n",
       "  \"/>\n",
       "<path clip-path=\"url(#clip422)\" d=\"\n",
       "M613.99 1431.1 L613.99 1445.72 L630.358 1445.72 L630.358 1431.1 L613.99 1431.1 L613.99 1431.1  Z\n",
       "  \" fill=\"#009af9\" fill-rule=\"evenodd\" fill-opacity=\"1\"/>\n",
       "<polyline clip-path=\"url(#clip422)\" style=\"stroke:#000000; stroke-linecap:butt; stroke-linejoin:round; stroke-width:4; stroke-opacity:1; fill:none\" points=\"\n",
       "  613.99,1431.1 613.99,1445.72 630.358,1445.72 630.358,1431.1 613.99,1431.1 \n",
       "  \"/>\n",
       "<path clip-path=\"url(#clip422)\" d=\"\n",
       "M630.358 1428.26 L630.358 1445.72 L646.726 1445.72 L646.726 1428.26 L630.358 1428.26 L630.358 1428.26  Z\n",
       "  \" fill=\"#009af9\" fill-rule=\"evenodd\" fill-opacity=\"1\"/>\n",
       "<polyline clip-path=\"url(#clip422)\" style=\"stroke:#000000; stroke-linecap:butt; stroke-linejoin:round; stroke-width:4; stroke-opacity:1; fill:none\" points=\"\n",
       "  630.358,1428.26 630.358,1445.72 646.726,1445.72 646.726,1428.26 630.358,1428.26 \n",
       "  \"/>\n",
       "<path clip-path=\"url(#clip422)\" d=\"\n",
       "M646.726 1423.79 L646.726 1445.72 L663.093 1445.72 L663.093 1423.79 L646.726 1423.79 L646.726 1423.79  Z\n",
       "  \" fill=\"#009af9\" fill-rule=\"evenodd\" fill-opacity=\"1\"/>\n",
       "<polyline clip-path=\"url(#clip422)\" style=\"stroke:#000000; stroke-linecap:butt; stroke-linejoin:round; stroke-width:4; stroke-opacity:1; fill:none\" points=\"\n",
       "  646.726,1423.79 646.726,1445.72 663.093,1445.72 663.093,1423.79 646.726,1423.79 \n",
       "  \"/>\n",
       "<path clip-path=\"url(#clip422)\" d=\"\n",
       "M663.093 1419.32 L663.093 1445.72 L679.461 1445.72 L679.461 1419.32 L663.093 1419.32 L663.093 1419.32  Z\n",
       "  \" fill=\"#009af9\" fill-rule=\"evenodd\" fill-opacity=\"1\"/>\n",
       "<polyline clip-path=\"url(#clip422)\" style=\"stroke:#000000; stroke-linecap:butt; stroke-linejoin:round; stroke-width:4; stroke-opacity:1; fill:none\" points=\"\n",
       "  663.093,1419.32 663.093,1445.72 679.461,1445.72 679.461,1419.32 663.093,1419.32 \n",
       "  \"/>\n",
       "<path clip-path=\"url(#clip422)\" d=\"\n",
       "M679.461 1428.26 L679.461 1445.72 L695.829 1445.72 L695.829 1428.26 L679.461 1428.26 L679.461 1428.26  Z\n",
       "  \" fill=\"#009af9\" fill-rule=\"evenodd\" fill-opacity=\"1\"/>\n",
       "<polyline clip-path=\"url(#clip422)\" style=\"stroke:#000000; stroke-linecap:butt; stroke-linejoin:round; stroke-width:4; stroke-opacity:1; fill:none\" points=\"\n",
       "  679.461,1428.26 679.461,1445.72 695.829,1445.72 695.829,1428.26 679.461,1428.26 \n",
       "  \"/>\n",
       "<path clip-path=\"url(#clip422)\" d=\"\n",
       "M695.829 1428.66 L695.829 1445.72 L712.197 1445.72 L712.197 1428.66 L695.829 1428.66 L695.829 1428.66  Z\n",
       "  \" fill=\"#009af9\" fill-rule=\"evenodd\" fill-opacity=\"1\"/>\n",
       "<polyline clip-path=\"url(#clip422)\" style=\"stroke:#000000; stroke-linecap:butt; stroke-linejoin:round; stroke-width:4; stroke-opacity:1; fill:none\" points=\"\n",
       "  695.829,1428.66 695.829,1445.72 712.197,1445.72 712.197,1428.66 695.829,1428.66 \n",
       "  \"/>\n",
       "<path clip-path=\"url(#clip422)\" d=\"\n",
       "M712.197 1423.79 L712.197 1445.72 L728.565 1445.72 L728.565 1423.79 L712.197 1423.79 L712.197 1423.79  Z\n",
       "  \" fill=\"#009af9\" fill-rule=\"evenodd\" fill-opacity=\"1\"/>\n",
       "<polyline clip-path=\"url(#clip422)\" style=\"stroke:#000000; stroke-linecap:butt; stroke-linejoin:round; stroke-width:4; stroke-opacity:1; fill:none\" points=\"\n",
       "  712.197,1423.79 712.197,1445.72 728.565,1445.72 728.565,1423.79 712.197,1423.79 \n",
       "  \"/>\n",
       "<path clip-path=\"url(#clip422)\" d=\"\n",
       "M728.565 1424.6 L728.565 1445.72 L744.933 1445.72 L744.933 1424.6 L728.565 1424.6 L728.565 1424.6  Z\n",
       "  \" fill=\"#009af9\" fill-rule=\"evenodd\" fill-opacity=\"1\"/>\n",
       "<polyline clip-path=\"url(#clip422)\" style=\"stroke:#000000; stroke-linecap:butt; stroke-linejoin:round; stroke-width:4; stroke-opacity:1; fill:none\" points=\"\n",
       "  728.565,1424.6 728.565,1445.72 744.933,1445.72 744.933,1424.6 728.565,1424.6 \n",
       "  \"/>\n",
       "<path clip-path=\"url(#clip422)\" d=\"\n",
       "M744.933 1418.11 L744.933 1445.72 L761.3 1445.72 L761.3 1418.11 L744.933 1418.11 L744.933 1418.11  Z\n",
       "  \" fill=\"#009af9\" fill-rule=\"evenodd\" fill-opacity=\"1\"/>\n",
       "<polyline clip-path=\"url(#clip422)\" style=\"stroke:#000000; stroke-linecap:butt; stroke-linejoin:round; stroke-width:4; stroke-opacity:1; fill:none\" points=\"\n",
       "  744.933,1418.11 744.933,1445.72 761.3,1445.72 761.3,1418.11 744.933,1418.11 \n",
       "  \"/>\n",
       "<path clip-path=\"url(#clip422)\" d=\"\n",
       "M761.3 1421.35 L761.3 1445.72 L777.668 1445.72 L777.668 1421.35 L761.3 1421.35 L761.3 1421.35  Z\n",
       "  \" fill=\"#009af9\" fill-rule=\"evenodd\" fill-opacity=\"1\"/>\n",
       "<polyline clip-path=\"url(#clip422)\" style=\"stroke:#000000; stroke-linecap:butt; stroke-linejoin:round; stroke-width:4; stroke-opacity:1; fill:none\" points=\"\n",
       "  761.3,1421.35 761.3,1445.72 777.668,1445.72 777.668,1421.35 761.3,1421.35 \n",
       "  \"/>\n",
       "<path clip-path=\"url(#clip422)\" d=\"\n",
       "M777.668 1412.83 L777.668 1445.72 L794.036 1445.72 L794.036 1412.83 L777.668 1412.83 L777.668 1412.83  Z\n",
       "  \" fill=\"#009af9\" fill-rule=\"evenodd\" fill-opacity=\"1\"/>\n",
       "<polyline clip-path=\"url(#clip422)\" style=\"stroke:#000000; stroke-linecap:butt; stroke-linejoin:round; stroke-width:4; stroke-opacity:1; fill:none\" points=\"\n",
       "  777.668,1412.83 777.668,1445.72 794.036,1445.72 794.036,1412.83 777.668,1412.83 \n",
       "  \"/>\n",
       "<path clip-path=\"url(#clip422)\" d=\"\n",
       "M794.036 1411.61 L794.036 1445.72 L810.404 1445.72 L810.404 1411.61 L794.036 1411.61 L794.036 1411.61  Z\n",
       "  \" fill=\"#009af9\" fill-rule=\"evenodd\" fill-opacity=\"1\"/>\n",
       "<polyline clip-path=\"url(#clip422)\" style=\"stroke:#000000; stroke-linecap:butt; stroke-linejoin:round; stroke-width:4; stroke-opacity:1; fill:none\" points=\"\n",
       "  794.036,1411.61 794.036,1445.72 810.404,1445.72 810.404,1411.61 794.036,1411.61 \n",
       "  \"/>\n",
       "<path clip-path=\"url(#clip422)\" d=\"\n",
       "M810.404 1405.11 L810.404 1445.72 L826.772 1445.72 L826.772 1405.11 L810.404 1405.11 L810.404 1405.11  Z\n",
       "  \" fill=\"#009af9\" fill-rule=\"evenodd\" fill-opacity=\"1\"/>\n",
       "<polyline clip-path=\"url(#clip422)\" style=\"stroke:#000000; stroke-linecap:butt; stroke-linejoin:round; stroke-width:4; stroke-opacity:1; fill:none\" points=\"\n",
       "  810.404,1405.11 810.404,1445.72 826.772,1445.72 826.772,1405.11 810.404,1405.11 \n",
       "  \"/>\n",
       "<path clip-path=\"url(#clip422)\" d=\"\n",
       "M826.772 1403.08 L826.772 1445.72 L843.14 1445.72 L843.14 1403.08 L826.772 1403.08 L826.772 1403.08  Z\n",
       "  \" fill=\"#009af9\" fill-rule=\"evenodd\" fill-opacity=\"1\"/>\n",
       "<polyline clip-path=\"url(#clip422)\" style=\"stroke:#000000; stroke-linecap:butt; stroke-linejoin:round; stroke-width:4; stroke-opacity:1; fill:none\" points=\"\n",
       "  826.772,1403.08 826.772,1445.72 843.14,1445.72 843.14,1403.08 826.772,1403.08 \n",
       "  \"/>\n",
       "<path clip-path=\"url(#clip422)\" d=\"\n",
       "M843.14 1409.99 L843.14 1445.72 L859.508 1445.72 L859.508 1409.99 L843.14 1409.99 L843.14 1409.99  Z\n",
       "  \" fill=\"#009af9\" fill-rule=\"evenodd\" fill-opacity=\"1\"/>\n",
       "<polyline clip-path=\"url(#clip422)\" style=\"stroke:#000000; stroke-linecap:butt; stroke-linejoin:round; stroke-width:4; stroke-opacity:1; fill:none\" points=\"\n",
       "  843.14,1409.99 843.14,1445.72 859.508,1445.72 859.508,1409.99 843.14,1409.99 \n",
       "  \"/>\n",
       "<path clip-path=\"url(#clip422)\" d=\"\n",
       "M859.508 1403.08 L859.508 1445.72 L875.875 1445.72 L875.875 1403.08 L859.508 1403.08 L859.508 1403.08  Z\n",
       "  \" fill=\"#009af9\" fill-rule=\"evenodd\" fill-opacity=\"1\"/>\n",
       "<polyline clip-path=\"url(#clip422)\" style=\"stroke:#000000; stroke-linecap:butt; stroke-linejoin:round; stroke-width:4; stroke-opacity:1; fill:none\" points=\"\n",
       "  859.508,1403.08 859.508,1445.72 875.875,1445.72 875.875,1403.08 859.508,1403.08 \n",
       "  \"/>\n",
       "<path clip-path=\"url(#clip422)\" d=\"\n",
       "M875.875 1400.65 L875.875 1445.72 L892.243 1445.72 L892.243 1400.65 L875.875 1400.65 L875.875 1400.65  Z\n",
       "  \" fill=\"#009af9\" fill-rule=\"evenodd\" fill-opacity=\"1\"/>\n",
       "<polyline clip-path=\"url(#clip422)\" style=\"stroke:#000000; stroke-linecap:butt; stroke-linejoin:round; stroke-width:4; stroke-opacity:1; fill:none\" points=\"\n",
       "  875.875,1400.65 875.875,1445.72 892.243,1445.72 892.243,1400.65 875.875,1400.65 \n",
       "  \"/>\n",
       "<path clip-path=\"url(#clip422)\" d=\"\n",
       "M892.243 1392.93 L892.243 1445.72 L908.611 1445.72 L908.611 1392.93 L892.243 1392.93 L892.243 1392.93  Z\n",
       "  \" fill=\"#009af9\" fill-rule=\"evenodd\" fill-opacity=\"1\"/>\n",
       "<polyline clip-path=\"url(#clip422)\" style=\"stroke:#000000; stroke-linecap:butt; stroke-linejoin:round; stroke-width:4; stroke-opacity:1; fill:none\" points=\"\n",
       "  892.243,1392.93 892.243,1445.72 908.611,1445.72 908.611,1392.93 892.243,1392.93 \n",
       "  \"/>\n",
       "<path clip-path=\"url(#clip422)\" d=\"\n",
       "M908.611 1385.62 L908.611 1445.72 L924.979 1445.72 L924.979 1385.62 L908.611 1385.62 L908.611 1385.62  Z\n",
       "  \" fill=\"#009af9\" fill-rule=\"evenodd\" fill-opacity=\"1\"/>\n",
       "<polyline clip-path=\"url(#clip422)\" style=\"stroke:#000000; stroke-linecap:butt; stroke-linejoin:round; stroke-width:4; stroke-opacity:1; fill:none\" points=\"\n",
       "  908.611,1385.62 908.611,1445.72 924.979,1445.72 924.979,1385.62 908.611,1385.62 \n",
       "  \"/>\n",
       "<path clip-path=\"url(#clip422)\" d=\"\n",
       "M924.979 1382.78 L924.979 1445.72 L941.347 1445.72 L941.347 1382.78 L924.979 1382.78 L924.979 1382.78  Z\n",
       "  \" fill=\"#009af9\" fill-rule=\"evenodd\" fill-opacity=\"1\"/>\n",
       "<polyline clip-path=\"url(#clip422)\" style=\"stroke:#000000; stroke-linecap:butt; stroke-linejoin:round; stroke-width:4; stroke-opacity:1; fill:none\" points=\"\n",
       "  924.979,1382.78 924.979,1445.72 941.347,1445.72 941.347,1382.78 924.979,1382.78 \n",
       "  \"/>\n",
       "<path clip-path=\"url(#clip422)\" d=\"\n",
       "M941.347 1394.15 L941.347 1445.72 L957.715 1445.72 L957.715 1394.15 L941.347 1394.15 L941.347 1394.15  Z\n",
       "  \" fill=\"#009af9\" fill-rule=\"evenodd\" fill-opacity=\"1\"/>\n",
       "<polyline clip-path=\"url(#clip422)\" style=\"stroke:#000000; stroke-linecap:butt; stroke-linejoin:round; stroke-width:4; stroke-opacity:1; fill:none\" points=\"\n",
       "  941.347,1394.15 941.347,1445.72 957.715,1445.72 957.715,1394.15 941.347,1394.15 \n",
       "  \"/>\n",
       "<path clip-path=\"url(#clip422)\" d=\"\n",
       "M957.715 1379.13 L957.715 1445.72 L974.082 1445.72 L974.082 1379.13 L957.715 1379.13 L957.715 1379.13  Z\n",
       "  \" fill=\"#009af9\" fill-rule=\"evenodd\" fill-opacity=\"1\"/>\n",
       "<polyline clip-path=\"url(#clip422)\" style=\"stroke:#000000; stroke-linecap:butt; stroke-linejoin:round; stroke-width:4; stroke-opacity:1; fill:none\" points=\"\n",
       "  957.715,1379.13 957.715,1445.72 974.082,1445.72 974.082,1379.13 957.715,1379.13 \n",
       "  \"/>\n",
       "<path clip-path=\"url(#clip422)\" d=\"\n",
       "M974.082 1362.48 L974.082 1445.72 L990.45 1445.72 L990.45 1362.48 L974.082 1362.48 L974.082 1362.48  Z\n",
       "  \" fill=\"#009af9\" fill-rule=\"evenodd\" fill-opacity=\"1\"/>\n",
       "<polyline clip-path=\"url(#clip422)\" style=\"stroke:#000000; stroke-linecap:butt; stroke-linejoin:round; stroke-width:4; stroke-opacity:1; fill:none\" points=\"\n",
       "  974.082,1362.48 974.082,1445.72 990.45,1445.72 990.45,1362.48 974.082,1362.48 \n",
       "  \"/>\n",
       "<path clip-path=\"url(#clip422)\" d=\"\n",
       "M990.45 1349.89 L990.45 1445.72 L1006.82 1445.72 L1006.82 1349.89 L990.45 1349.89 L990.45 1349.89  Z\n",
       "  \" fill=\"#009af9\" fill-rule=\"evenodd\" fill-opacity=\"1\"/>\n",
       "<polyline clip-path=\"url(#clip422)\" style=\"stroke:#000000; stroke-linecap:butt; stroke-linejoin:round; stroke-width:4; stroke-opacity:1; fill:none\" points=\"\n",
       "  990.45,1349.89 990.45,1445.72 1006.82,1445.72 1006.82,1349.89 990.45,1349.89 \n",
       "  \"/>\n",
       "<path clip-path=\"url(#clip422)\" d=\"\n",
       "M1006.82 1319.04 L1006.82 1445.72 L1023.19 1445.72 L1023.19 1319.04 L1006.82 1319.04 L1006.82 1319.04  Z\n",
       "  \" fill=\"#009af9\" fill-rule=\"evenodd\" fill-opacity=\"1\"/>\n",
       "<polyline clip-path=\"url(#clip422)\" style=\"stroke:#000000; stroke-linecap:butt; stroke-linejoin:round; stroke-width:4; stroke-opacity:1; fill:none\" points=\"\n",
       "  1006.82,1319.04 1006.82,1445.72 1023.19,1445.72 1023.19,1319.04 1006.82,1319.04 \n",
       "  \"/>\n",
       "<path clip-path=\"url(#clip422)\" d=\"\n",
       "M1023.19 1311.73 L1023.19 1445.72 L1039.55 1445.72 L1039.55 1311.73 L1023.19 1311.73 L1023.19 1311.73  Z\n",
       "  \" fill=\"#009af9\" fill-rule=\"evenodd\" fill-opacity=\"1\"/>\n",
       "<polyline clip-path=\"url(#clip422)\" style=\"stroke:#000000; stroke-linecap:butt; stroke-linejoin:round; stroke-width:4; stroke-opacity:1; fill:none\" points=\"\n",
       "  1023.19,1311.73 1023.19,1445.72 1039.55,1445.72 1039.55,1311.73 1023.19,1311.73 \n",
       "  \"/>\n",
       "<path clip-path=\"url(#clip422)\" d=\"\n",
       "M1039.55 1312.54 L1039.55 1445.72 L1055.92 1445.72 L1055.92 1312.54 L1039.55 1312.54 L1039.55 1312.54  Z\n",
       "  \" fill=\"#009af9\" fill-rule=\"evenodd\" fill-opacity=\"1\"/>\n",
       "<polyline clip-path=\"url(#clip422)\" style=\"stroke:#000000; stroke-linecap:butt; stroke-linejoin:round; stroke-width:4; stroke-opacity:1; fill:none\" points=\"\n",
       "  1039.55,1312.54 1039.55,1445.72 1055.92,1445.72 1055.92,1312.54 1039.55,1312.54 \n",
       "  \"/>\n",
       "<path clip-path=\"url(#clip422)\" d=\"\n",
       "M1055.92 1288.99 L1055.92 1445.72 L1072.29 1445.72 L1072.29 1288.99 L1055.92 1288.99 L1055.92 1288.99  Z\n",
       "  \" fill=\"#009af9\" fill-rule=\"evenodd\" fill-opacity=\"1\"/>\n",
       "<polyline clip-path=\"url(#clip422)\" style=\"stroke:#000000; stroke-linecap:butt; stroke-linejoin:round; stroke-width:4; stroke-opacity:1; fill:none\" points=\"\n",
       "  1055.92,1288.99 1055.92,1445.72 1072.29,1445.72 1072.29,1288.99 1055.92,1288.99 \n",
       "  \"/>\n",
       "<path clip-path=\"url(#clip422)\" d=\"\n",
       "M1072.29 1262.6 L1072.29 1445.72 L1088.66 1445.72 L1088.66 1262.6 L1072.29 1262.6 L1072.29 1262.6  Z\n",
       "  \" fill=\"#009af9\" fill-rule=\"evenodd\" fill-opacity=\"1\"/>\n",
       "<polyline clip-path=\"url(#clip422)\" style=\"stroke:#000000; stroke-linecap:butt; stroke-linejoin:round; stroke-width:4; stroke-opacity:1; fill:none\" points=\"\n",
       "  1072.29,1262.6 1072.29,1445.72 1088.66,1445.72 1088.66,1262.6 1072.29,1262.6 \n",
       "  \"/>\n",
       "<path clip-path=\"url(#clip422)\" d=\"\n",
       "M1088.66 1253.67 L1088.66 1445.72 L1105.03 1445.72 L1105.03 1253.67 L1088.66 1253.67 L1088.66 1253.67  Z\n",
       "  \" fill=\"#009af9\" fill-rule=\"evenodd\" fill-opacity=\"1\"/>\n",
       "<polyline clip-path=\"url(#clip422)\" style=\"stroke:#000000; stroke-linecap:butt; stroke-linejoin:round; stroke-width:4; stroke-opacity:1; fill:none\" points=\"\n",
       "  1088.66,1253.67 1088.66,1445.72 1105.03,1445.72 1105.03,1253.67 1088.66,1253.67 \n",
       "  \"/>\n",
       "<path clip-path=\"url(#clip422)\" d=\"\n",
       "M1105.03 1249.2 L1105.03 1445.72 L1121.39 1445.72 L1121.39 1249.2 L1105.03 1249.2 L1105.03 1249.2  Z\n",
       "  \" fill=\"#009af9\" fill-rule=\"evenodd\" fill-opacity=\"1\"/>\n",
       "<polyline clip-path=\"url(#clip422)\" style=\"stroke:#000000; stroke-linecap:butt; stroke-linejoin:round; stroke-width:4; stroke-opacity:1; fill:none\" points=\"\n",
       "  1105.03,1249.2 1105.03,1445.72 1121.39,1445.72 1121.39,1249.2 1105.03,1249.2 \n",
       "  \"/>\n",
       "<path clip-path=\"url(#clip422)\" d=\"\n",
       "M1121.39 1228.09 L1121.39 1445.72 L1137.76 1445.72 L1137.76 1228.09 L1121.39 1228.09 L1121.39 1228.09  Z\n",
       "  \" fill=\"#009af9\" fill-rule=\"evenodd\" fill-opacity=\"1\"/>\n",
       "<polyline clip-path=\"url(#clip422)\" style=\"stroke:#000000; stroke-linecap:butt; stroke-linejoin:round; stroke-width:4; stroke-opacity:1; fill:none\" points=\"\n",
       "  1121.39,1228.09 1121.39,1445.72 1137.76,1445.72 1137.76,1228.09 1121.39,1228.09 \n",
       "  \"/>\n",
       "<path clip-path=\"url(#clip422)\" d=\"\n",
       "M1137.76 1243.92 L1137.76 1445.72 L1154.13 1445.72 L1154.13 1243.92 L1137.76 1243.92 L1137.76 1243.92  Z\n",
       "  \" fill=\"#009af9\" fill-rule=\"evenodd\" fill-opacity=\"1\"/>\n",
       "<polyline clip-path=\"url(#clip422)\" style=\"stroke:#000000; stroke-linecap:butt; stroke-linejoin:round; stroke-width:4; stroke-opacity:1; fill:none\" points=\"\n",
       "  1137.76,1243.92 1137.76,1445.72 1154.13,1445.72 1154.13,1243.92 1137.76,1243.92 \n",
       "  \"/>\n",
       "<path clip-path=\"url(#clip422)\" d=\"\n",
       "M1154.13 1215.5 L1154.13 1445.72 L1170.5 1445.72 L1170.5 1215.5 L1154.13 1215.5 L1154.13 1215.5  Z\n",
       "  \" fill=\"#009af9\" fill-rule=\"evenodd\" fill-opacity=\"1\"/>\n",
       "<polyline clip-path=\"url(#clip422)\" style=\"stroke:#000000; stroke-linecap:butt; stroke-linejoin:round; stroke-width:4; stroke-opacity:1; fill:none\" points=\"\n",
       "  1154.13,1215.5 1154.13,1445.72 1170.5,1445.72 1170.5,1215.5 1154.13,1215.5 \n",
       "  \"/>\n",
       "<path clip-path=\"url(#clip422)\" d=\"\n",
       "M1170.5 1215.5 L1170.5 1445.72 L1186.86 1445.72 L1186.86 1215.5 L1170.5 1215.5 L1170.5 1215.5  Z\n",
       "  \" fill=\"#009af9\" fill-rule=\"evenodd\" fill-opacity=\"1\"/>\n",
       "<polyline clip-path=\"url(#clip422)\" style=\"stroke:#000000; stroke-linecap:butt; stroke-linejoin:round; stroke-width:4; stroke-opacity:1; fill:none\" points=\"\n",
       "  1170.5,1215.5 1170.5,1445.72 1186.86,1445.72 1186.86,1215.5 1170.5,1215.5 \n",
       "  \"/>\n",
       "<path clip-path=\"url(#clip422)\" d=\"\n",
       "M1186.86 1174.9 L1186.86 1445.72 L1203.23 1445.72 L1203.23 1174.9 L1186.86 1174.9 L1186.86 1174.9  Z\n",
       "  \" fill=\"#009af9\" fill-rule=\"evenodd\" fill-opacity=\"1\"/>\n",
       "<polyline clip-path=\"url(#clip422)\" style=\"stroke:#000000; stroke-linecap:butt; stroke-linejoin:round; stroke-width:4; stroke-opacity:1; fill:none\" points=\"\n",
       "  1186.86,1174.9 1186.86,1445.72 1203.23,1445.72 1203.23,1174.9 1186.86,1174.9 \n",
       "  \"/>\n",
       "<path clip-path=\"url(#clip422)\" d=\"\n",
       "M1203.23 1141.2 L1203.23 1445.72 L1219.6 1445.72 L1219.6 1141.2 L1203.23 1141.2 L1203.23 1141.2  Z\n",
       "  \" fill=\"#009af9\" fill-rule=\"evenodd\" fill-opacity=\"1\"/>\n",
       "<polyline clip-path=\"url(#clip422)\" style=\"stroke:#000000; stroke-linecap:butt; stroke-linejoin:round; stroke-width:4; stroke-opacity:1; fill:none\" points=\"\n",
       "  1203.23,1141.2 1203.23,1445.72 1219.6,1445.72 1219.6,1141.2 1203.23,1141.2 \n",
       "  \"/>\n",
       "<path clip-path=\"url(#clip422)\" d=\"\n",
       "M1219.6 1114 L1219.6 1445.72 L1235.97 1445.72 L1235.97 1114 L1219.6 1114 L1219.6 1114  Z\n",
       "  \" fill=\"#009af9\" fill-rule=\"evenodd\" fill-opacity=\"1\"/>\n",
       "<polyline clip-path=\"url(#clip422)\" style=\"stroke:#000000; stroke-linecap:butt; stroke-linejoin:round; stroke-width:4; stroke-opacity:1; fill:none\" points=\"\n",
       "  1219.6,1114 1219.6,1445.72 1235.97,1445.72 1235.97,1114 1219.6,1114 \n",
       "  \"/>\n",
       "<path clip-path=\"url(#clip422)\" d=\"\n",
       "M1235.97 1092.88 L1235.97 1445.72 L1252.34 1445.72 L1252.34 1092.88 L1235.97 1092.88 L1235.97 1092.88  Z\n",
       "  \" fill=\"#009af9\" fill-rule=\"evenodd\" fill-opacity=\"1\"/>\n",
       "<polyline clip-path=\"url(#clip422)\" style=\"stroke:#000000; stroke-linecap:butt; stroke-linejoin:round; stroke-width:4; stroke-opacity:1; fill:none\" points=\"\n",
       "  1235.97,1092.88 1235.97,1445.72 1252.34,1445.72 1252.34,1092.88 1235.97,1092.88 \n",
       "  \"/>\n",
       "<path clip-path=\"url(#clip422)\" d=\"\n",
       "M1252.34 1046.6 L1252.34 1445.72 L1268.7 1445.72 L1268.7 1046.6 L1252.34 1046.6 L1252.34 1046.6  Z\n",
       "  \" fill=\"#009af9\" fill-rule=\"evenodd\" fill-opacity=\"1\"/>\n",
       "<polyline clip-path=\"url(#clip422)\" style=\"stroke:#000000; stroke-linecap:butt; stroke-linejoin:round; stroke-width:4; stroke-opacity:1; fill:none\" points=\"\n",
       "  1252.34,1046.6 1252.34,1445.72 1268.7,1445.72 1268.7,1046.6 1252.34,1046.6 \n",
       "  \"/>\n",
       "<path clip-path=\"url(#clip422)\" d=\"\n",
       "M1268.7 1001.12 L1268.7 1445.72 L1285.07 1445.72 L1285.07 1001.12 L1268.7 1001.12 L1268.7 1001.12  Z\n",
       "  \" fill=\"#009af9\" fill-rule=\"evenodd\" fill-opacity=\"1\"/>\n",
       "<polyline clip-path=\"url(#clip422)\" style=\"stroke:#000000; stroke-linecap:butt; stroke-linejoin:round; stroke-width:4; stroke-opacity:1; fill:none\" points=\"\n",
       "  1268.7,1001.12 1268.7,1445.72 1285.07,1445.72 1285.07,1001.12 1268.7,1001.12 \n",
       "  \"/>\n",
       "<path clip-path=\"url(#clip422)\" d=\"\n",
       "M1285.07 982.444 L1285.07 1445.72 L1301.44 1445.72 L1301.44 982.444 L1285.07 982.444 L1285.07 982.444  Z\n",
       "  \" fill=\"#009af9\" fill-rule=\"evenodd\" fill-opacity=\"1\"/>\n",
       "<polyline clip-path=\"url(#clip422)\" style=\"stroke:#000000; stroke-linecap:butt; stroke-linejoin:round; stroke-width:4; stroke-opacity:1; fill:none\" points=\"\n",
       "  1285.07,982.444 1285.07,1445.72 1301.44,1445.72 1301.44,982.444 1285.07,982.444 \n",
       "  \"/>\n",
       "<path clip-path=\"url(#clip422)\" d=\"\n",
       "M1301.44 959.301 L1301.44 1445.72 L1317.81 1445.72 L1317.81 959.301 L1301.44 959.301 L1301.44 959.301  Z\n",
       "  \" fill=\"#009af9\" fill-rule=\"evenodd\" fill-opacity=\"1\"/>\n",
       "<polyline clip-path=\"url(#clip422)\" style=\"stroke:#000000; stroke-linecap:butt; stroke-linejoin:round; stroke-width:4; stroke-opacity:1; fill:none\" points=\"\n",
       "  1301.44,959.301 1301.44,1445.72 1317.81,1445.72 1317.81,959.301 1301.44,959.301 \n",
       "  \"/>\n",
       "<path clip-path=\"url(#clip422)\" d=\"\n",
       "M1317.81 934.127 L1317.81 1445.72 L1334.18 1445.72 L1334.18 934.127 L1317.81 934.127 L1317.81 934.127  Z\n",
       "  \" fill=\"#009af9\" fill-rule=\"evenodd\" fill-opacity=\"1\"/>\n",
       "<polyline clip-path=\"url(#clip422)\" style=\"stroke:#000000; stroke-linecap:butt; stroke-linejoin:round; stroke-width:4; stroke-opacity:1; fill:none\" points=\"\n",
       "  1317.81,934.127 1317.81,1445.72 1334.18,1445.72 1334.18,934.127 1317.81,934.127 \n",
       "  \"/>\n",
       "<path clip-path=\"url(#clip422)\" d=\"\n",
       "M1334.18 893.119 L1334.18 1445.72 L1350.54 1445.72 L1350.54 893.119 L1334.18 893.119 L1334.18 893.119  Z\n",
       "  \" fill=\"#009af9\" fill-rule=\"evenodd\" fill-opacity=\"1\"/>\n",
       "<polyline clip-path=\"url(#clip422)\" style=\"stroke:#000000; stroke-linecap:butt; stroke-linejoin:round; stroke-width:4; stroke-opacity:1; fill:none\" points=\"\n",
       "  1334.18,893.119 1334.18,1445.72 1350.54,1445.72 1350.54,893.119 1334.18,893.119 \n",
       "  \"/>\n",
       "<path clip-path=\"url(#clip422)\" d=\"\n",
       "M1350.54 839.93 L1350.54 1445.72 L1366.91 1445.72 L1366.91 839.93 L1350.54 839.93 L1350.54 839.93  Z\n",
       "  \" fill=\"#009af9\" fill-rule=\"evenodd\" fill-opacity=\"1\"/>\n",
       "<polyline clip-path=\"url(#clip422)\" style=\"stroke:#000000; stroke-linecap:butt; stroke-linejoin:round; stroke-width:4; stroke-opacity:1; fill:none\" points=\"\n",
       "  1350.54,839.93 1350.54,1445.72 1366.91,1445.72 1366.91,839.93 1350.54,839.93 \n",
       "  \"/>\n",
       "<path clip-path=\"url(#clip422)\" d=\"\n",
       "M1366.91 792.831 L1366.91 1445.72 L1383.28 1445.72 L1383.28 792.831 L1366.91 792.831 L1366.91 792.831  Z\n",
       "  \" fill=\"#009af9\" fill-rule=\"evenodd\" fill-opacity=\"1\"/>\n",
       "<polyline clip-path=\"url(#clip422)\" style=\"stroke:#000000; stroke-linecap:butt; stroke-linejoin:round; stroke-width:4; stroke-opacity:1; fill:none\" points=\"\n",
       "  1366.91,792.831 1366.91,1445.72 1383.28,1445.72 1383.28,792.831 1366.91,792.831 \n",
       "  \"/>\n",
       "<path clip-path=\"url(#clip422)\" d=\"\n",
       "M1383.28 742.079 L1383.28 1445.72 L1399.65 1445.72 L1399.65 742.079 L1383.28 742.079 L1383.28 742.079  Z\n",
       "  \" fill=\"#009af9\" fill-rule=\"evenodd\" fill-opacity=\"1\"/>\n",
       "<polyline clip-path=\"url(#clip422)\" style=\"stroke:#000000; stroke-linecap:butt; stroke-linejoin:round; stroke-width:4; stroke-opacity:1; fill:none\" points=\"\n",
       "  1383.28,742.079 1383.28,1445.72 1399.65,1445.72 1399.65,742.079 1383.28,742.079 \n",
       "  \"/>\n",
       "<path clip-path=\"url(#clip422)\" d=\"\n",
       "M1399.65 689.702 L1399.65 1445.72 L1416.01 1445.72 L1416.01 689.702 L1399.65 689.702 L1399.65 689.702  Z\n",
       "  \" fill=\"#009af9\" fill-rule=\"evenodd\" fill-opacity=\"1\"/>\n",
       "<polyline clip-path=\"url(#clip422)\" style=\"stroke:#000000; stroke-linecap:butt; stroke-linejoin:round; stroke-width:4; stroke-opacity:1; fill:none\" points=\"\n",
       "  1399.65,689.702 1399.65,1445.72 1416.01,1445.72 1416.01,689.702 1399.65,689.702 \n",
       "  \"/>\n",
       "<path clip-path=\"url(#clip422)\" d=\"\n",
       "M1416.01 601.595 L1416.01 1445.72 L1432.38 1445.72 L1432.38 601.595 L1416.01 601.595 L1416.01 601.595  Z\n",
       "  \" fill=\"#009af9\" fill-rule=\"evenodd\" fill-opacity=\"1\"/>\n",
       "<polyline clip-path=\"url(#clip422)\" style=\"stroke:#000000; stroke-linecap:butt; stroke-linejoin:round; stroke-width:4; stroke-opacity:1; fill:none\" points=\"\n",
       "  1416.01,601.595 1416.01,1445.72 1432.38,1445.72 1432.38,601.595 1416.01,601.595 \n",
       "  \"/>\n",
       "<path clip-path=\"url(#clip422)\" d=\"\n",
       "M1432.38 571.955 L1432.38 1445.72 L1448.75 1445.72 L1448.75 571.955 L1432.38 571.955 L1432.38 571.955  Z\n",
       "  \" fill=\"#009af9\" fill-rule=\"evenodd\" fill-opacity=\"1\"/>\n",
       "<polyline clip-path=\"url(#clip422)\" style=\"stroke:#000000; stroke-linecap:butt; stroke-linejoin:round; stroke-width:4; stroke-opacity:1; fill:none\" points=\"\n",
       "  1432.38,571.955 1432.38,1445.72 1448.75,1445.72 1448.75,571.955 1432.38,571.955 \n",
       "  \"/>\n",
       "<path clip-path=\"url(#clip422)\" d=\"\n",
       "M1448.75 523.232 L1448.75 1445.72 L1465.12 1445.72 L1465.12 523.232 L1448.75 523.232 L1448.75 523.232  Z\n",
       "  \" fill=\"#009af9\" fill-rule=\"evenodd\" fill-opacity=\"1\"/>\n",
       "<polyline clip-path=\"url(#clip422)\" style=\"stroke:#000000; stroke-linecap:butt; stroke-linejoin:round; stroke-width:4; stroke-opacity:1; fill:none\" points=\"\n",
       "  1448.75,523.232 1448.75,1445.72 1465.12,1445.72 1465.12,523.232 1448.75,523.232 \n",
       "  \"/>\n",
       "<path clip-path=\"url(#clip422)\" d=\"\n",
       "M1465.12 488.721 L1465.12 1445.72 L1481.49 1445.72 L1481.49 488.721 L1465.12 488.721 L1465.12 488.721  Z\n",
       "  \" fill=\"#009af9\" fill-rule=\"evenodd\" fill-opacity=\"1\"/>\n",
       "<polyline clip-path=\"url(#clip422)\" style=\"stroke:#000000; stroke-linecap:butt; stroke-linejoin:round; stroke-width:4; stroke-opacity:1; fill:none\" points=\"\n",
       "  1465.12,488.721 1465.12,1445.72 1481.49,1445.72 1481.49,488.721 1465.12,488.721 \n",
       "  \"/>\n",
       "<path clip-path=\"url(#clip422)\" d=\"\n",
       "M1481.49 426.193 L1481.49 1445.72 L1497.85 1445.72 L1497.85 426.193 L1481.49 426.193 L1481.49 426.193  Z\n",
       "  \" fill=\"#009af9\" fill-rule=\"evenodd\" fill-opacity=\"1\"/>\n",
       "<polyline clip-path=\"url(#clip422)\" style=\"stroke:#000000; stroke-linecap:butt; stroke-linejoin:round; stroke-width:4; stroke-opacity:1; fill:none\" points=\"\n",
       "  1481.49,426.193 1481.49,1445.72 1497.85,1445.72 1497.85,426.193 1481.49,426.193 \n",
       "  \"/>\n",
       "<path clip-path=\"url(#clip422)\" d=\"\n",
       "M1497.85 415.23 L1497.85 1445.72 L1514.22 1445.72 L1514.22 415.23 L1497.85 415.23 L1497.85 415.23  Z\n",
       "  \" fill=\"#009af9\" fill-rule=\"evenodd\" fill-opacity=\"1\"/>\n",
       "<polyline clip-path=\"url(#clip422)\" style=\"stroke:#000000; stroke-linecap:butt; stroke-linejoin:round; stroke-width:4; stroke-opacity:1; fill:none\" points=\"\n",
       "  1497.85,415.23 1497.85,1445.72 1514.22,1445.72 1514.22,415.23 1497.85,415.23 \n",
       "  \"/>\n",
       "<path clip-path=\"url(#clip422)\" d=\"\n",
       "M1514.22 299.514 L1514.22 1445.72 L1530.59 1445.72 L1530.59 299.514 L1514.22 299.514 L1514.22 299.514  Z\n",
       "  \" fill=\"#009af9\" fill-rule=\"evenodd\" fill-opacity=\"1\"/>\n",
       "<polyline clip-path=\"url(#clip422)\" style=\"stroke:#000000; stroke-linecap:butt; stroke-linejoin:round; stroke-width:4; stroke-opacity:1; fill:none\" points=\"\n",
       "  1514.22,299.514 1514.22,1445.72 1530.59,1445.72 1530.59,299.514 1514.22,299.514 \n",
       "  \"/>\n",
       "<path clip-path=\"url(#clip422)\" d=\"\n",
       "M1530.59 296.672 L1530.59 1445.72 L1546.96 1445.72 L1546.96 296.672 L1530.59 296.672 L1530.59 296.672  Z\n",
       "  \" fill=\"#009af9\" fill-rule=\"evenodd\" fill-opacity=\"1\"/>\n",
       "<polyline clip-path=\"url(#clip422)\" style=\"stroke:#000000; stroke-linecap:butt; stroke-linejoin:round; stroke-width:4; stroke-opacity:1; fill:none\" points=\"\n",
       "  1530.59,296.672 1530.59,1445.72 1546.96,1445.72 1546.96,296.672 1530.59,296.672 \n",
       "  \"/>\n",
       "<path clip-path=\"url(#clip422)\" d=\"\n",
       "M1546.96 264.596 L1546.96 1445.72 L1563.32 1445.72 L1563.32 264.596 L1546.96 264.596 L1546.96 264.596  Z\n",
       "  \" fill=\"#009af9\" fill-rule=\"evenodd\" fill-opacity=\"1\"/>\n",
       "<polyline clip-path=\"url(#clip422)\" style=\"stroke:#000000; stroke-linecap:butt; stroke-linejoin:round; stroke-width:4; stroke-opacity:1; fill:none\" points=\"\n",
       "  1546.96,264.596 1546.96,1445.72 1563.32,1445.72 1563.32,264.596 1546.96,264.596 \n",
       "  \"/>\n",
       "<path clip-path=\"url(#clip422)\" d=\"\n",
       "M1563.32 204.505 L1563.32 1445.72 L1579.69 1445.72 L1579.69 204.505 L1563.32 204.505 L1563.32 204.505  Z\n",
       "  \" fill=\"#009af9\" fill-rule=\"evenodd\" fill-opacity=\"1\"/>\n",
       "<polyline clip-path=\"url(#clip422)\" style=\"stroke:#000000; stroke-linecap:butt; stroke-linejoin:round; stroke-width:4; stroke-opacity:1; fill:none\" points=\"\n",
       "  1563.32,204.505 1563.32,1445.72 1579.69,1445.72 1579.69,204.505 1563.32,204.505 \n",
       "  \"/>\n",
       "<path clip-path=\"url(#clip422)\" d=\"\n",
       "M1579.69 165.121 L1579.69 1445.72 L1596.06 1445.72 L1596.06 165.121 L1579.69 165.121 L1579.69 165.121  Z\n",
       "  \" fill=\"#009af9\" fill-rule=\"evenodd\" fill-opacity=\"1\"/>\n",
       "<polyline clip-path=\"url(#clip422)\" style=\"stroke:#000000; stroke-linecap:butt; stroke-linejoin:round; stroke-width:4; stroke-opacity:1; fill:none\" points=\"\n",
       "  1579.69,165.121 1579.69,1445.72 1596.06,1445.72 1596.06,165.121 1579.69,165.121 \n",
       "  \"/>\n",
       "<path clip-path=\"url(#clip422)\" d=\"\n",
       "M1596.06 114.774 L1596.06 1445.72 L1612.43 1445.72 L1612.43 114.774 L1596.06 114.774 L1596.06 114.774  Z\n",
       "  \" fill=\"#009af9\" fill-rule=\"evenodd\" fill-opacity=\"1\"/>\n",
       "<polyline clip-path=\"url(#clip422)\" style=\"stroke:#000000; stroke-linecap:butt; stroke-linejoin:round; stroke-width:4; stroke-opacity:1; fill:none\" points=\"\n",
       "  1596.06,114.774 1596.06,1445.72 1612.43,1445.72 1612.43,114.774 1596.06,114.774 \n",
       "  \"/>\n",
       "<path clip-path=\"url(#clip422)\" d=\"\n",
       "M1612.43 124.518 L1612.43 1445.72 L1628.8 1445.72 L1628.8 124.518 L1612.43 124.518 L1612.43 124.518  Z\n",
       "  \" fill=\"#009af9\" fill-rule=\"evenodd\" fill-opacity=\"1\"/>\n",
       "<polyline clip-path=\"url(#clip422)\" style=\"stroke:#000000; stroke-linecap:butt; stroke-linejoin:round; stroke-width:4; stroke-opacity:1; fill:none\" points=\"\n",
       "  1612.43,124.518 1612.43,1445.72 1628.8,1445.72 1628.8,124.518 1612.43,124.518 \n",
       "  \"/>\n",
       "<path clip-path=\"url(#clip422)\" d=\"\n",
       "M1628.8 110.714 L1628.8 1445.72 L1645.16 1445.72 L1645.16 110.714 L1628.8 110.714 L1628.8 110.714  Z\n",
       "  \" fill=\"#009af9\" fill-rule=\"evenodd\" fill-opacity=\"1\"/>\n",
       "<polyline clip-path=\"url(#clip422)\" style=\"stroke:#000000; stroke-linecap:butt; stroke-linejoin:round; stroke-width:4; stroke-opacity:1; fill:none\" points=\"\n",
       "  1628.8,110.714 1628.8,1445.72 1645.16,1445.72 1645.16,110.714 1628.8,110.714 \n",
       "  \"/>\n",
       "<path clip-path=\"url(#clip422)\" d=\"\n",
       "M1645.16 146.85 L1645.16 1445.72 L1661.53 1445.72 L1661.53 146.85 L1645.16 146.85 L1645.16 146.85  Z\n",
       "  \" fill=\"#009af9\" fill-rule=\"evenodd\" fill-opacity=\"1\"/>\n",
       "<polyline clip-path=\"url(#clip422)\" style=\"stroke:#000000; stroke-linecap:butt; stroke-linejoin:round; stroke-width:4; stroke-opacity:1; fill:none\" points=\"\n",
       "  1645.16,146.85 1645.16,1445.72 1661.53,1445.72 1661.53,146.85 1645.16,146.85 \n",
       "  \"/>\n",
       "<path clip-path=\"url(#clip422)\" d=\"\n",
       "M1661.53 102.999 L1661.53 1445.72 L1677.9 1445.72 L1677.9 102.999 L1661.53 102.999 L1661.53 102.999  Z\n",
       "  \" fill=\"#009af9\" fill-rule=\"evenodd\" fill-opacity=\"1\"/>\n",
       "<polyline clip-path=\"url(#clip422)\" style=\"stroke:#000000; stroke-linecap:butt; stroke-linejoin:round; stroke-width:4; stroke-opacity:1; fill:none\" points=\"\n",
       "  1661.53,102.999 1661.53,1445.72 1677.9,1445.72 1677.9,102.999 1661.53,102.999 \n",
       "  \"/>\n",
       "<path clip-path=\"url(#clip422)\" d=\"\n",
       "M1677.9 87.9763 L1677.9 1445.72 L1694.27 1445.72 L1694.27 87.9763 L1677.9 87.9763 L1677.9 87.9763  Z\n",
       "  \" fill=\"#009af9\" fill-rule=\"evenodd\" fill-opacity=\"1\"/>\n",
       "<polyline clip-path=\"url(#clip422)\" style=\"stroke:#000000; stroke-linecap:butt; stroke-linejoin:round; stroke-width:4; stroke-opacity:1; fill:none\" points=\"\n",
       "  1677.9,87.9763 1677.9,1445.72 1694.27,1445.72 1694.27,87.9763 1677.9,87.9763 \n",
       "  \"/>\n",
       "<path clip-path=\"url(#clip422)\" d=\"\n",
       "M1694.27 103.811 L1694.27 1445.72 L1710.64 1445.72 L1710.64 103.811 L1694.27 103.811 L1694.27 103.811  Z\n",
       "  \" fill=\"#009af9\" fill-rule=\"evenodd\" fill-opacity=\"1\"/>\n",
       "<polyline clip-path=\"url(#clip422)\" style=\"stroke:#000000; stroke-linecap:butt; stroke-linejoin:round; stroke-width:4; stroke-opacity:1; fill:none\" points=\"\n",
       "  1694.27,103.811 1694.27,1445.72 1710.64,1445.72 1710.64,103.811 1694.27,103.811 \n",
       "  \"/>\n",
       "<path clip-path=\"url(#clip422)\" d=\"\n",
       "M1710.64 151.316 L1710.64 1445.72 L1727 1445.72 L1727 151.316 L1710.64 151.316 L1710.64 151.316  Z\n",
       "  \" fill=\"#009af9\" fill-rule=\"evenodd\" fill-opacity=\"1\"/>\n",
       "<polyline clip-path=\"url(#clip422)\" style=\"stroke:#000000; stroke-linecap:butt; stroke-linejoin:round; stroke-width:4; stroke-opacity:1; fill:none\" points=\"\n",
       "  1710.64,151.316 1710.64,1445.72 1727,1445.72 1727,151.316 1710.64,151.316 \n",
       "  \"/>\n",
       "<path clip-path=\"url(#clip422)\" d=\"\n",
       "M1727 172.835 L1727 1445.72 L1743.37 1445.72 L1743.37 172.835 L1727 172.835 L1727 172.835  Z\n",
       "  \" fill=\"#009af9\" fill-rule=\"evenodd\" fill-opacity=\"1\"/>\n",
       "<polyline clip-path=\"url(#clip422)\" style=\"stroke:#000000; stroke-linecap:butt; stroke-linejoin:round; stroke-width:4; stroke-opacity:1; fill:none\" points=\"\n",
       "  1727,172.835 1727,1445.72 1743.37,1445.72 1743.37,172.835 1727,172.835 \n",
       "  \"/>\n",
       "<path clip-path=\"url(#clip422)\" d=\"\n",
       "M1743.37 236.581 L1743.37 1445.72 L1759.74 1445.72 L1759.74 236.581 L1743.37 236.581 L1743.37 236.581  Z\n",
       "  \" fill=\"#009af9\" fill-rule=\"evenodd\" fill-opacity=\"1\"/>\n",
       "<polyline clip-path=\"url(#clip422)\" style=\"stroke:#000000; stroke-linecap:butt; stroke-linejoin:round; stroke-width:4; stroke-opacity:1; fill:none\" points=\"\n",
       "  1743.37,236.581 1743.37,1445.72 1759.74,1445.72 1759.74,236.581 1743.37,236.581 \n",
       "  \"/>\n",
       "<path clip-path=\"url(#clip422)\" d=\"\n",
       "M1759.74 327.53 L1759.74 1445.72 L1776.11 1445.72 L1776.11 327.53 L1759.74 327.53 L1759.74 327.53  Z\n",
       "  \" fill=\"#009af9\" fill-rule=\"evenodd\" fill-opacity=\"1\"/>\n",
       "<polyline clip-path=\"url(#clip422)\" style=\"stroke:#000000; stroke-linecap:butt; stroke-linejoin:round; stroke-width:4; stroke-opacity:1; fill:none\" points=\"\n",
       "  1759.74,327.53 1759.74,1445.72 1776.11,1445.72 1776.11,327.53 1759.74,327.53 \n",
       "  \"/>\n",
       "<path clip-path=\"url(#clip422)\" d=\"\n",
       "M1776.11 372.192 L1776.11 1445.72 L1792.47 1445.72 L1792.47 372.192 L1776.11 372.192 L1776.11 372.192  Z\n",
       "  \" fill=\"#009af9\" fill-rule=\"evenodd\" fill-opacity=\"1\"/>\n",
       "<polyline clip-path=\"url(#clip422)\" style=\"stroke:#000000; stroke-linecap:butt; stroke-linejoin:round; stroke-width:4; stroke-opacity:1; fill:none\" points=\"\n",
       "  1776.11,372.192 1776.11,1445.72 1792.47,1445.72 1792.47,372.192 1776.11,372.192 \n",
       "  \"/>\n",
       "<path clip-path=\"url(#clip422)\" d=\"\n",
       "M1792.47 436.344 L1792.47 1445.72 L1808.84 1445.72 L1808.84 436.344 L1792.47 436.344 L1792.47 436.344  Z\n",
       "  \" fill=\"#009af9\" fill-rule=\"evenodd\" fill-opacity=\"1\"/>\n",
       "<polyline clip-path=\"url(#clip422)\" style=\"stroke:#000000; stroke-linecap:butt; stroke-linejoin:round; stroke-width:4; stroke-opacity:1; fill:none\" points=\"\n",
       "  1792.47,436.344 1792.47,1445.72 1808.84,1445.72 1808.84,436.344 1792.47,436.344 \n",
       "  \"/>\n",
       "<path clip-path=\"url(#clip422)\" d=\"\n",
       "M1808.84 535.819 L1808.84 1445.72 L1825.21 1445.72 L1825.21 535.819 L1808.84 535.819 L1808.84 535.819  Z\n",
       "  \" fill=\"#009af9\" fill-rule=\"evenodd\" fill-opacity=\"1\"/>\n",
       "<polyline clip-path=\"url(#clip422)\" style=\"stroke:#000000; stroke-linecap:butt; stroke-linejoin:round; stroke-width:4; stroke-opacity:1; fill:none\" points=\"\n",
       "  1808.84,535.819 1808.84,1445.72 1825.21,1445.72 1825.21,535.819 1808.84,535.819 \n",
       "  \"/>\n",
       "<path clip-path=\"url(#clip422)\" d=\"\n",
       "M1825.21 633.265 L1825.21 1445.72 L1841.58 1445.72 L1841.58 633.265 L1825.21 633.265 L1825.21 633.265  Z\n",
       "  \" fill=\"#009af9\" fill-rule=\"evenodd\" fill-opacity=\"1\"/>\n",
       "<polyline clip-path=\"url(#clip422)\" style=\"stroke:#000000; stroke-linecap:butt; stroke-linejoin:round; stroke-width:4; stroke-opacity:1; fill:none\" points=\"\n",
       "  1825.21,633.265 1825.21,1445.72 1841.58,1445.72 1841.58,633.265 1825.21,633.265 \n",
       "  \"/>\n",
       "<path clip-path=\"url(#clip422)\" d=\"\n",
       "M1841.58 704.725 L1841.58 1445.72 L1857.95 1445.72 L1857.95 704.725 L1841.58 704.725 L1841.58 704.725  Z\n",
       "  \" fill=\"#009af9\" fill-rule=\"evenodd\" fill-opacity=\"1\"/>\n",
       "<polyline clip-path=\"url(#clip422)\" style=\"stroke:#000000; stroke-linecap:butt; stroke-linejoin:round; stroke-width:4; stroke-opacity:1; fill:none\" points=\"\n",
       "  1841.58,704.725 1841.58,1445.72 1857.95,1445.72 1857.95,704.725 1841.58,704.725 \n",
       "  \"/>\n",
       "<path clip-path=\"url(#clip422)\" d=\"\n",
       "M1857.95 796.486 L1857.95 1445.72 L1874.31 1445.72 L1874.31 796.486 L1857.95 796.486 L1857.95 796.486  Z\n",
       "  \" fill=\"#009af9\" fill-rule=\"evenodd\" fill-opacity=\"1\"/>\n",
       "<polyline clip-path=\"url(#clip422)\" style=\"stroke:#000000; stroke-linecap:butt; stroke-linejoin:round; stroke-width:4; stroke-opacity:1; fill:none\" points=\"\n",
       "  1857.95,796.486 1857.95,1445.72 1874.31,1445.72 1874.31,796.486 1857.95,796.486 \n",
       "  \"/>\n",
       "<path clip-path=\"url(#clip422)\" d=\"\n",
       "M1874.31 881.75 L1874.31 1445.72 L1890.68 1445.72 L1890.68 881.75 L1874.31 881.75 L1874.31 881.75  Z\n",
       "  \" fill=\"#009af9\" fill-rule=\"evenodd\" fill-opacity=\"1\"/>\n",
       "<polyline clip-path=\"url(#clip422)\" style=\"stroke:#000000; stroke-linecap:butt; stroke-linejoin:round; stroke-width:4; stroke-opacity:1; fill:none\" points=\"\n",
       "  1874.31,881.75 1874.31,1445.72 1890.68,1445.72 1890.68,881.75 1874.31,881.75 \n",
       "  \"/>\n",
       "<path clip-path=\"url(#clip422)\" d=\"\n",
       "M1890.68 939.406 L1890.68 1445.72 L1907.05 1445.72 L1907.05 939.406 L1890.68 939.406 L1890.68 939.406  Z\n",
       "  \" fill=\"#009af9\" fill-rule=\"evenodd\" fill-opacity=\"1\"/>\n",
       "<polyline clip-path=\"url(#clip422)\" style=\"stroke:#000000; stroke-linecap:butt; stroke-linejoin:round; stroke-width:4; stroke-opacity:1; fill:none\" points=\"\n",
       "  1890.68,939.406 1890.68,1445.72 1907.05,1445.72 1907.05,939.406 1890.68,939.406 \n",
       "  \"/>\n",
       "<path clip-path=\"url(#clip422)\" d=\"\n",
       "M1907.05 1016.55 L1907.05 1445.72 L1923.42 1445.72 L1923.42 1016.55 L1907.05 1016.55 L1907.05 1016.55  Z\n",
       "  \" fill=\"#009af9\" fill-rule=\"evenodd\" fill-opacity=\"1\"/>\n",
       "<polyline clip-path=\"url(#clip422)\" style=\"stroke:#000000; stroke-linecap:butt; stroke-linejoin:round; stroke-width:4; stroke-opacity:1; fill:none\" points=\"\n",
       "  1907.05,1016.55 1907.05,1445.72 1923.42,1445.72 1923.42,1016.55 1907.05,1016.55 \n",
       "  \"/>\n",
       "<path clip-path=\"url(#clip422)\" d=\"\n",
       "M1923.42 1098.16 L1923.42 1445.72 L1939.79 1445.72 L1939.79 1098.16 L1923.42 1098.16 L1923.42 1098.16  Z\n",
       "  \" fill=\"#009af9\" fill-rule=\"evenodd\" fill-opacity=\"1\"/>\n",
       "<polyline clip-path=\"url(#clip422)\" style=\"stroke:#000000; stroke-linecap:butt; stroke-linejoin:round; stroke-width:4; stroke-opacity:1; fill:none\" points=\"\n",
       "  1923.42,1098.16 1923.42,1445.72 1939.79,1445.72 1939.79,1098.16 1923.42,1098.16 \n",
       "  \"/>\n",
       "<path clip-path=\"url(#clip422)\" d=\"\n",
       "M1939.79 1184.64 L1939.79 1445.72 L1956.15 1445.72 L1956.15 1184.64 L1939.79 1184.64 L1939.79 1184.64  Z\n",
       "  \" fill=\"#009af9\" fill-rule=\"evenodd\" fill-opacity=\"1\"/>\n",
       "<polyline clip-path=\"url(#clip422)\" style=\"stroke:#000000; stroke-linecap:butt; stroke-linejoin:round; stroke-width:4; stroke-opacity:1; fill:none\" points=\"\n",
       "  1939.79,1184.64 1939.79,1445.72 1956.15,1445.72 1956.15,1184.64 1939.79,1184.64 \n",
       "  \"/>\n",
       "<path clip-path=\"url(#clip422)\" d=\"\n",
       "M1956.15 1228.09 L1956.15 1445.72 L1972.52 1445.72 L1972.52 1228.09 L1956.15 1228.09 L1956.15 1228.09  Z\n",
       "  \" fill=\"#009af9\" fill-rule=\"evenodd\" fill-opacity=\"1\"/>\n",
       "<polyline clip-path=\"url(#clip422)\" style=\"stroke:#000000; stroke-linecap:butt; stroke-linejoin:round; stroke-width:4; stroke-opacity:1; fill:none\" points=\"\n",
       "  1956.15,1228.09 1956.15,1445.72 1972.52,1445.72 1972.52,1228.09 1956.15,1228.09 \n",
       "  \"/>\n",
       "<path clip-path=\"url(#clip422)\" d=\"\n",
       "M1972.52 1281.28 L1972.52 1445.72 L1988.89 1445.72 L1988.89 1281.28 L1972.52 1281.28 L1972.52 1281.28  Z\n",
       "  \" fill=\"#009af9\" fill-rule=\"evenodd\" fill-opacity=\"1\"/>\n",
       "<polyline clip-path=\"url(#clip422)\" style=\"stroke:#000000; stroke-linecap:butt; stroke-linejoin:round; stroke-width:4; stroke-opacity:1; fill:none\" points=\"\n",
       "  1972.52,1281.28 1972.52,1445.72 1988.89,1445.72 1988.89,1281.28 1972.52,1281.28 \n",
       "  \"/>\n",
       "<path clip-path=\"url(#clip422)\" d=\"\n",
       "M1988.89 1334.06 L1988.89 1445.72 L2005.26 1445.72 L2005.26 1334.06 L1988.89 1334.06 L1988.89 1334.06  Z\n",
       "  \" fill=\"#009af9\" fill-rule=\"evenodd\" fill-opacity=\"1\"/>\n",
       "<polyline clip-path=\"url(#clip422)\" style=\"stroke:#000000; stroke-linecap:butt; stroke-linejoin:round; stroke-width:4; stroke-opacity:1; fill:none\" points=\"\n",
       "  1988.89,1334.06 1988.89,1445.72 2005.26,1445.72 2005.26,1334.06 1988.89,1334.06 \n",
       "  \"/>\n",
       "<path clip-path=\"url(#clip422)\" d=\"\n",
       "M2005.26 1365.32 L2005.26 1445.72 L2021.62 1445.72 L2021.62 1365.32 L2005.26 1365.32 L2005.26 1365.32  Z\n",
       "  \" fill=\"#009af9\" fill-rule=\"evenodd\" fill-opacity=\"1\"/>\n",
       "<polyline clip-path=\"url(#clip422)\" style=\"stroke:#000000; stroke-linecap:butt; stroke-linejoin:round; stroke-width:4; stroke-opacity:1; fill:none\" points=\"\n",
       "  2005.26,1365.32 2005.26,1445.72 2021.62,1445.72 2021.62,1365.32 2005.26,1365.32 \n",
       "  \"/>\n",
       "<path clip-path=\"url(#clip422)\" d=\"\n",
       "M2021.62 1375.47 L2021.62 1445.72 L2037.99 1445.72 L2037.99 1375.47 L2021.62 1375.47 L2021.62 1375.47  Z\n",
       "  \" fill=\"#009af9\" fill-rule=\"evenodd\" fill-opacity=\"1\"/>\n",
       "<polyline clip-path=\"url(#clip422)\" style=\"stroke:#000000; stroke-linecap:butt; stroke-linejoin:round; stroke-width:4; stroke-opacity:1; fill:none\" points=\"\n",
       "  2021.62,1375.47 2021.62,1445.72 2037.99,1445.72 2037.99,1375.47 2021.62,1375.47 \n",
       "  \"/>\n",
       "<path clip-path=\"url(#clip422)\" d=\"\n",
       "M2037.99 1392.53 L2037.99 1445.72 L2054.36 1445.72 L2054.36 1392.53 L2037.99 1392.53 L2037.99 1392.53  Z\n",
       "  \" fill=\"#009af9\" fill-rule=\"evenodd\" fill-opacity=\"1\"/>\n",
       "<polyline clip-path=\"url(#clip422)\" style=\"stroke:#000000; stroke-linecap:butt; stroke-linejoin:round; stroke-width:4; stroke-opacity:1; fill:none\" points=\"\n",
       "  2037.99,1392.53 2037.99,1445.72 2054.36,1445.72 2054.36,1392.53 2037.99,1392.53 \n",
       "  \"/>\n",
       "<path clip-path=\"url(#clip422)\" d=\"\n",
       "M2054.36 1404.71 L2054.36 1445.72 L2070.73 1445.72 L2070.73 1404.71 L2054.36 1404.71 L2054.36 1404.71  Z\n",
       "  \" fill=\"#009af9\" fill-rule=\"evenodd\" fill-opacity=\"1\"/>\n",
       "<polyline clip-path=\"url(#clip422)\" style=\"stroke:#000000; stroke-linecap:butt; stroke-linejoin:round; stroke-width:4; stroke-opacity:1; fill:none\" points=\"\n",
       "  2054.36,1404.71 2054.36,1445.72 2070.73,1445.72 2070.73,1404.71 2054.36,1404.71 \n",
       "  \"/>\n",
       "<path clip-path=\"url(#clip422)\" d=\"\n",
       "M2070.73 1409.58 L2070.73 1445.72 L2087.1 1445.72 L2087.1 1409.58 L2070.73 1409.58 L2070.73 1409.58  Z\n",
       "  \" fill=\"#009af9\" fill-rule=\"evenodd\" fill-opacity=\"1\"/>\n",
       "<polyline clip-path=\"url(#clip422)\" style=\"stroke:#000000; stroke-linecap:butt; stroke-linejoin:round; stroke-width:4; stroke-opacity:1; fill:none\" points=\"\n",
       "  2070.73,1409.58 2070.73,1445.72 2087.1,1445.72 2087.1,1409.58 2070.73,1409.58 \n",
       "  \"/>\n",
       "<path clip-path=\"url(#clip422)\" d=\"\n",
       "M2087.1 1427.44 L2087.1 1445.72 L2103.46 1445.72 L2103.46 1427.44 L2087.1 1427.44 L2087.1 1427.44  Z\n",
       "  \" fill=\"#009af9\" fill-rule=\"evenodd\" fill-opacity=\"1\"/>\n",
       "<polyline clip-path=\"url(#clip422)\" style=\"stroke:#000000; stroke-linecap:butt; stroke-linejoin:round; stroke-width:4; stroke-opacity:1; fill:none\" points=\"\n",
       "  2087.1,1427.44 2087.1,1445.72 2103.46,1445.72 2103.46,1427.44 2087.1,1427.44 \n",
       "  \"/>\n",
       "<path clip-path=\"url(#clip422)\" d=\"\n",
       "M2103.46 1431.1 L2103.46 1445.72 L2119.83 1445.72 L2119.83 1431.1 L2103.46 1431.1 L2103.46 1431.1  Z\n",
       "  \" fill=\"#009af9\" fill-rule=\"evenodd\" fill-opacity=\"1\"/>\n",
       "<polyline clip-path=\"url(#clip422)\" style=\"stroke:#000000; stroke-linecap:butt; stroke-linejoin:round; stroke-width:4; stroke-opacity:1; fill:none\" points=\"\n",
       "  2103.46,1431.1 2103.46,1445.72 2119.83,1445.72 2119.83,1431.1 2103.46,1431.1 \n",
       "  \"/>\n",
       "<path clip-path=\"url(#clip422)\" d=\"\n",
       "M2119.83 1431.5 L2119.83 1445.72 L2136.2 1445.72 L2136.2 1431.5 L2119.83 1431.5 L2119.83 1431.5  Z\n",
       "  \" fill=\"#009af9\" fill-rule=\"evenodd\" fill-opacity=\"1\"/>\n",
       "<polyline clip-path=\"url(#clip422)\" style=\"stroke:#000000; stroke-linecap:butt; stroke-linejoin:round; stroke-width:4; stroke-opacity:1; fill:none\" points=\"\n",
       "  2119.83,1431.5 2119.83,1445.72 2136.2,1445.72 2136.2,1431.5 2119.83,1431.5 \n",
       "  \"/>\n",
       "<path clip-path=\"url(#clip422)\" d=\"\n",
       "M2136.2 1435.97 L2136.2 1445.72 L2152.57 1445.72 L2152.57 1435.97 L2136.2 1435.97 L2136.2 1435.97  Z\n",
       "  \" fill=\"#009af9\" fill-rule=\"evenodd\" fill-opacity=\"1\"/>\n",
       "<polyline clip-path=\"url(#clip422)\" style=\"stroke:#000000; stroke-linecap:butt; stroke-linejoin:round; stroke-width:4; stroke-opacity:1; fill:none\" points=\"\n",
       "  2136.2,1435.97 2136.2,1445.72 2152.57,1445.72 2152.57,1435.97 2136.2,1435.97 \n",
       "  \"/>\n",
       "<path clip-path=\"url(#clip422)\" d=\"\n",
       "M2152.57 1438 L2152.57 1445.72 L2168.94 1445.72 L2168.94 1438 L2152.57 1438 L2152.57 1438  Z\n",
       "  \" fill=\"#009af9\" fill-rule=\"evenodd\" fill-opacity=\"1\"/>\n",
       "<polyline clip-path=\"url(#clip422)\" style=\"stroke:#000000; stroke-linecap:butt; stroke-linejoin:round; stroke-width:4; stroke-opacity:1; fill:none\" points=\"\n",
       "  2152.57,1438 2152.57,1445.72 2168.94,1445.72 2168.94,1438 2152.57,1438 \n",
       "  \"/>\n",
       "<path clip-path=\"url(#clip422)\" d=\"\n",
       "M2168.94 1433.54 L2168.94 1445.72 L2185.3 1445.72 L2185.3 1433.54 L2168.94 1433.54 L2168.94 1433.54  Z\n",
       "  \" fill=\"#009af9\" fill-rule=\"evenodd\" fill-opacity=\"1\"/>\n",
       "<polyline clip-path=\"url(#clip422)\" style=\"stroke:#000000; stroke-linecap:butt; stroke-linejoin:round; stroke-width:4; stroke-opacity:1; fill:none\" points=\"\n",
       "  2168.94,1433.54 2168.94,1445.72 2185.3,1445.72 2185.3,1433.54 2168.94,1433.54 \n",
       "  \"/>\n",
       "<path clip-path=\"url(#clip422)\" d=\"\n",
       "M2185.3 1431.91 L2185.3 1445.72 L2201.67 1445.72 L2201.67 1431.91 L2185.3 1431.91 L2185.3 1431.91  Z\n",
       "  \" fill=\"#009af9\" fill-rule=\"evenodd\" fill-opacity=\"1\"/>\n",
       "<polyline clip-path=\"url(#clip422)\" style=\"stroke:#000000; stroke-linecap:butt; stroke-linejoin:round; stroke-width:4; stroke-opacity:1; fill:none\" points=\"\n",
       "  2185.3,1431.91 2185.3,1445.72 2201.67,1445.72 2201.67,1431.91 2185.3,1431.91 \n",
       "  \"/>\n",
       "<path clip-path=\"url(#clip422)\" d=\"\n",
       "M2201.67 1439.22 L2201.67 1445.72 L2218.04 1445.72 L2218.04 1439.22 L2201.67 1439.22 L2201.67 1439.22  Z\n",
       "  \" fill=\"#009af9\" fill-rule=\"evenodd\" fill-opacity=\"1\"/>\n",
       "<polyline clip-path=\"url(#clip422)\" style=\"stroke:#000000; stroke-linecap:butt; stroke-linejoin:round; stroke-width:4; stroke-opacity:1; fill:none\" points=\"\n",
       "  2201.67,1439.22 2201.67,1445.72 2218.04,1445.72 2218.04,1439.22 2201.67,1439.22 \n",
       "  \"/>\n",
       "<path clip-path=\"url(#clip422)\" d=\"\n",
       "M2218.04 1442.87 L2218.04 1445.72 L2234.41 1445.72 L2234.41 1442.87 L2218.04 1442.87 L2218.04 1442.87  Z\n",
       "  \" fill=\"#009af9\" fill-rule=\"evenodd\" fill-opacity=\"1\"/>\n",
       "<polyline clip-path=\"url(#clip422)\" style=\"stroke:#000000; stroke-linecap:butt; stroke-linejoin:round; stroke-width:4; stroke-opacity:1; fill:none\" points=\"\n",
       "  2218.04,1442.87 2218.04,1445.72 2234.41,1445.72 2234.41,1442.87 2218.04,1442.87 \n",
       "  \"/>\n",
       "<circle clip-path=\"url(#clip422)\" style=\"fill:#009af9; stroke:none; fill-opacity:0\" cx=\"327.553\" cy=\"1444.9\" r=\"2\"/>\n",
       "<circle clip-path=\"url(#clip422)\" style=\"fill:#009af9; stroke:none; fill-opacity:0\" cx=\"343.92\" cy=\"1442.06\" r=\"2\"/>\n",
       "<circle clip-path=\"url(#clip422)\" style=\"fill:#009af9; stroke:none; fill-opacity:0\" cx=\"360.288\" cy=\"1442.87\" r=\"2\"/>\n",
       "<circle clip-path=\"url(#clip422)\" style=\"fill:#009af9; stroke:none; fill-opacity:0\" cx=\"376.656\" cy=\"1445.31\" r=\"2\"/>\n",
       "<circle clip-path=\"url(#clip422)\" style=\"fill:#009af9; stroke:none; fill-opacity:0\" cx=\"393.024\" cy=\"1444.5\" r=\"2\"/>\n",
       "<circle clip-path=\"url(#clip422)\" style=\"fill:#009af9; stroke:none; fill-opacity:0\" cx=\"409.392\" cy=\"1444.9\" r=\"2\"/>\n",
       "<circle clip-path=\"url(#clip422)\" style=\"fill:#009af9; stroke:none; fill-opacity:0\" cx=\"425.76\" cy=\"1443.28\" r=\"2\"/>\n",
       "<circle clip-path=\"url(#clip422)\" style=\"fill:#009af9; stroke:none; fill-opacity:0\" cx=\"442.127\" cy=\"1442.47\" r=\"2\"/>\n",
       "<circle clip-path=\"url(#clip422)\" style=\"fill:#009af9; stroke:none; fill-opacity:0\" cx=\"458.495\" cy=\"1444.09\" r=\"2\"/>\n",
       "<circle clip-path=\"url(#clip422)\" style=\"fill:#009af9; stroke:none; fill-opacity:0\" cx=\"474.863\" cy=\"1441.66\" r=\"2\"/>\n",
       "<circle clip-path=\"url(#clip422)\" style=\"fill:#009af9; stroke:none; fill-opacity:0\" cx=\"491.231\" cy=\"1444.09\" r=\"2\"/>\n",
       "<circle clip-path=\"url(#clip422)\" style=\"fill:#009af9; stroke:none; fill-opacity:0\" cx=\"507.599\" cy=\"1443.69\" r=\"2\"/>\n",
       "<circle clip-path=\"url(#clip422)\" style=\"fill:#009af9; stroke:none; fill-opacity:0\" cx=\"523.967\" cy=\"1444.09\" r=\"2\"/>\n",
       "<circle clip-path=\"url(#clip422)\" style=\"fill:#009af9; stroke:none; fill-opacity:0\" cx=\"540.335\" cy=\"1443.28\" r=\"2\"/>\n",
       "<circle clip-path=\"url(#clip422)\" style=\"fill:#009af9; stroke:none; fill-opacity:0\" cx=\"556.702\" cy=\"1444.09\" r=\"2\"/>\n",
       "<circle clip-path=\"url(#clip422)\" style=\"fill:#009af9; stroke:none; fill-opacity:0\" cx=\"573.07\" cy=\"1439.63\" r=\"2\"/>\n",
       "<circle clip-path=\"url(#clip422)\" style=\"fill:#009af9; stroke:none; fill-opacity:0\" cx=\"589.438\" cy=\"1438\" r=\"2\"/>\n",
       "<circle clip-path=\"url(#clip422)\" style=\"fill:#009af9; stroke:none; fill-opacity:0\" cx=\"605.806\" cy=\"1429.88\" r=\"2\"/>\n",
       "<circle clip-path=\"url(#clip422)\" style=\"fill:#009af9; stroke:none; fill-opacity:0\" cx=\"622.174\" cy=\"1431.1\" r=\"2\"/>\n",
       "<circle clip-path=\"url(#clip422)\" style=\"fill:#009af9; stroke:none; fill-opacity:0\" cx=\"638.542\" cy=\"1428.26\" r=\"2\"/>\n",
       "<circle clip-path=\"url(#clip422)\" style=\"fill:#009af9; stroke:none; fill-opacity:0\" cx=\"654.909\" cy=\"1423.79\" r=\"2\"/>\n",
       "<circle clip-path=\"url(#clip422)\" style=\"fill:#009af9; stroke:none; fill-opacity:0\" cx=\"671.277\" cy=\"1419.32\" r=\"2\"/>\n",
       "<circle clip-path=\"url(#clip422)\" style=\"fill:#009af9; stroke:none; fill-opacity:0\" cx=\"687.645\" cy=\"1428.26\" r=\"2\"/>\n",
       "<circle clip-path=\"url(#clip422)\" style=\"fill:#009af9; stroke:none; fill-opacity:0\" cx=\"704.013\" cy=\"1428.66\" r=\"2\"/>\n",
       "<circle clip-path=\"url(#clip422)\" style=\"fill:#009af9; stroke:none; fill-opacity:0\" cx=\"720.381\" cy=\"1423.79\" r=\"2\"/>\n",
       "<circle clip-path=\"url(#clip422)\" style=\"fill:#009af9; stroke:none; fill-opacity:0\" cx=\"736.749\" cy=\"1424.6\" r=\"2\"/>\n",
       "<circle clip-path=\"url(#clip422)\" style=\"fill:#009af9; stroke:none; fill-opacity:0\" cx=\"753.117\" cy=\"1418.11\" r=\"2\"/>\n",
       "<circle clip-path=\"url(#clip422)\" style=\"fill:#009af9; stroke:none; fill-opacity:0\" cx=\"769.484\" cy=\"1421.35\" r=\"2\"/>\n",
       "<circle clip-path=\"url(#clip422)\" style=\"fill:#009af9; stroke:none; fill-opacity:0\" cx=\"785.852\" cy=\"1412.83\" r=\"2\"/>\n",
       "<circle clip-path=\"url(#clip422)\" style=\"fill:#009af9; stroke:none; fill-opacity:0\" cx=\"802.22\" cy=\"1411.61\" r=\"2\"/>\n",
       "<circle clip-path=\"url(#clip422)\" style=\"fill:#009af9; stroke:none; fill-opacity:0\" cx=\"818.588\" cy=\"1405.11\" r=\"2\"/>\n",
       "<circle clip-path=\"url(#clip422)\" style=\"fill:#009af9; stroke:none; fill-opacity:0\" cx=\"834.956\" cy=\"1403.08\" r=\"2\"/>\n",
       "<circle clip-path=\"url(#clip422)\" style=\"fill:#009af9; stroke:none; fill-opacity:0\" cx=\"851.324\" cy=\"1409.99\" r=\"2\"/>\n",
       "<circle clip-path=\"url(#clip422)\" style=\"fill:#009af9; stroke:none; fill-opacity:0\" cx=\"867.691\" cy=\"1403.08\" r=\"2\"/>\n",
       "<circle clip-path=\"url(#clip422)\" style=\"fill:#009af9; stroke:none; fill-opacity:0\" cx=\"884.059\" cy=\"1400.65\" r=\"2\"/>\n",
       "<circle clip-path=\"url(#clip422)\" style=\"fill:#009af9; stroke:none; fill-opacity:0\" cx=\"900.427\" cy=\"1392.93\" r=\"2\"/>\n",
       "<circle clip-path=\"url(#clip422)\" style=\"fill:#009af9; stroke:none; fill-opacity:0\" cx=\"916.795\" cy=\"1385.62\" r=\"2\"/>\n",
       "<circle clip-path=\"url(#clip422)\" style=\"fill:#009af9; stroke:none; fill-opacity:0\" cx=\"933.163\" cy=\"1382.78\" r=\"2\"/>\n",
       "<circle clip-path=\"url(#clip422)\" style=\"fill:#009af9; stroke:none; fill-opacity:0\" cx=\"949.531\" cy=\"1394.15\" r=\"2\"/>\n",
       "<circle clip-path=\"url(#clip422)\" style=\"fill:#009af9; stroke:none; fill-opacity:0\" cx=\"965.899\" cy=\"1379.13\" r=\"2\"/>\n",
       "<circle clip-path=\"url(#clip422)\" style=\"fill:#009af9; stroke:none; fill-opacity:0\" cx=\"982.266\" cy=\"1362.48\" r=\"2\"/>\n",
       "<circle clip-path=\"url(#clip422)\" style=\"fill:#009af9; stroke:none; fill-opacity:0\" cx=\"998.634\" cy=\"1349.89\" r=\"2\"/>\n",
       "<circle clip-path=\"url(#clip422)\" style=\"fill:#009af9; stroke:none; fill-opacity:0\" cx=\"1015\" cy=\"1319.04\" r=\"2\"/>\n",
       "<circle clip-path=\"url(#clip422)\" style=\"fill:#009af9; stroke:none; fill-opacity:0\" cx=\"1031.37\" cy=\"1311.73\" r=\"2\"/>\n",
       "<circle clip-path=\"url(#clip422)\" style=\"fill:#009af9; stroke:none; fill-opacity:0\" cx=\"1047.74\" cy=\"1312.54\" r=\"2\"/>\n",
       "<circle clip-path=\"url(#clip422)\" style=\"fill:#009af9; stroke:none; fill-opacity:0\" cx=\"1064.11\" cy=\"1288.99\" r=\"2\"/>\n",
       "<circle clip-path=\"url(#clip422)\" style=\"fill:#009af9; stroke:none; fill-opacity:0\" cx=\"1080.47\" cy=\"1262.6\" r=\"2\"/>\n",
       "<circle clip-path=\"url(#clip422)\" style=\"fill:#009af9; stroke:none; fill-opacity:0\" cx=\"1096.84\" cy=\"1253.67\" r=\"2\"/>\n",
       "<circle clip-path=\"url(#clip422)\" style=\"fill:#009af9; stroke:none; fill-opacity:0\" cx=\"1113.21\" cy=\"1249.2\" r=\"2\"/>\n",
       "<circle clip-path=\"url(#clip422)\" style=\"fill:#009af9; stroke:none; fill-opacity:0\" cx=\"1129.58\" cy=\"1228.09\" r=\"2\"/>\n",
       "<circle clip-path=\"url(#clip422)\" style=\"fill:#009af9; stroke:none; fill-opacity:0\" cx=\"1145.94\" cy=\"1243.92\" r=\"2\"/>\n",
       "<circle clip-path=\"url(#clip422)\" style=\"fill:#009af9; stroke:none; fill-opacity:0\" cx=\"1162.31\" cy=\"1215.5\" r=\"2\"/>\n",
       "<circle clip-path=\"url(#clip422)\" style=\"fill:#009af9; stroke:none; fill-opacity:0\" cx=\"1178.68\" cy=\"1215.5\" r=\"2\"/>\n",
       "<circle clip-path=\"url(#clip422)\" style=\"fill:#009af9; stroke:none; fill-opacity:0\" cx=\"1195.05\" cy=\"1174.9\" r=\"2\"/>\n",
       "<circle clip-path=\"url(#clip422)\" style=\"fill:#009af9; stroke:none; fill-opacity:0\" cx=\"1211.42\" cy=\"1141.2\" r=\"2\"/>\n",
       "<circle clip-path=\"url(#clip422)\" style=\"fill:#009af9; stroke:none; fill-opacity:0\" cx=\"1227.78\" cy=\"1114\" r=\"2\"/>\n",
       "<circle clip-path=\"url(#clip422)\" style=\"fill:#009af9; stroke:none; fill-opacity:0\" cx=\"1244.15\" cy=\"1092.88\" r=\"2\"/>\n",
       "<circle clip-path=\"url(#clip422)\" style=\"fill:#009af9; stroke:none; fill-opacity:0\" cx=\"1260.52\" cy=\"1046.6\" r=\"2\"/>\n",
       "<circle clip-path=\"url(#clip422)\" style=\"fill:#009af9; stroke:none; fill-opacity:0\" cx=\"1276.89\" cy=\"1001.12\" r=\"2\"/>\n",
       "<circle clip-path=\"url(#clip422)\" style=\"fill:#009af9; stroke:none; fill-opacity:0\" cx=\"1293.26\" cy=\"982.444\" r=\"2\"/>\n",
       "<circle clip-path=\"url(#clip422)\" style=\"fill:#009af9; stroke:none; fill-opacity:0\" cx=\"1309.62\" cy=\"959.301\" r=\"2\"/>\n",
       "<circle clip-path=\"url(#clip422)\" style=\"fill:#009af9; stroke:none; fill-opacity:0\" cx=\"1325.99\" cy=\"934.127\" r=\"2\"/>\n",
       "<circle clip-path=\"url(#clip422)\" style=\"fill:#009af9; stroke:none; fill-opacity:0\" cx=\"1342.36\" cy=\"893.119\" r=\"2\"/>\n",
       "<circle clip-path=\"url(#clip422)\" style=\"fill:#009af9; stroke:none; fill-opacity:0\" cx=\"1358.73\" cy=\"839.93\" r=\"2\"/>\n",
       "<circle clip-path=\"url(#clip422)\" style=\"fill:#009af9; stroke:none; fill-opacity:0\" cx=\"1375.09\" cy=\"792.831\" r=\"2\"/>\n",
       "<circle clip-path=\"url(#clip422)\" style=\"fill:#009af9; stroke:none; fill-opacity:0\" cx=\"1391.46\" cy=\"742.079\" r=\"2\"/>\n",
       "<circle clip-path=\"url(#clip422)\" style=\"fill:#009af9; stroke:none; fill-opacity:0\" cx=\"1407.83\" cy=\"689.702\" r=\"2\"/>\n",
       "<circle clip-path=\"url(#clip422)\" style=\"fill:#009af9; stroke:none; fill-opacity:0\" cx=\"1424.2\" cy=\"601.595\" r=\"2\"/>\n",
       "<circle clip-path=\"url(#clip422)\" style=\"fill:#009af9; stroke:none; fill-opacity:0\" cx=\"1440.57\" cy=\"571.955\" r=\"2\"/>\n",
       "<circle clip-path=\"url(#clip422)\" style=\"fill:#009af9; stroke:none; fill-opacity:0\" cx=\"1456.93\" cy=\"523.232\" r=\"2\"/>\n",
       "<circle clip-path=\"url(#clip422)\" style=\"fill:#009af9; stroke:none; fill-opacity:0\" cx=\"1473.3\" cy=\"488.721\" r=\"2\"/>\n",
       "<circle clip-path=\"url(#clip422)\" style=\"fill:#009af9; stroke:none; fill-opacity:0\" cx=\"1489.67\" cy=\"426.193\" r=\"2\"/>\n",
       "<circle clip-path=\"url(#clip422)\" style=\"fill:#009af9; stroke:none; fill-opacity:0\" cx=\"1506.04\" cy=\"415.23\" r=\"2\"/>\n",
       "<circle clip-path=\"url(#clip422)\" style=\"fill:#009af9; stroke:none; fill-opacity:0\" cx=\"1522.41\" cy=\"299.514\" r=\"2\"/>\n",
       "<circle clip-path=\"url(#clip422)\" style=\"fill:#009af9; stroke:none; fill-opacity:0\" cx=\"1538.77\" cy=\"296.672\" r=\"2\"/>\n",
       "<circle clip-path=\"url(#clip422)\" style=\"fill:#009af9; stroke:none; fill-opacity:0\" cx=\"1555.14\" cy=\"264.596\" r=\"2\"/>\n",
       "<circle clip-path=\"url(#clip422)\" style=\"fill:#009af9; stroke:none; fill-opacity:0\" cx=\"1571.51\" cy=\"204.505\" r=\"2\"/>\n",
       "<circle clip-path=\"url(#clip422)\" style=\"fill:#009af9; stroke:none; fill-opacity:0\" cx=\"1587.88\" cy=\"165.121\" r=\"2\"/>\n",
       "<circle clip-path=\"url(#clip422)\" style=\"fill:#009af9; stroke:none; fill-opacity:0\" cx=\"1604.24\" cy=\"114.774\" r=\"2\"/>\n",
       "<circle clip-path=\"url(#clip422)\" style=\"fill:#009af9; stroke:none; fill-opacity:0\" cx=\"1620.61\" cy=\"124.518\" r=\"2\"/>\n",
       "<circle clip-path=\"url(#clip422)\" style=\"fill:#009af9; stroke:none; fill-opacity:0\" cx=\"1636.98\" cy=\"110.714\" r=\"2\"/>\n",
       "<circle clip-path=\"url(#clip422)\" style=\"fill:#009af9; stroke:none; fill-opacity:0\" cx=\"1653.35\" cy=\"146.85\" r=\"2\"/>\n",
       "<circle clip-path=\"url(#clip422)\" style=\"fill:#009af9; stroke:none; fill-opacity:0\" cx=\"1669.72\" cy=\"102.999\" r=\"2\"/>\n",
       "<circle clip-path=\"url(#clip422)\" style=\"fill:#009af9; stroke:none; fill-opacity:0\" cx=\"1686.08\" cy=\"87.9763\" r=\"2\"/>\n",
       "<circle clip-path=\"url(#clip422)\" style=\"fill:#009af9; stroke:none; fill-opacity:0\" cx=\"1702.45\" cy=\"103.811\" r=\"2\"/>\n",
       "<circle clip-path=\"url(#clip422)\" style=\"fill:#009af9; stroke:none; fill-opacity:0\" cx=\"1718.82\" cy=\"151.316\" r=\"2\"/>\n",
       "<circle clip-path=\"url(#clip422)\" style=\"fill:#009af9; stroke:none; fill-opacity:0\" cx=\"1735.19\" cy=\"172.835\" r=\"2\"/>\n",
       "<circle clip-path=\"url(#clip422)\" style=\"fill:#009af9; stroke:none; fill-opacity:0\" cx=\"1751.56\" cy=\"236.581\" r=\"2\"/>\n",
       "<circle clip-path=\"url(#clip422)\" style=\"fill:#009af9; stroke:none; fill-opacity:0\" cx=\"1767.92\" cy=\"327.53\" r=\"2\"/>\n",
       "<circle clip-path=\"url(#clip422)\" style=\"fill:#009af9; stroke:none; fill-opacity:0\" cx=\"1784.29\" cy=\"372.192\" r=\"2\"/>\n",
       "<circle clip-path=\"url(#clip422)\" style=\"fill:#009af9; stroke:none; fill-opacity:0\" cx=\"1800.66\" cy=\"436.344\" r=\"2\"/>\n",
       "<circle clip-path=\"url(#clip422)\" style=\"fill:#009af9; stroke:none; fill-opacity:0\" cx=\"1817.03\" cy=\"535.819\" r=\"2\"/>\n",
       "<circle clip-path=\"url(#clip422)\" style=\"fill:#009af9; stroke:none; fill-opacity:0\" cx=\"1833.39\" cy=\"633.265\" r=\"2\"/>\n",
       "<circle clip-path=\"url(#clip422)\" style=\"fill:#009af9; stroke:none; fill-opacity:0\" cx=\"1849.76\" cy=\"704.725\" r=\"2\"/>\n",
       "<circle clip-path=\"url(#clip422)\" style=\"fill:#009af9; stroke:none; fill-opacity:0\" cx=\"1866.13\" cy=\"796.486\" r=\"2\"/>\n",
       "<circle clip-path=\"url(#clip422)\" style=\"fill:#009af9; stroke:none; fill-opacity:0\" cx=\"1882.5\" cy=\"881.75\" r=\"2\"/>\n",
       "<circle clip-path=\"url(#clip422)\" style=\"fill:#009af9; stroke:none; fill-opacity:0\" cx=\"1898.87\" cy=\"939.406\" r=\"2\"/>\n",
       "<circle clip-path=\"url(#clip422)\" style=\"fill:#009af9; stroke:none; fill-opacity:0\" cx=\"1915.23\" cy=\"1016.55\" r=\"2\"/>\n",
       "<circle clip-path=\"url(#clip422)\" style=\"fill:#009af9; stroke:none; fill-opacity:0\" cx=\"1931.6\" cy=\"1098.16\" r=\"2\"/>\n",
       "<circle clip-path=\"url(#clip422)\" style=\"fill:#009af9; stroke:none; fill-opacity:0\" cx=\"1947.97\" cy=\"1184.64\" r=\"2\"/>\n",
       "<circle clip-path=\"url(#clip422)\" style=\"fill:#009af9; stroke:none; fill-opacity:0\" cx=\"1964.34\" cy=\"1228.09\" r=\"2\"/>\n",
       "<circle clip-path=\"url(#clip422)\" style=\"fill:#009af9; stroke:none; fill-opacity:0\" cx=\"1980.7\" cy=\"1281.28\" r=\"2\"/>\n",
       "<circle clip-path=\"url(#clip422)\" style=\"fill:#009af9; stroke:none; fill-opacity:0\" cx=\"1997.07\" cy=\"1334.06\" r=\"2\"/>\n",
       "<circle clip-path=\"url(#clip422)\" style=\"fill:#009af9; stroke:none; fill-opacity:0\" cx=\"2013.44\" cy=\"1365.32\" r=\"2\"/>\n",
       "<circle clip-path=\"url(#clip422)\" style=\"fill:#009af9; stroke:none; fill-opacity:0\" cx=\"2029.81\" cy=\"1375.47\" r=\"2\"/>\n",
       "<circle clip-path=\"url(#clip422)\" style=\"fill:#009af9; stroke:none; fill-opacity:0\" cx=\"2046.18\" cy=\"1392.53\" r=\"2\"/>\n",
       "<circle clip-path=\"url(#clip422)\" style=\"fill:#009af9; stroke:none; fill-opacity:0\" cx=\"2062.54\" cy=\"1404.71\" r=\"2\"/>\n",
       "<circle clip-path=\"url(#clip422)\" style=\"fill:#009af9; stroke:none; fill-opacity:0\" cx=\"2078.91\" cy=\"1409.58\" r=\"2\"/>\n",
       "<circle clip-path=\"url(#clip422)\" style=\"fill:#009af9; stroke:none; fill-opacity:0\" cx=\"2095.28\" cy=\"1427.44\" r=\"2\"/>\n",
       "<circle clip-path=\"url(#clip422)\" style=\"fill:#009af9; stroke:none; fill-opacity:0\" cx=\"2111.65\" cy=\"1431.1\" r=\"2\"/>\n",
       "<circle clip-path=\"url(#clip422)\" style=\"fill:#009af9; stroke:none; fill-opacity:0\" cx=\"2128.02\" cy=\"1431.5\" r=\"2\"/>\n",
       "<circle clip-path=\"url(#clip422)\" style=\"fill:#009af9; stroke:none; fill-opacity:0\" cx=\"2144.38\" cy=\"1435.97\" r=\"2\"/>\n",
       "<circle clip-path=\"url(#clip422)\" style=\"fill:#009af9; stroke:none; fill-opacity:0\" cx=\"2160.75\" cy=\"1438\" r=\"2\"/>\n",
       "<circle clip-path=\"url(#clip422)\" style=\"fill:#009af9; stroke:none; fill-opacity:0\" cx=\"2177.12\" cy=\"1433.54\" r=\"2\"/>\n",
       "<circle clip-path=\"url(#clip422)\" style=\"fill:#009af9; stroke:none; fill-opacity:0\" cx=\"2193.49\" cy=\"1431.91\" r=\"2\"/>\n",
       "<circle clip-path=\"url(#clip422)\" style=\"fill:#009af9; stroke:none; fill-opacity:0\" cx=\"2209.85\" cy=\"1439.22\" r=\"2\"/>\n",
       "<circle clip-path=\"url(#clip422)\" style=\"fill:#009af9; stroke:none; fill-opacity:0\" cx=\"2226.22\" cy=\"1442.87\" r=\"2\"/>\n",
       "<path clip-path=\"url(#clip420)\" d=\"\n",
       "M1989.52 198.898 L2281.03 198.898 L2281.03 95.2176 L1989.52 95.2176  Z\n",
       "  \" fill=\"#ffffff\" fill-rule=\"evenodd\" fill-opacity=\"1\"/>\n",
       "<polyline clip-path=\"url(#clip420)\" style=\"stroke:#000000; stroke-linecap:butt; stroke-linejoin:round; stroke-width:4; stroke-opacity:1; fill:none\" points=\"\n",
       "  1989.52,198.898 2281.03,198.898 2281.03,95.2176 1989.52,95.2176 1989.52,198.898 \n",
       "  \"/>\n",
       "<path clip-path=\"url(#clip420)\" d=\"\n",
       "M2013.43 167.794 L2156.88 167.794 L2156.88 126.322 L2013.43 126.322 L2013.43 167.794  Z\n",
       "  \" fill=\"#009af9\" fill-rule=\"evenodd\" fill-opacity=\"1\"/>\n",
       "<polyline clip-path=\"url(#clip420)\" style=\"stroke:#000000; stroke-linecap:butt; stroke-linejoin:round; stroke-width:4; stroke-opacity:1; fill:none\" points=\"\n",
       "  2013.43,167.794 2156.88,167.794 2156.88,126.322 2013.43,126.322 2013.43,167.794 \n",
       "  \"/>\n",
       "<path clip-path=\"url(#clip420)\" d=\"M2194.63 166.745 Q2192.82 171.375 2191.11 172.787 Q2189.4 174.199 2186.53 174.199 L2183.12 174.199 L2183.12 170.634 L2185.62 170.634 Q2187.38 170.634 2188.35 169.8 Q2189.33 168.967 2190.51 165.865 L2191.27 163.921 L2180.78 138.412 L2185.3 138.412 L2193.4 158.689 L2201.5 138.412 L2206.02 138.412 L2194.63 166.745 Z\" fill=\"#000000\" fill-rule=\"evenodd\" fill-opacity=\"1\" /><path clip-path=\"url(#clip420)\" d=\"M2213.31 160.402 L2220.95 160.402 L2220.95 134.037 L2212.64 135.703 L2212.64 131.444 L2220.9 129.778 L2225.58 129.778 L2225.58 160.402 L2233.21 160.402 L2233.21 164.338 L2213.31 164.338 L2213.31 160.402 Z\" fill=\"#000000\" fill-rule=\"evenodd\" fill-opacity=\"1\" /></svg>\n"
      ]
     },
     "execution_count": 38,
     "metadata": {},
     "output_type": "execute_result"
    }
   ],
   "source": [
    "histogram(log_p2_posts)"
   ]
  },
  {
   "cell_type": "code",
   "execution_count": 13,
   "metadata": {},
   "outputs": [
    {
     "data": {
      "image/svg+xml": [
       "<?xml version=\"1.0\" encoding=\"utf-8\"?>\n",
       "<svg xmlns=\"http://www.w3.org/2000/svg\" xmlns:xlink=\"http://www.w3.org/1999/xlink\" width=\"600\" height=\"400\" viewBox=\"0 0 2400 1600\">\n",
       "<defs>\n",
       "  <clipPath id=\"clip430\">\n",
       "    <rect x=\"0\" y=\"0\" width=\"2400\" height=\"1600\"/>\n",
       "  </clipPath>\n",
       "</defs>\n",
       "<path clip-path=\"url(#clip430)\" d=\"\n",
       "M0 1600 L2400 1600 L2400 0 L0 0  Z\n",
       "  \" fill=\"#ffffff\" fill-rule=\"evenodd\" fill-opacity=\"1\"/>\n",
       "<defs>\n",
       "  <clipPath id=\"clip431\">\n",
       "    <rect x=\"480\" y=\"0\" width=\"1681\" height=\"1600\"/>\n",
       "  </clipPath>\n",
       "</defs>\n",
       "<path clip-path=\"url(#clip430)\" d=\"\n",
       "M202.177 1486.45 L2352.76 1486.45 L2352.76 47.2441 L202.177 47.2441  Z\n",
       "  \" fill=\"#ffffff\" fill-rule=\"evenodd\" fill-opacity=\"1\"/>\n",
       "<defs>\n",
       "  <clipPath id=\"clip432\">\n",
       "    <rect x=\"202\" y=\"47\" width=\"2152\" height=\"1440\"/>\n",
       "  </clipPath>\n",
       "</defs>\n",
       "<polyline clip-path=\"url(#clip432)\" style=\"stroke:#000000; stroke-linecap:butt; stroke-linejoin:round; stroke-width:2; stroke-opacity:0.1; fill:none\" points=\"\n",
       "  298.462,1486.45 298.462,47.2441 \n",
       "  \"/>\n",
       "<polyline clip-path=\"url(#clip432)\" style=\"stroke:#000000; stroke-linecap:butt; stroke-linejoin:round; stroke-width:2; stroke-opacity:0.1; fill:none\" points=\"\n",
       "  848.465,1486.45 848.465,47.2441 \n",
       "  \"/>\n",
       "<polyline clip-path=\"url(#clip432)\" style=\"stroke:#000000; stroke-linecap:butt; stroke-linejoin:round; stroke-width:2; stroke-opacity:0.1; fill:none\" points=\"\n",
       "  1398.47,1486.45 1398.47,47.2441 \n",
       "  \"/>\n",
       "<polyline clip-path=\"url(#clip432)\" style=\"stroke:#000000; stroke-linecap:butt; stroke-linejoin:round; stroke-width:2; stroke-opacity:0.1; fill:none\" points=\"\n",
       "  1948.47,1486.45 1948.47,47.2441 \n",
       "  \"/>\n",
       "<polyline clip-path=\"url(#clip430)\" style=\"stroke:#000000; stroke-linecap:butt; stroke-linejoin:round; stroke-width:4; stroke-opacity:1; fill:none\" points=\"\n",
       "  202.177,1486.45 2352.76,1486.45 \n",
       "  \"/>\n",
       "<polyline clip-path=\"url(#clip430)\" style=\"stroke:#000000; stroke-linecap:butt; stroke-linejoin:round; stroke-width:4; stroke-opacity:1; fill:none\" points=\"\n",
       "  298.462,1486.45 298.462,1469.18 \n",
       "  \"/>\n",
       "<polyline clip-path=\"url(#clip430)\" style=\"stroke:#000000; stroke-linecap:butt; stroke-linejoin:round; stroke-width:4; stroke-opacity:1; fill:none\" points=\"\n",
       "  848.465,1486.45 848.465,1469.18 \n",
       "  \"/>\n",
       "<polyline clip-path=\"url(#clip430)\" style=\"stroke:#000000; stroke-linecap:butt; stroke-linejoin:round; stroke-width:4; stroke-opacity:1; fill:none\" points=\"\n",
       "  1398.47,1486.45 1398.47,1469.18 \n",
       "  \"/>\n",
       "<polyline clip-path=\"url(#clip430)\" style=\"stroke:#000000; stroke-linecap:butt; stroke-linejoin:round; stroke-width:4; stroke-opacity:1; fill:none\" points=\"\n",
       "  1948.47,1486.45 1948.47,1469.18 \n",
       "  \"/>\n",
       "<path clip-path=\"url(#clip430)\" d=\"M230.604 1515.64 Q226.993 1515.64 225.164 1519.2 Q223.359 1522.75 223.359 1529.87 Q223.359 1536.98 225.164 1540.55 Q226.993 1544.09 230.604 1544.09 Q234.238 1544.09 236.044 1540.55 Q237.872 1536.98 237.872 1529.87 Q237.872 1522.75 236.044 1519.2 Q234.238 1515.64 230.604 1515.64 M230.604 1511.93 Q236.414 1511.93 239.47 1516.54 Q242.548 1521.12 242.548 1529.87 Q242.548 1538.6 239.47 1543.21 Q236.414 1547.79 230.604 1547.79 Q224.794 1547.79 221.715 1543.21 Q218.659 1538.6 218.659 1529.87 Q218.659 1521.12 221.715 1516.54 Q224.794 1511.93 230.604 1511.93 Z\" fill=\"#000000\" fill-rule=\"evenodd\" fill-opacity=\"1\" /><path clip-path=\"url(#clip430)\" d=\"M250.766 1541.24 L255.65 1541.24 L255.65 1547.12 L250.766 1547.12 L250.766 1541.24 Z\" fill=\"#000000\" fill-rule=\"evenodd\" fill-opacity=\"1\" /><path clip-path=\"url(#clip430)\" d=\"M275.835 1515.64 Q272.224 1515.64 270.395 1519.2 Q268.59 1522.75 268.59 1529.87 Q268.59 1536.98 270.395 1540.55 Q272.224 1544.09 275.835 1544.09 Q279.469 1544.09 281.275 1540.55 Q283.104 1536.98 283.104 1529.87 Q283.104 1522.75 281.275 1519.2 Q279.469 1515.64 275.835 1515.64 M275.835 1511.93 Q281.645 1511.93 284.701 1516.54 Q287.779 1521.12 287.779 1529.87 Q287.779 1538.6 284.701 1543.21 Q281.645 1547.79 275.835 1547.79 Q270.025 1547.79 266.946 1543.21 Q263.891 1538.6 263.891 1529.87 Q263.891 1521.12 266.946 1516.54 Q270.025 1511.93 275.835 1511.93 Z\" fill=\"#000000\" fill-rule=\"evenodd\" fill-opacity=\"1\" /><path clip-path=\"url(#clip430)\" d=\"M305.997 1515.64 Q302.386 1515.64 300.557 1519.2 Q298.752 1522.75 298.752 1529.87 Q298.752 1536.98 300.557 1540.55 Q302.386 1544.09 305.997 1544.09 Q309.631 1544.09 311.437 1540.55 Q313.265 1536.98 313.265 1529.87 Q313.265 1522.75 311.437 1519.2 Q309.631 1515.64 305.997 1515.64 M305.997 1511.93 Q311.807 1511.93 314.863 1516.54 Q317.941 1521.12 317.941 1529.87 Q317.941 1538.6 314.863 1543.21 Q311.807 1547.79 305.997 1547.79 Q300.187 1547.79 297.108 1543.21 Q294.053 1538.6 294.053 1529.87 Q294.053 1521.12 297.108 1516.54 Q300.187 1511.93 305.997 1511.93 Z\" fill=\"#000000\" fill-rule=\"evenodd\" fill-opacity=\"1\" /><path clip-path=\"url(#clip430)\" d=\"M336.159 1515.64 Q332.548 1515.64 330.719 1519.2 Q328.914 1522.75 328.914 1529.87 Q328.914 1536.98 330.719 1540.55 Q332.548 1544.09 336.159 1544.09 Q339.793 1544.09 341.599 1540.55 Q343.427 1536.98 343.427 1529.87 Q343.427 1522.75 341.599 1519.2 Q339.793 1515.64 336.159 1515.64 M336.159 1511.93 Q341.969 1511.93 345.025 1516.54 Q348.103 1521.12 348.103 1529.87 Q348.103 1538.6 345.025 1543.21 Q341.969 1547.79 336.159 1547.79 Q330.349 1547.79 327.27 1543.21 Q324.214 1538.6 324.214 1529.87 Q324.214 1521.12 327.27 1516.54 Q330.349 1511.93 336.159 1511.93 Z\" fill=\"#000000\" fill-rule=\"evenodd\" fill-opacity=\"1\" /><path clip-path=\"url(#clip430)\" d=\"M366.321 1515.64 Q362.71 1515.64 360.881 1519.2 Q359.075 1522.75 359.075 1529.87 Q359.075 1536.98 360.881 1540.55 Q362.71 1544.09 366.321 1544.09 Q369.955 1544.09 371.761 1540.55 Q373.589 1536.98 373.589 1529.87 Q373.589 1522.75 371.761 1519.2 Q369.955 1515.64 366.321 1515.64 M366.321 1511.93 Q372.131 1511.93 375.186 1516.54 Q378.265 1521.12 378.265 1529.87 Q378.265 1538.6 375.186 1543.21 Q372.131 1547.79 366.321 1547.79 Q360.511 1547.79 357.432 1543.21 Q354.376 1538.6 354.376 1529.87 Q354.376 1521.12 357.432 1516.54 Q360.511 1511.93 366.321 1511.93 Z\" fill=\"#000000\" fill-rule=\"evenodd\" fill-opacity=\"1\" /><path clip-path=\"url(#clip430)\" d=\"M781.104 1515.64 Q777.493 1515.64 775.664 1519.2 Q773.858 1522.75 773.858 1529.87 Q773.858 1536.98 775.664 1540.55 Q777.493 1544.09 781.104 1544.09 Q784.738 1544.09 786.544 1540.55 Q788.372 1536.98 788.372 1529.87 Q788.372 1522.75 786.544 1519.2 Q784.738 1515.64 781.104 1515.64 M781.104 1511.93 Q786.914 1511.93 789.969 1516.54 Q793.048 1521.12 793.048 1529.87 Q793.048 1538.6 789.969 1543.21 Q786.914 1547.79 781.104 1547.79 Q775.294 1547.79 772.215 1543.21 Q769.159 1538.6 769.159 1529.87 Q769.159 1521.12 772.215 1516.54 Q775.294 1511.93 781.104 1511.93 Z\" fill=\"#000000\" fill-rule=\"evenodd\" fill-opacity=\"1\" /><path clip-path=\"url(#clip430)\" d=\"M801.266 1541.24 L806.15 1541.24 L806.15 1547.12 L801.266 1547.12 L801.266 1541.24 Z\" fill=\"#000000\" fill-rule=\"evenodd\" fill-opacity=\"1\" /><path clip-path=\"url(#clip430)\" d=\"M826.335 1515.64 Q822.724 1515.64 820.895 1519.2 Q819.09 1522.75 819.09 1529.87 Q819.09 1536.98 820.895 1540.55 Q822.724 1544.09 826.335 1544.09 Q829.969 1544.09 831.775 1540.55 Q833.604 1536.98 833.604 1529.87 Q833.604 1522.75 831.775 1519.2 Q829.969 1515.64 826.335 1515.64 M826.335 1511.93 Q832.145 1511.93 835.201 1516.54 Q838.279 1521.12 838.279 1529.87 Q838.279 1538.6 835.201 1543.21 Q832.145 1547.79 826.335 1547.79 Q820.525 1547.79 817.446 1543.21 Q814.391 1538.6 814.391 1529.87 Q814.391 1521.12 817.446 1516.54 Q820.525 1511.93 826.335 1511.93 Z\" fill=\"#000000\" fill-rule=\"evenodd\" fill-opacity=\"1\" /><path clip-path=\"url(#clip430)\" d=\"M856.497 1515.64 Q852.886 1515.64 851.057 1519.2 Q849.252 1522.75 849.252 1529.87 Q849.252 1536.98 851.057 1540.55 Q852.886 1544.09 856.497 1544.09 Q860.131 1544.09 861.937 1540.55 Q863.765 1536.98 863.765 1529.87 Q863.765 1522.75 861.937 1519.2 Q860.131 1515.64 856.497 1515.64 M856.497 1511.93 Q862.307 1511.93 865.363 1516.54 Q868.441 1521.12 868.441 1529.87 Q868.441 1538.6 865.363 1543.21 Q862.307 1547.79 856.497 1547.79 Q850.687 1547.79 847.608 1543.21 Q844.553 1538.6 844.553 1529.87 Q844.553 1521.12 847.608 1516.54 Q850.687 1511.93 856.497 1511.93 Z\" fill=\"#000000\" fill-rule=\"evenodd\" fill-opacity=\"1\" /><path clip-path=\"url(#clip430)\" d=\"M886.659 1515.64 Q883.048 1515.64 881.219 1519.2 Q879.413 1522.75 879.413 1529.87 Q879.413 1536.98 881.219 1540.55 Q883.048 1544.09 886.659 1544.09 Q890.293 1544.09 892.099 1540.55 Q893.927 1536.98 893.927 1529.87 Q893.927 1522.75 892.099 1519.2 Q890.293 1515.64 886.659 1515.64 M886.659 1511.93 Q892.469 1511.93 895.524 1516.54 Q898.603 1521.12 898.603 1529.87 Q898.603 1538.6 895.524 1543.21 Q892.469 1547.79 886.659 1547.79 Q880.849 1547.79 877.77 1543.21 Q874.714 1538.6 874.714 1529.87 Q874.714 1521.12 877.77 1516.54 Q880.849 1511.93 886.659 1511.93 Z\" fill=\"#000000\" fill-rule=\"evenodd\" fill-opacity=\"1\" /><path clip-path=\"url(#clip430)\" d=\"M906.867 1512.56 L925.223 1512.56 L925.223 1516.5 L911.149 1516.5 L911.149 1524.97 Q912.168 1524.62 913.186 1524.46 Q914.205 1524.27 915.223 1524.27 Q921.01 1524.27 924.39 1527.44 Q927.77 1530.62 927.77 1536.03 Q927.77 1541.61 924.297 1544.71 Q920.825 1547.79 914.506 1547.79 Q912.33 1547.79 910.061 1547.42 Q907.816 1547.05 905.409 1546.31 L905.409 1541.61 Q907.492 1542.74 909.714 1543.3 Q911.936 1543.86 914.413 1543.86 Q918.418 1543.86 920.756 1541.75 Q923.094 1539.64 923.094 1536.03 Q923.094 1532.42 920.756 1530.31 Q918.418 1528.21 914.413 1528.21 Q912.538 1528.21 910.663 1528.62 Q908.811 1529.04 906.867 1529.92 L906.867 1512.56 Z\" fill=\"#000000\" fill-rule=\"evenodd\" fill-opacity=\"1\" /><path clip-path=\"url(#clip430)\" d=\"M1330.61 1515.64 Q1327 1515.64 1325.17 1519.2 Q1323.36 1522.75 1323.36 1529.87 Q1323.36 1536.98 1325.17 1540.55 Q1327 1544.09 1330.61 1544.09 Q1334.24 1544.09 1336.05 1540.55 Q1337.88 1536.98 1337.88 1529.87 Q1337.88 1522.75 1336.05 1519.2 Q1334.24 1515.64 1330.61 1515.64 M1330.61 1511.93 Q1336.42 1511.93 1339.47 1516.54 Q1342.55 1521.12 1342.55 1529.87 Q1342.55 1538.6 1339.47 1543.21 Q1336.42 1547.79 1330.61 1547.79 Q1324.8 1547.79 1321.72 1543.21 Q1318.66 1538.6 1318.66 1529.87 Q1318.66 1521.12 1321.72 1516.54 Q1324.8 1511.93 1330.61 1511.93 Z\" fill=\"#000000\" fill-rule=\"evenodd\" fill-opacity=\"1\" /><path clip-path=\"url(#clip430)\" d=\"M1350.77 1541.24 L1355.65 1541.24 L1355.65 1547.12 L1350.77 1547.12 L1350.77 1541.24 Z\" fill=\"#000000\" fill-rule=\"evenodd\" fill-opacity=\"1\" /><path clip-path=\"url(#clip430)\" d=\"M1375.84 1515.64 Q1372.23 1515.64 1370.4 1519.2 Q1368.59 1522.75 1368.59 1529.87 Q1368.59 1536.98 1370.4 1540.55 Q1372.23 1544.09 1375.84 1544.09 Q1379.47 1544.09 1381.28 1540.55 Q1383.11 1536.98 1383.11 1529.87 Q1383.11 1522.75 1381.28 1519.2 Q1379.47 1515.64 1375.84 1515.64 M1375.84 1511.93 Q1381.65 1511.93 1384.71 1516.54 Q1387.78 1521.12 1387.78 1529.87 Q1387.78 1538.6 1384.71 1543.21 Q1381.65 1547.79 1375.84 1547.79 Q1370.03 1547.79 1366.95 1543.21 Q1363.9 1538.6 1363.9 1529.87 Q1363.9 1521.12 1366.95 1516.54 Q1370.03 1511.93 1375.84 1511.93 Z\" fill=\"#000000\" fill-rule=\"evenodd\" fill-opacity=\"1\" /><path clip-path=\"url(#clip430)\" d=\"M1406 1515.64 Q1402.39 1515.64 1400.56 1519.2 Q1398.76 1522.75 1398.76 1529.87 Q1398.76 1536.98 1400.56 1540.55 Q1402.39 1544.09 1406 1544.09 Q1409.64 1544.09 1411.44 1540.55 Q1413.27 1536.98 1413.27 1529.87 Q1413.27 1522.75 1411.44 1519.2 Q1409.64 1515.64 1406 1515.64 M1406 1511.93 Q1411.81 1511.93 1414.87 1516.54 Q1417.95 1521.12 1417.95 1529.87 Q1417.95 1538.6 1414.87 1543.21 Q1411.81 1547.79 1406 1547.79 Q1400.19 1547.79 1397.11 1543.21 Q1394.06 1538.6 1394.06 1529.87 Q1394.06 1521.12 1397.11 1516.54 Q1400.19 1511.93 1406 1511.93 Z\" fill=\"#000000\" fill-rule=\"evenodd\" fill-opacity=\"1\" /><path clip-path=\"url(#clip430)\" d=\"M1426.97 1543.18 L1434.61 1543.18 L1434.61 1516.82 L1426.3 1518.49 L1426.3 1514.23 L1434.57 1512.56 L1439.24 1512.56 L1439.24 1543.18 L1446.88 1543.18 L1446.88 1547.12 L1426.97 1547.12 L1426.97 1543.18 Z\" fill=\"#000000\" fill-rule=\"evenodd\" fill-opacity=\"1\" /><path clip-path=\"url(#clip430)\" d=\"M1466.33 1515.64 Q1462.71 1515.64 1460.89 1519.2 Q1459.08 1522.75 1459.08 1529.87 Q1459.08 1536.98 1460.89 1540.55 Q1462.71 1544.09 1466.33 1544.09 Q1469.96 1544.09 1471.77 1540.55 Q1473.59 1536.98 1473.59 1529.87 Q1473.59 1522.75 1471.77 1519.2 Q1469.96 1515.64 1466.33 1515.64 M1466.33 1511.93 Q1472.14 1511.93 1475.19 1516.54 Q1478.27 1521.12 1478.27 1529.87 Q1478.27 1538.6 1475.19 1543.21 Q1472.14 1547.79 1466.33 1547.79 Q1460.52 1547.79 1457.44 1543.21 Q1454.38 1538.6 1454.38 1529.87 Q1454.38 1521.12 1457.44 1516.54 Q1460.52 1511.93 1466.33 1511.93 Z\" fill=\"#000000\" fill-rule=\"evenodd\" fill-opacity=\"1\" /><path clip-path=\"url(#clip430)\" d=\"M1881.11 1515.64 Q1877.5 1515.64 1875.67 1519.2 Q1873.86 1522.75 1873.86 1529.87 Q1873.86 1536.98 1875.67 1540.55 Q1877.5 1544.09 1881.11 1544.09 Q1884.74 1544.09 1886.55 1540.55 Q1888.38 1536.98 1888.38 1529.87 Q1888.38 1522.75 1886.55 1519.2 Q1884.74 1515.64 1881.11 1515.64 M1881.11 1511.93 Q1886.92 1511.93 1889.97 1516.54 Q1893.05 1521.12 1893.05 1529.87 Q1893.05 1538.6 1889.97 1543.21 Q1886.92 1547.79 1881.11 1547.79 Q1875.3 1547.79 1872.22 1543.21 Q1869.16 1538.6 1869.16 1529.87 Q1869.16 1521.12 1872.22 1516.54 Q1875.3 1511.93 1881.11 1511.93 Z\" fill=\"#000000\" fill-rule=\"evenodd\" fill-opacity=\"1\" /><path clip-path=\"url(#clip430)\" d=\"M1901.27 1541.24 L1906.15 1541.24 L1906.15 1547.12 L1901.27 1547.12 L1901.27 1541.24 Z\" fill=\"#000000\" fill-rule=\"evenodd\" fill-opacity=\"1\" /><path clip-path=\"url(#clip430)\" d=\"M1926.34 1515.64 Q1922.73 1515.64 1920.9 1519.2 Q1919.09 1522.75 1919.09 1529.87 Q1919.09 1536.98 1920.9 1540.55 Q1922.73 1544.09 1926.34 1544.09 Q1929.97 1544.09 1931.78 1540.55 Q1933.61 1536.98 1933.61 1529.87 Q1933.61 1522.75 1931.78 1519.2 Q1929.97 1515.64 1926.34 1515.64 M1926.34 1511.93 Q1932.15 1511.93 1935.21 1516.54 Q1938.28 1521.12 1938.28 1529.87 Q1938.28 1538.6 1935.21 1543.21 Q1932.15 1547.79 1926.34 1547.79 Q1920.53 1547.79 1917.45 1543.21 Q1914.4 1538.6 1914.4 1529.87 Q1914.4 1521.12 1917.45 1516.54 Q1920.53 1511.93 1926.34 1511.93 Z\" fill=\"#000000\" fill-rule=\"evenodd\" fill-opacity=\"1\" /><path clip-path=\"url(#clip430)\" d=\"M1956.5 1515.64 Q1952.89 1515.64 1951.06 1519.2 Q1949.26 1522.75 1949.26 1529.87 Q1949.26 1536.98 1951.06 1540.55 Q1952.89 1544.09 1956.5 1544.09 Q1960.14 1544.09 1961.94 1540.55 Q1963.77 1536.98 1963.77 1529.87 Q1963.77 1522.75 1961.94 1519.2 Q1960.14 1515.64 1956.5 1515.64 M1956.5 1511.93 Q1962.31 1511.93 1965.37 1516.54 Q1968.45 1521.12 1968.45 1529.87 Q1968.45 1538.6 1965.37 1543.21 Q1962.31 1547.79 1956.5 1547.79 Q1950.69 1547.79 1947.61 1543.21 Q1944.56 1538.6 1944.56 1529.87 Q1944.56 1521.12 1947.61 1516.54 Q1950.69 1511.93 1956.5 1511.93 Z\" fill=\"#000000\" fill-rule=\"evenodd\" fill-opacity=\"1\" /><path clip-path=\"url(#clip430)\" d=\"M1977.47 1543.18 L1985.11 1543.18 L1985.11 1516.82 L1976.8 1518.49 L1976.8 1514.23 L1985.07 1512.56 L1989.74 1512.56 L1989.74 1543.18 L1997.38 1543.18 L1997.38 1547.12 L1977.47 1547.12 L1977.47 1543.18 Z\" fill=\"#000000\" fill-rule=\"evenodd\" fill-opacity=\"1\" /><path clip-path=\"url(#clip430)\" d=\"M2006.87 1512.56 L2025.23 1512.56 L2025.23 1516.5 L2011.15 1516.5 L2011.15 1524.97 Q2012.17 1524.62 2013.19 1524.46 Q2014.21 1524.27 2015.23 1524.27 Q2021.01 1524.27 2024.39 1527.44 Q2027.77 1530.62 2027.77 1536.03 Q2027.77 1541.61 2024.3 1544.71 Q2020.83 1547.79 2014.51 1547.79 Q2012.33 1547.79 2010.07 1547.42 Q2007.82 1547.05 2005.41 1546.31 L2005.41 1541.61 Q2007.5 1542.74 2009.72 1543.3 Q2011.94 1543.86 2014.42 1543.86 Q2018.42 1543.86 2020.76 1541.75 Q2023.1 1539.64 2023.1 1536.03 Q2023.1 1532.42 2020.76 1530.31 Q2018.42 1528.21 2014.42 1528.21 Q2012.54 1528.21 2010.67 1528.62 Q2008.82 1529.04 2006.87 1529.92 L2006.87 1512.56 Z\" fill=\"#000000\" fill-rule=\"evenodd\" fill-opacity=\"1\" /><polyline clip-path=\"url(#clip432)\" style=\"stroke:#000000; stroke-linecap:butt; stroke-linejoin:round; stroke-width:2; stroke-opacity:0.1; fill:none\" points=\"\n",
       "  202.177,1445.72 2352.76,1445.72 \n",
       "  \"/>\n",
       "<polyline clip-path=\"url(#clip432)\" style=\"stroke:#000000; stroke-linecap:butt; stroke-linejoin:round; stroke-width:2; stroke-opacity:0.1; fill:none\" points=\"\n",
       "  202.177,1118.08 2352.76,1118.08 \n",
       "  \"/>\n",
       "<polyline clip-path=\"url(#clip432)\" style=\"stroke:#000000; stroke-linecap:butt; stroke-linejoin:round; stroke-width:2; stroke-opacity:0.1; fill:none\" points=\"\n",
       "  202.177,790.436 2352.76,790.436 \n",
       "  \"/>\n",
       "<polyline clip-path=\"url(#clip432)\" style=\"stroke:#000000; stroke-linecap:butt; stroke-linejoin:round; stroke-width:2; stroke-opacity:0.1; fill:none\" points=\"\n",
       "  202.177,462.796 2352.76,462.796 \n",
       "  \"/>\n",
       "<polyline clip-path=\"url(#clip432)\" style=\"stroke:#000000; stroke-linecap:butt; stroke-linejoin:round; stroke-width:2; stroke-opacity:0.1; fill:none\" points=\"\n",
       "  202.177,135.156 2352.76,135.156 \n",
       "  \"/>\n",
       "<polyline clip-path=\"url(#clip430)\" style=\"stroke:#000000; stroke-linecap:butt; stroke-linejoin:round; stroke-width:4; stroke-opacity:1; fill:none\" points=\"\n",
       "  202.177,1486.45 202.177,47.2441 \n",
       "  \"/>\n",
       "<polyline clip-path=\"url(#clip430)\" style=\"stroke:#000000; stroke-linecap:butt; stroke-linejoin:round; stroke-width:4; stroke-opacity:1; fill:none\" points=\"\n",
       "  202.177,1445.72 227.984,1445.72 \n",
       "  \"/>\n",
       "<polyline clip-path=\"url(#clip430)\" style=\"stroke:#000000; stroke-linecap:butt; stroke-linejoin:round; stroke-width:4; stroke-opacity:1; fill:none\" points=\"\n",
       "  202.177,1118.08 227.984,1118.08 \n",
       "  \"/>\n",
       "<polyline clip-path=\"url(#clip430)\" style=\"stroke:#000000; stroke-linecap:butt; stroke-linejoin:round; stroke-width:4; stroke-opacity:1; fill:none\" points=\"\n",
       "  202.177,790.436 227.984,790.436 \n",
       "  \"/>\n",
       "<polyline clip-path=\"url(#clip430)\" style=\"stroke:#000000; stroke-linecap:butt; stroke-linejoin:round; stroke-width:4; stroke-opacity:1; fill:none\" points=\"\n",
       "  202.177,462.796 227.984,462.796 \n",
       "  \"/>\n",
       "<polyline clip-path=\"url(#clip430)\" style=\"stroke:#000000; stroke-linecap:butt; stroke-linejoin:round; stroke-width:4; stroke-opacity:1; fill:none\" points=\"\n",
       "  202.177,135.156 227.984,135.156 \n",
       "  \"/>\n",
       "<path clip-path=\"url(#clip430)\" d=\"M154.232 1431.51 Q150.621 1431.51 148.793 1435.08 Q146.987 1438.62 146.987 1445.75 Q146.987 1452.86 148.793 1456.42 Q150.621 1459.96 154.232 1459.96 Q157.867 1459.96 159.672 1456.42 Q161.501 1452.86 161.501 1445.75 Q161.501 1438.62 159.672 1435.08 Q157.867 1431.51 154.232 1431.51 M154.232 1427.81 Q160.042 1427.81 163.098 1432.42 Q166.177 1437 166.177 1445.75 Q166.177 1454.48 163.098 1459.08 Q160.042 1463.67 154.232 1463.67 Q148.422 1463.67 145.343 1459.08 Q142.288 1454.48 142.288 1445.75 Q142.288 1437 145.343 1432.42 Q148.422 1427.81 154.232 1427.81 Z\" fill=\"#000000\" fill-rule=\"evenodd\" fill-opacity=\"1\" /><path clip-path=\"url(#clip430)\" d=\"M54.5569 1131.42 L62.1958 1131.42 L62.1958 1105.06 L53.8856 1106.72 L53.8856 1102.46 L62.1495 1100.8 L66.8254 1100.8 L66.8254 1131.42 L74.4642 1131.42 L74.4642 1135.36 L54.5569 1135.36 L54.5569 1131.42 Z\" fill=\"#000000\" fill-rule=\"evenodd\" fill-opacity=\"1\" /><path clip-path=\"url(#clip430)\" d=\"M93.9086 1103.87 Q90.2975 1103.87 88.4688 1107.44 Q86.6632 1110.98 86.6632 1118.11 Q86.6632 1125.22 88.4688 1128.78 Q90.2975 1132.32 93.9086 1132.32 Q97.5428 1132.32 99.3483 1128.78 Q101.177 1125.22 101.177 1118.11 Q101.177 1110.98 99.3483 1107.44 Q97.5428 1103.87 93.9086 1103.87 M93.9086 1100.17 Q99.7187 1100.17 102.774 1104.78 Q105.853 1109.36 105.853 1118.11 Q105.853 1126.84 102.774 1131.44 Q99.7187 1136.03 93.9086 1136.03 Q88.0984 1136.03 85.0197 1131.44 Q81.9642 1126.84 81.9642 1118.11 Q81.9642 1109.36 85.0197 1104.78 Q88.0984 1100.17 93.9086 1100.17 Z\" fill=\"#000000\" fill-rule=\"evenodd\" fill-opacity=\"1\" /><path clip-path=\"url(#clip430)\" d=\"M124.07 1103.87 Q120.459 1103.87 118.631 1107.44 Q116.825 1110.98 116.825 1118.11 Q116.825 1125.22 118.631 1128.78 Q120.459 1132.32 124.07 1132.32 Q127.705 1132.32 129.51 1128.78 Q131.339 1125.22 131.339 1118.11 Q131.339 1110.98 129.51 1107.44 Q127.705 1103.87 124.07 1103.87 M124.07 1100.17 Q129.881 1100.17 132.936 1104.78 Q136.015 1109.36 136.015 1118.11 Q136.015 1126.84 132.936 1131.44 Q129.881 1136.03 124.07 1136.03 Q118.26 1136.03 115.182 1131.44 Q112.126 1126.84 112.126 1118.11 Q112.126 1109.36 115.182 1104.78 Q118.26 1100.17 124.07 1100.17 Z\" fill=\"#000000\" fill-rule=\"evenodd\" fill-opacity=\"1\" /><path clip-path=\"url(#clip430)\" d=\"M154.232 1103.87 Q150.621 1103.87 148.793 1107.44 Q146.987 1110.98 146.987 1118.11 Q146.987 1125.22 148.793 1128.78 Q150.621 1132.32 154.232 1132.32 Q157.867 1132.32 159.672 1128.78 Q161.501 1125.22 161.501 1118.11 Q161.501 1110.98 159.672 1107.44 Q157.867 1103.87 154.232 1103.87 M154.232 1100.17 Q160.042 1100.17 163.098 1104.78 Q166.177 1109.36 166.177 1118.11 Q166.177 1126.84 163.098 1131.44 Q160.042 1136.03 154.232 1136.03 Q148.422 1136.03 145.343 1131.44 Q142.288 1126.84 142.288 1118.11 Q142.288 1109.36 145.343 1104.78 Q148.422 1100.17 154.232 1100.17 Z\" fill=\"#000000\" fill-rule=\"evenodd\" fill-opacity=\"1\" /><path clip-path=\"url(#clip430)\" d=\"M57.7745 803.781 L74.0939 803.781 L74.0939 807.716 L52.1495 807.716 L52.1495 803.781 Q54.8115 801.026 59.3949 796.397 Q64.0013 791.744 65.1819 790.401 Q67.4272 787.878 68.3068 786.142 Q69.2096 784.383 69.2096 782.693 Q69.2096 779.938 67.2652 778.202 Q65.3439 776.466 62.2421 776.466 Q60.043 776.466 57.5893 777.23 Q55.1588 777.994 52.381 779.545 L52.381 774.823 Q55.2051 773.688 57.6588 773.11 Q60.1124 772.531 62.1495 772.531 Q67.5198 772.531 70.7142 775.216 Q73.9087 777.901 73.9087 782.392 Q73.9087 784.522 73.0985 786.443 Q72.3115 788.341 70.205 790.934 Q69.6263 791.605 66.5245 794.823 Q63.4226 798.017 57.7745 803.781 Z\" fill=\"#000000\" fill-rule=\"evenodd\" fill-opacity=\"1\" /><path clip-path=\"url(#clip430)\" d=\"M93.9086 776.235 Q90.2975 776.235 88.4688 779.8 Q86.6632 783.341 86.6632 790.471 Q86.6632 797.577 88.4688 801.142 Q90.2975 804.684 93.9086 804.684 Q97.5428 804.684 99.3483 801.142 Q101.177 797.577 101.177 790.471 Q101.177 783.341 99.3483 779.8 Q97.5428 776.235 93.9086 776.235 M93.9086 772.531 Q99.7187 772.531 102.774 777.138 Q105.853 781.721 105.853 790.471 Q105.853 799.198 102.774 803.804 Q99.7187 808.387 93.9086 808.387 Q88.0984 808.387 85.0197 803.804 Q81.9642 799.198 81.9642 790.471 Q81.9642 781.721 85.0197 777.138 Q88.0984 772.531 93.9086 772.531 Z\" fill=\"#000000\" fill-rule=\"evenodd\" fill-opacity=\"1\" /><path clip-path=\"url(#clip430)\" d=\"M124.07 776.235 Q120.459 776.235 118.631 779.8 Q116.825 783.341 116.825 790.471 Q116.825 797.577 118.631 801.142 Q120.459 804.684 124.07 804.684 Q127.705 804.684 129.51 801.142 Q131.339 797.577 131.339 790.471 Q131.339 783.341 129.51 779.8 Q127.705 776.235 124.07 776.235 M124.07 772.531 Q129.881 772.531 132.936 777.138 Q136.015 781.721 136.015 790.471 Q136.015 799.198 132.936 803.804 Q129.881 808.387 124.07 808.387 Q118.26 808.387 115.182 803.804 Q112.126 799.198 112.126 790.471 Q112.126 781.721 115.182 777.138 Q118.26 772.531 124.07 772.531 Z\" fill=\"#000000\" fill-rule=\"evenodd\" fill-opacity=\"1\" /><path clip-path=\"url(#clip430)\" d=\"M154.232 776.235 Q150.621 776.235 148.793 779.8 Q146.987 783.341 146.987 790.471 Q146.987 797.577 148.793 801.142 Q150.621 804.684 154.232 804.684 Q157.867 804.684 159.672 801.142 Q161.501 797.577 161.501 790.471 Q161.501 783.341 159.672 779.8 Q157.867 776.235 154.232 776.235 M154.232 772.531 Q160.042 772.531 163.098 777.138 Q166.177 781.721 166.177 790.471 Q166.177 799.198 163.098 803.804 Q160.042 808.387 154.232 808.387 Q148.422 808.387 145.343 803.804 Q142.288 799.198 142.288 790.471 Q142.288 781.721 145.343 777.138 Q148.422 772.531 154.232 772.531 Z\" fill=\"#000000\" fill-rule=\"evenodd\" fill-opacity=\"1\" /><path clip-path=\"url(#clip430)\" d=\"M67.9133 461.442 Q71.2698 462.16 73.1448 464.428 Q75.0429 466.697 75.0429 470.03 Q75.0429 475.146 71.5244 477.947 Q68.0059 480.748 61.5245 480.748 Q59.3486 480.748 57.0338 480.308 Q54.7421 479.891 52.2884 479.035 L52.2884 474.521 Q54.2328 475.655 56.5477 476.234 Q58.8625 476.812 61.3856 476.812 Q65.7837 476.812 68.0754 475.076 Q70.3902 473.34 70.3902 470.03 Q70.3902 466.974 68.2374 465.261 Q66.1078 463.525 62.2884 463.525 L58.2606 463.525 L58.2606 459.683 L62.4735 459.683 Q65.9226 459.683 67.7513 458.317 Q69.58 456.928 69.58 454.336 Q69.58 451.674 67.6819 450.262 Q65.8069 448.826 62.2884 448.826 Q60.3671 448.826 58.168 449.243 Q55.969 449.66 53.3301 450.539 L53.3301 446.373 Q55.9921 445.632 58.3069 445.262 Q60.6449 444.891 62.705 444.891 Q68.0291 444.891 71.1309 447.322 Q74.2327 449.729 74.2327 453.85 Q74.2327 456.72 72.5892 458.711 Q70.9457 460.678 67.9133 461.442 Z\" fill=\"#000000\" fill-rule=\"evenodd\" fill-opacity=\"1\" /><path clip-path=\"url(#clip430)\" d=\"M93.9086 448.595 Q90.2975 448.595 88.4688 452.16 Q86.6632 455.701 86.6632 462.831 Q86.6632 469.937 88.4688 473.502 Q90.2975 477.044 93.9086 477.044 Q97.5428 477.044 99.3483 473.502 Q101.177 469.937 101.177 462.831 Q101.177 455.701 99.3483 452.16 Q97.5428 448.595 93.9086 448.595 M93.9086 444.891 Q99.7187 444.891 102.774 449.498 Q105.853 454.081 105.853 462.831 Q105.853 471.558 102.774 476.164 Q99.7187 480.748 93.9086 480.748 Q88.0984 480.748 85.0197 476.164 Q81.9642 471.558 81.9642 462.831 Q81.9642 454.081 85.0197 449.498 Q88.0984 444.891 93.9086 444.891 Z\" fill=\"#000000\" fill-rule=\"evenodd\" fill-opacity=\"1\" /><path clip-path=\"url(#clip430)\" d=\"M124.07 448.595 Q120.459 448.595 118.631 452.16 Q116.825 455.701 116.825 462.831 Q116.825 469.937 118.631 473.502 Q120.459 477.044 124.07 477.044 Q127.705 477.044 129.51 473.502 Q131.339 469.937 131.339 462.831 Q131.339 455.701 129.51 452.16 Q127.705 448.595 124.07 448.595 M124.07 444.891 Q129.881 444.891 132.936 449.498 Q136.015 454.081 136.015 462.831 Q136.015 471.558 132.936 476.164 Q129.881 480.748 124.07 480.748 Q118.26 480.748 115.182 476.164 Q112.126 471.558 112.126 462.831 Q112.126 454.081 115.182 449.498 Q118.26 444.891 124.07 444.891 Z\" fill=\"#000000\" fill-rule=\"evenodd\" fill-opacity=\"1\" /><path clip-path=\"url(#clip430)\" d=\"M154.232 448.595 Q150.621 448.595 148.793 452.16 Q146.987 455.701 146.987 462.831 Q146.987 469.937 148.793 473.502 Q150.621 477.044 154.232 477.044 Q157.867 477.044 159.672 473.502 Q161.501 469.937 161.501 462.831 Q161.501 455.701 159.672 452.16 Q157.867 448.595 154.232 448.595 M154.232 444.891 Q160.042 444.891 163.098 449.498 Q166.177 454.081 166.177 462.831 Q166.177 471.558 163.098 476.164 Q160.042 480.748 154.232 480.748 Q148.422 480.748 145.343 476.164 Q142.288 471.558 142.288 462.831 Q142.288 454.081 145.343 449.498 Q148.422 444.891 154.232 444.891 Z\" fill=\"#000000\" fill-rule=\"evenodd\" fill-opacity=\"1\" /><path clip-path=\"url(#clip430)\" d=\"M66.5939 121.95 L54.7884 140.399 L66.5939 140.399 L66.5939 121.95 M65.367 117.876 L71.2466 117.876 L71.2466 140.399 L76.1772 140.399 L76.1772 144.288 L71.2466 144.288 L71.2466 152.436 L66.5939 152.436 L66.5939 144.288 L50.9921 144.288 L50.9921 139.774 L65.367 117.876 Z\" fill=\"#000000\" fill-rule=\"evenodd\" fill-opacity=\"1\" /><path clip-path=\"url(#clip430)\" d=\"M93.9086 120.955 Q90.2975 120.955 88.4688 124.52 Q86.6632 128.062 86.6632 135.191 Q86.6632 142.298 88.4688 145.862 Q90.2975 149.404 93.9086 149.404 Q97.5428 149.404 99.3483 145.862 Q101.177 142.298 101.177 135.191 Q101.177 128.062 99.3483 124.52 Q97.5428 120.955 93.9086 120.955 M93.9086 117.251 Q99.7187 117.251 102.774 121.858 Q105.853 126.441 105.853 135.191 Q105.853 143.918 102.774 148.524 Q99.7187 153.108 93.9086 153.108 Q88.0984 153.108 85.0197 148.524 Q81.9642 143.918 81.9642 135.191 Q81.9642 126.441 85.0197 121.858 Q88.0984 117.251 93.9086 117.251 Z\" fill=\"#000000\" fill-rule=\"evenodd\" fill-opacity=\"1\" /><path clip-path=\"url(#clip430)\" d=\"M124.07 120.955 Q120.459 120.955 118.631 124.52 Q116.825 128.062 116.825 135.191 Q116.825 142.298 118.631 145.862 Q120.459 149.404 124.07 149.404 Q127.705 149.404 129.51 145.862 Q131.339 142.298 131.339 135.191 Q131.339 128.062 129.51 124.52 Q127.705 120.955 124.07 120.955 M124.07 117.251 Q129.881 117.251 132.936 121.858 Q136.015 126.441 136.015 135.191 Q136.015 143.918 132.936 148.524 Q129.881 153.108 124.07 153.108 Q118.26 153.108 115.182 148.524 Q112.126 143.918 112.126 135.191 Q112.126 126.441 115.182 121.858 Q118.26 117.251 124.07 117.251 Z\" fill=\"#000000\" fill-rule=\"evenodd\" fill-opacity=\"1\" /><path clip-path=\"url(#clip430)\" d=\"M154.232 120.955 Q150.621 120.955 148.793 124.52 Q146.987 128.062 146.987 135.191 Q146.987 142.298 148.793 145.862 Q150.621 149.404 154.232 149.404 Q157.867 149.404 159.672 145.862 Q161.501 142.298 161.501 135.191 Q161.501 128.062 159.672 124.52 Q157.867 120.955 154.232 120.955 M154.232 117.251 Q160.042 117.251 163.098 121.858 Q166.177 126.441 166.177 135.191 Q166.177 143.918 163.098 148.524 Q160.042 153.108 154.232 153.108 Q148.422 153.108 145.343 148.524 Q142.288 143.918 142.288 135.191 Q142.288 126.441 145.343 121.858 Q148.422 117.251 154.232 117.251 Z\" fill=\"#000000\" fill-rule=\"evenodd\" fill-opacity=\"1\" /><path clip-path=\"url(#clip432)\" d=\"\n",
       "M320.462 1441.13 L320.462 1445.72 L342.462 1445.72 L342.462 1441.13 L320.462 1441.13 L320.462 1441.13  Z\n",
       "  \" fill=\"#009af9\" fill-rule=\"evenodd\" fill-opacity=\"1\"/>\n",
       "<polyline clip-path=\"url(#clip432)\" style=\"stroke:#000000; stroke-linecap:butt; stroke-linejoin:round; stroke-width:4; stroke-opacity:1; fill:none\" points=\"\n",
       "  320.462,1441.13 320.462,1445.72 342.462,1445.72 342.462,1441.13 320.462,1441.13 \n",
       "  \"/>\n",
       "<path clip-path=\"url(#clip432)\" d=\"\n",
       "M342.462 1401.81 L342.462 1445.72 L364.463 1445.72 L364.463 1401.81 L342.462 1401.81 L342.462 1401.81  Z\n",
       "  \" fill=\"#009af9\" fill-rule=\"evenodd\" fill-opacity=\"1\"/>\n",
       "<polyline clip-path=\"url(#clip432)\" style=\"stroke:#000000; stroke-linecap:butt; stroke-linejoin:round; stroke-width:4; stroke-opacity:1; fill:none\" points=\"\n",
       "  342.462,1401.81 342.462,1445.72 364.463,1445.72 364.463,1401.81 342.462,1401.81 \n",
       "  \"/>\n",
       "<path clip-path=\"url(#clip432)\" d=\"\n",
       "M364.463 1398.21 L364.463 1445.72 L386.463 1445.72 L386.463 1398.21 L364.463 1398.21 L364.463 1398.21  Z\n",
       "  \" fill=\"#009af9\" fill-rule=\"evenodd\" fill-opacity=\"1\"/>\n",
       "<polyline clip-path=\"url(#clip432)\" style=\"stroke:#000000; stroke-linecap:butt; stroke-linejoin:round; stroke-width:4; stroke-opacity:1; fill:none\" points=\"\n",
       "  364.463,1398.21 364.463,1445.72 386.463,1445.72 386.463,1398.21 364.463,1398.21 \n",
       "  \"/>\n",
       "<path clip-path=\"url(#clip432)\" d=\"\n",
       "M386.463 1389.36 L386.463 1445.72 L408.463 1445.72 L408.463 1389.36 L386.463 1389.36 L386.463 1389.36  Z\n",
       "  \" fill=\"#009af9\" fill-rule=\"evenodd\" fill-opacity=\"1\"/>\n",
       "<polyline clip-path=\"url(#clip432)\" style=\"stroke:#000000; stroke-linecap:butt; stroke-linejoin:round; stroke-width:4; stroke-opacity:1; fill:none\" points=\"\n",
       "  386.463,1389.36 386.463,1445.72 408.463,1445.72 408.463,1389.36 386.463,1389.36 \n",
       "  \"/>\n",
       "<path clip-path=\"url(#clip432)\" d=\"\n",
       "M408.463 1373.31 L408.463 1445.72 L430.463 1445.72 L430.463 1373.31 L408.463 1373.31 L408.463 1373.31  Z\n",
       "  \" fill=\"#009af9\" fill-rule=\"evenodd\" fill-opacity=\"1\"/>\n",
       "<polyline clip-path=\"url(#clip432)\" style=\"stroke:#000000; stroke-linecap:butt; stroke-linejoin:round; stroke-width:4; stroke-opacity:1; fill:none\" points=\"\n",
       "  408.463,1373.31 408.463,1445.72 430.463,1445.72 430.463,1373.31 408.463,1373.31 \n",
       "  \"/>\n",
       "<path clip-path=\"url(#clip432)\" d=\"\n",
       "M430.463 1327.11 L430.463 1445.72 L452.463 1445.72 L452.463 1327.11 L430.463 1327.11 L430.463 1327.11  Z\n",
       "  \" fill=\"#009af9\" fill-rule=\"evenodd\" fill-opacity=\"1\"/>\n",
       "<polyline clip-path=\"url(#clip432)\" style=\"stroke:#000000; stroke-linecap:butt; stroke-linejoin:round; stroke-width:4; stroke-opacity:1; fill:none\" points=\"\n",
       "  430.463,1327.11 430.463,1445.72 452.463,1445.72 452.463,1327.11 430.463,1327.11 \n",
       "  \"/>\n",
       "<path clip-path=\"url(#clip432)\" d=\"\n",
       "M452.463 1301.55 L452.463 1445.72 L474.463 1445.72 L474.463 1301.55 L452.463 1301.55 L452.463 1301.55  Z\n",
       "  \" fill=\"#009af9\" fill-rule=\"evenodd\" fill-opacity=\"1\"/>\n",
       "<polyline clip-path=\"url(#clip432)\" style=\"stroke:#000000; stroke-linecap:butt; stroke-linejoin:round; stroke-width:4; stroke-opacity:1; fill:none\" points=\"\n",
       "  452.463,1301.55 452.463,1445.72 474.463,1445.72 474.463,1301.55 452.463,1301.55 \n",
       "  \"/>\n",
       "<path clip-path=\"url(#clip432)\" d=\"\n",
       "M474.463 1206.21 L474.463 1445.72 L496.463 1445.72 L496.463 1206.21 L474.463 1206.21 L474.463 1206.21  Z\n",
       "  \" fill=\"#009af9\" fill-rule=\"evenodd\" fill-opacity=\"1\"/>\n",
       "<polyline clip-path=\"url(#clip432)\" style=\"stroke:#000000; stroke-linecap:butt; stroke-linejoin:round; stroke-width:4; stroke-opacity:1; fill:none\" points=\"\n",
       "  474.463,1206.21 474.463,1445.72 496.463,1445.72 496.463,1206.21 474.463,1206.21 \n",
       "  \"/>\n",
       "<path clip-path=\"url(#clip432)\" d=\"\n",
       "M496.463 1056.15 L496.463 1445.72 L518.463 1445.72 L518.463 1056.15 L496.463 1056.15 L496.463 1056.15  Z\n",
       "  \" fill=\"#009af9\" fill-rule=\"evenodd\" fill-opacity=\"1\"/>\n",
       "<polyline clip-path=\"url(#clip432)\" style=\"stroke:#000000; stroke-linecap:butt; stroke-linejoin:round; stroke-width:4; stroke-opacity:1; fill:none\" points=\"\n",
       "  496.463,1056.15 496.463,1445.72 518.463,1445.72 518.463,1056.15 496.463,1056.15 \n",
       "  \"/>\n",
       "<path clip-path=\"url(#clip432)\" d=\"\n",
       "M518.463 904.455 L518.463 1445.72 L540.463 1445.72 L540.463 904.455 L518.463 904.455 L518.463 904.455  Z\n",
       "  \" fill=\"#009af9\" fill-rule=\"evenodd\" fill-opacity=\"1\"/>\n",
       "<polyline clip-path=\"url(#clip432)\" style=\"stroke:#000000; stroke-linecap:butt; stroke-linejoin:round; stroke-width:4; stroke-opacity:1; fill:none\" points=\"\n",
       "  518.463,904.455 518.463,1445.72 540.463,1445.72 540.463,904.455 518.463,904.455 \n",
       "  \"/>\n",
       "<path clip-path=\"url(#clip432)\" d=\"\n",
       "M540.463 810.422 L540.463 1445.72 L562.463 1445.72 L562.463 810.422 L540.463 810.422 L540.463 810.422  Z\n",
       "  \" fill=\"#009af9\" fill-rule=\"evenodd\" fill-opacity=\"1\"/>\n",
       "<polyline clip-path=\"url(#clip432)\" style=\"stroke:#000000; stroke-linecap:butt; stroke-linejoin:round; stroke-width:4; stroke-opacity:1; fill:none\" points=\"\n",
       "  540.463,810.422 540.463,1445.72 562.463,1445.72 562.463,810.422 540.463,810.422 \n",
       "  \"/>\n",
       "<path clip-path=\"url(#clip432)\" d=\"\n",
       "M562.463 654.466 L562.463 1445.72 L584.463 1445.72 L584.463 654.466 L562.463 654.466 L562.463 654.466  Z\n",
       "  \" fill=\"#009af9\" fill-rule=\"evenodd\" fill-opacity=\"1\"/>\n",
       "<polyline clip-path=\"url(#clip432)\" style=\"stroke:#000000; stroke-linecap:butt; stroke-linejoin:round; stroke-width:4; stroke-opacity:1; fill:none\" points=\"\n",
       "  562.463,654.466 562.463,1445.72 584.463,1445.72 584.463,654.466 562.463,654.466 \n",
       "  \"/>\n",
       "<path clip-path=\"url(#clip432)\" d=\"\n",
       "M584.463 556.829 L584.463 1445.72 L606.464 1445.72 L606.464 556.829 L584.463 556.829 L584.463 556.829  Z\n",
       "  \" fill=\"#009af9\" fill-rule=\"evenodd\" fill-opacity=\"1\"/>\n",
       "<polyline clip-path=\"url(#clip432)\" style=\"stroke:#000000; stroke-linecap:butt; stroke-linejoin:round; stroke-width:4; stroke-opacity:1; fill:none\" points=\"\n",
       "  584.463,556.829 584.463,1445.72 606.464,1445.72 606.464,556.829 584.463,556.829 \n",
       "  \"/>\n",
       "<path clip-path=\"url(#clip432)\" d=\"\n",
       "M606.464 455.261 L606.464 1445.72 L628.464 1445.72 L628.464 455.261 L606.464 455.261 L606.464 455.261  Z\n",
       "  \" fill=\"#009af9\" fill-rule=\"evenodd\" fill-opacity=\"1\"/>\n",
       "<polyline clip-path=\"url(#clip432)\" style=\"stroke:#000000; stroke-linecap:butt; stroke-linejoin:round; stroke-width:4; stroke-opacity:1; fill:none\" points=\"\n",
       "  606.464,455.261 606.464,1445.72 628.464,1445.72 628.464,455.261 606.464,455.261 \n",
       "  \"/>\n",
       "<path clip-path=\"url(#clip432)\" d=\"\n",
       "M628.464 343.535 L628.464 1445.72 L650.464 1445.72 L650.464 343.535 L628.464 343.535 L628.464 343.535  Z\n",
       "  \" fill=\"#009af9\" fill-rule=\"evenodd\" fill-opacity=\"1\"/>\n",
       "<polyline clip-path=\"url(#clip432)\" style=\"stroke:#000000; stroke-linecap:butt; stroke-linejoin:round; stroke-width:4; stroke-opacity:1; fill:none\" points=\"\n",
       "  628.464,343.535 628.464,1445.72 650.464,1445.72 650.464,343.535 628.464,343.535 \n",
       "  \"/>\n",
       "<path clip-path=\"url(#clip432)\" d=\"\n",
       "M650.464 278.335 L650.464 1445.72 L672.464 1445.72 L672.464 278.335 L650.464 278.335 L650.464 278.335  Z\n",
       "  \" fill=\"#009af9\" fill-rule=\"evenodd\" fill-opacity=\"1\"/>\n",
       "<polyline clip-path=\"url(#clip432)\" style=\"stroke:#000000; stroke-linecap:butt; stroke-linejoin:round; stroke-width:4; stroke-opacity:1; fill:none\" points=\"\n",
       "  650.464,278.335 650.464,1445.72 672.464,1445.72 672.464,278.335 650.464,278.335 \n",
       "  \"/>\n",
       "<path clip-path=\"url(#clip432)\" d=\"\n",
       "M672.464 222.964 L672.464 1445.72 L694.464 1445.72 L694.464 222.964 L672.464 222.964 L672.464 222.964  Z\n",
       "  \" fill=\"#009af9\" fill-rule=\"evenodd\" fill-opacity=\"1\"/>\n",
       "<polyline clip-path=\"url(#clip432)\" style=\"stroke:#000000; stroke-linecap:butt; stroke-linejoin:round; stroke-width:4; stroke-opacity:1; fill:none\" points=\"\n",
       "  672.464,222.964 672.464,1445.72 694.464,1445.72 694.464,222.964 672.464,222.964 \n",
       "  \"/>\n",
       "<path clip-path=\"url(#clip432)\" d=\"\n",
       "M694.464 214.118 L694.464 1445.72 L716.464 1445.72 L716.464 214.118 L694.464 214.118 L694.464 214.118  Z\n",
       "  \" fill=\"#009af9\" fill-rule=\"evenodd\" fill-opacity=\"1\"/>\n",
       "<polyline clip-path=\"url(#clip432)\" style=\"stroke:#000000; stroke-linecap:butt; stroke-linejoin:round; stroke-width:4; stroke-opacity:1; fill:none\" points=\"\n",
       "  694.464,214.118 694.464,1445.72 716.464,1445.72 716.464,214.118 694.464,214.118 \n",
       "  \"/>\n",
       "<path clip-path=\"url(#clip432)\" d=\"\n",
       "M716.464 192.166 L716.464 1445.72 L738.464 1445.72 L738.464 192.166 L716.464 192.166 L716.464 192.166  Z\n",
       "  \" fill=\"#009af9\" fill-rule=\"evenodd\" fill-opacity=\"1\"/>\n",
       "<polyline clip-path=\"url(#clip432)\" style=\"stroke:#000000; stroke-linecap:butt; stroke-linejoin:round; stroke-width:4; stroke-opacity:1; fill:none\" points=\"\n",
       "  716.464,192.166 716.464,1445.72 738.464,1445.72 738.464,192.166 716.464,192.166 \n",
       "  \"/>\n",
       "<path clip-path=\"url(#clip432)\" d=\"\n",
       "M738.464 147.279 L738.464 1445.72 L760.464 1445.72 L760.464 147.279 L738.464 147.279 L738.464 147.279  Z\n",
       "  \" fill=\"#009af9\" fill-rule=\"evenodd\" fill-opacity=\"1\"/>\n",
       "<polyline clip-path=\"url(#clip432)\" style=\"stroke:#000000; stroke-linecap:butt; stroke-linejoin:round; stroke-width:4; stroke-opacity:1; fill:none\" points=\"\n",
       "  738.464,147.279 738.464,1445.72 760.464,1445.72 760.464,147.279 738.464,147.279 \n",
       "  \"/>\n",
       "<path clip-path=\"url(#clip432)\" d=\"\n",
       "M760.464 87.9763 L760.464 1445.72 L782.464 1445.72 L782.464 87.9763 L760.464 87.9763 L760.464 87.9763  Z\n",
       "  \" fill=\"#009af9\" fill-rule=\"evenodd\" fill-opacity=\"1\"/>\n",
       "<polyline clip-path=\"url(#clip432)\" style=\"stroke:#000000; stroke-linecap:butt; stroke-linejoin:round; stroke-width:4; stroke-opacity:1; fill:none\" points=\"\n",
       "  760.464,87.9763 760.464,1445.72 782.464,1445.72 782.464,87.9763 760.464,87.9763 \n",
       "  \"/>\n",
       "<path clip-path=\"url(#clip432)\" d=\"\n",
       "M782.464 93.5462 L782.464 1445.72 L804.464 1445.72 L804.464 93.5462 L782.464 93.5462 L782.464 93.5462  Z\n",
       "  \" fill=\"#009af9\" fill-rule=\"evenodd\" fill-opacity=\"1\"/>\n",
       "<polyline clip-path=\"url(#clip432)\" style=\"stroke:#000000; stroke-linecap:butt; stroke-linejoin:round; stroke-width:4; stroke-opacity:1; fill:none\" points=\"\n",
       "  782.464,93.5462 782.464,1445.72 804.464,1445.72 804.464,93.5462 782.464,93.5462 \n",
       "  \"/>\n",
       "<path clip-path=\"url(#clip432)\" d=\"\n",
       "M804.464 124.344 L804.464 1445.72 L826.464 1445.72 L826.464 124.344 L804.464 124.344 L804.464 124.344  Z\n",
       "  \" fill=\"#009af9\" fill-rule=\"evenodd\" fill-opacity=\"1\"/>\n",
       "<polyline clip-path=\"url(#clip432)\" style=\"stroke:#000000; stroke-linecap:butt; stroke-linejoin:round; stroke-width:4; stroke-opacity:1; fill:none\" points=\"\n",
       "  804.464,124.344 804.464,1445.72 826.464,1445.72 826.464,124.344 804.464,124.344 \n",
       "  \"/>\n",
       "<path clip-path=\"url(#clip432)\" d=\"\n",
       "M826.464 180.698 L826.464 1445.72 L848.465 1445.72 L848.465 180.698 L826.464 180.698 L826.464 180.698  Z\n",
       "  \" fill=\"#009af9\" fill-rule=\"evenodd\" fill-opacity=\"1\"/>\n",
       "<polyline clip-path=\"url(#clip432)\" style=\"stroke:#000000; stroke-linecap:butt; stroke-linejoin:round; stroke-width:4; stroke-opacity:1; fill:none\" points=\"\n",
       "  826.464,180.698 826.464,1445.72 848.465,1445.72 848.465,180.698 826.464,180.698 \n",
       "  \"/>\n",
       "<path clip-path=\"url(#clip432)\" d=\"\n",
       "M848.465 201.34 L848.465 1445.72 L870.465 1445.72 L870.465 201.34 L848.465 201.34 L848.465 201.34  Z\n",
       "  \" fill=\"#009af9\" fill-rule=\"evenodd\" fill-opacity=\"1\"/>\n",
       "<polyline clip-path=\"url(#clip432)\" style=\"stroke:#000000; stroke-linecap:butt; stroke-linejoin:round; stroke-width:4; stroke-opacity:1; fill:none\" points=\"\n",
       "  848.465,201.34 848.465,1445.72 870.465,1445.72 870.465,201.34 848.465,201.34 \n",
       "  \"/>\n",
       "<path clip-path=\"url(#clip432)\" d=\"\n",
       "M870.465 221.326 L870.465 1445.72 L892.465 1445.72 L892.465 221.326 L870.465 221.326 L870.465 221.326  Z\n",
       "  \" fill=\"#009af9\" fill-rule=\"evenodd\" fill-opacity=\"1\"/>\n",
       "<polyline clip-path=\"url(#clip432)\" style=\"stroke:#000000; stroke-linecap:butt; stroke-linejoin:round; stroke-width:4; stroke-opacity:1; fill:none\" points=\"\n",
       "  870.465,221.326 870.465,1445.72 892.465,1445.72 892.465,221.326 870.465,221.326 \n",
       "  \"/>\n",
       "<path clip-path=\"url(#clip432)\" d=\"\n",
       "M892.465 256.711 L892.465 1445.72 L914.465 1445.72 L914.465 256.711 L892.465 256.711 L892.465 256.711  Z\n",
       "  \" fill=\"#009af9\" fill-rule=\"evenodd\" fill-opacity=\"1\"/>\n",
       "<polyline clip-path=\"url(#clip432)\" style=\"stroke:#000000; stroke-linecap:butt; stroke-linejoin:round; stroke-width:4; stroke-opacity:1; fill:none\" points=\"\n",
       "  892.465,256.711 892.465,1445.72 914.465,1445.72 914.465,256.711 892.465,256.711 \n",
       "  \"/>\n",
       "<path clip-path=\"url(#clip432)\" d=\"\n",
       "M914.465 318.635 L914.465 1445.72 L936.465 1445.72 L936.465 318.635 L914.465 318.635 L914.465 318.635  Z\n",
       "  \" fill=\"#009af9\" fill-rule=\"evenodd\" fill-opacity=\"1\"/>\n",
       "<polyline clip-path=\"url(#clip432)\" style=\"stroke:#000000; stroke-linecap:butt; stroke-linejoin:round; stroke-width:4; stroke-opacity:1; fill:none\" points=\"\n",
       "  914.465,318.635 914.465,1445.72 936.465,1445.72 936.465,318.635 914.465,318.635 \n",
       "  \"/>\n",
       "<path clip-path=\"url(#clip432)\" d=\"\n",
       "M936.465 335.672 L936.465 1445.72 L958.465 1445.72 L958.465 335.672 L936.465 335.672 L936.465 335.672  Z\n",
       "  \" fill=\"#009af9\" fill-rule=\"evenodd\" fill-opacity=\"1\"/>\n",
       "<polyline clip-path=\"url(#clip432)\" style=\"stroke:#000000; stroke-linecap:butt; stroke-linejoin:round; stroke-width:4; stroke-opacity:1; fill:none\" points=\"\n",
       "  936.465,335.672 936.465,1445.72 958.465,1445.72 958.465,335.672 936.465,335.672 \n",
       "  \"/>\n",
       "<path clip-path=\"url(#clip432)\" d=\"\n",
       "M958.465 395.63 L958.465 1445.72 L980.465 1445.72 L980.465 395.63 L958.465 395.63 L958.465 395.63  Z\n",
       "  \" fill=\"#009af9\" fill-rule=\"evenodd\" fill-opacity=\"1\"/>\n",
       "<polyline clip-path=\"url(#clip432)\" style=\"stroke:#000000; stroke-linecap:butt; stroke-linejoin:round; stroke-width:4; stroke-opacity:1; fill:none\" points=\"\n",
       "  958.465,395.63 958.465,1445.72 980.465,1445.72 980.465,395.63 958.465,395.63 \n",
       "  \"/>\n",
       "<path clip-path=\"url(#clip432)\" d=\"\n",
       "M980.465 448.052 L980.465 1445.72 L1002.47 1445.72 L1002.47 448.052 L980.465 448.052 L980.465 448.052  Z\n",
       "  \" fill=\"#009af9\" fill-rule=\"evenodd\" fill-opacity=\"1\"/>\n",
       "<polyline clip-path=\"url(#clip432)\" style=\"stroke:#000000; stroke-linecap:butt; stroke-linejoin:round; stroke-width:4; stroke-opacity:1; fill:none\" points=\"\n",
       "  980.465,448.052 980.465,1445.72 1002.47,1445.72 1002.47,448.052 980.465,448.052 \n",
       "  \"/>\n",
       "<path clip-path=\"url(#clip432)\" d=\"\n",
       "M1002.47 500.147 L1002.47 1445.72 L1024.47 1445.72 L1024.47 500.147 L1002.47 500.147 L1002.47 500.147  Z\n",
       "  \" fill=\"#009af9\" fill-rule=\"evenodd\" fill-opacity=\"1\"/>\n",
       "<polyline clip-path=\"url(#clip432)\" style=\"stroke:#000000; stroke-linecap:butt; stroke-linejoin:round; stroke-width:4; stroke-opacity:1; fill:none\" points=\"\n",
       "  1002.47,500.147 1002.47,1445.72 1024.47,1445.72 1024.47,500.147 1002.47,500.147 \n",
       "  \"/>\n",
       "<path clip-path=\"url(#clip432)\" d=\"\n",
       "M1024.47 586.644 L1024.47 1445.72 L1046.47 1445.72 L1046.47 586.644 L1024.47 586.644 L1024.47 586.644  Z\n",
       "  \" fill=\"#009af9\" fill-rule=\"evenodd\" fill-opacity=\"1\"/>\n",
       "<polyline clip-path=\"url(#clip432)\" style=\"stroke:#000000; stroke-linecap:butt; stroke-linejoin:round; stroke-width:4; stroke-opacity:1; fill:none\" points=\"\n",
       "  1024.47,586.644 1024.47,1445.72 1046.47,1445.72 1046.47,586.644 1024.47,586.644 \n",
       "  \"/>\n",
       "<path clip-path=\"url(#clip432)\" d=\"\n",
       "M1046.47 622.684 L1046.47 1445.72 L1068.47 1445.72 L1068.47 622.684 L1046.47 622.684 L1046.47 622.684  Z\n",
       "  \" fill=\"#009af9\" fill-rule=\"evenodd\" fill-opacity=\"1\"/>\n",
       "<polyline clip-path=\"url(#clip432)\" style=\"stroke:#000000; stroke-linecap:butt; stroke-linejoin:round; stroke-width:4; stroke-opacity:1; fill:none\" points=\"\n",
       "  1046.47,622.684 1046.47,1445.72 1068.47,1445.72 1068.47,622.684 1046.47,622.684 \n",
       "  \"/>\n",
       "<path clip-path=\"url(#clip432)\" d=\"\n",
       "M1068.47 703.284 L1068.47 1445.72 L1090.47 1445.72 L1090.47 703.284 L1068.47 703.284 L1068.47 703.284  Z\n",
       "  \" fill=\"#009af9\" fill-rule=\"evenodd\" fill-opacity=\"1\"/>\n",
       "<polyline clip-path=\"url(#clip432)\" style=\"stroke:#000000; stroke-linecap:butt; stroke-linejoin:round; stroke-width:4; stroke-opacity:1; fill:none\" points=\"\n",
       "  1068.47,703.284 1068.47,1445.72 1090.47,1445.72 1090.47,703.284 1068.47,703.284 \n",
       "  \"/>\n",
       "<path clip-path=\"url(#clip432)\" d=\"\n",
       "M1090.47 745.222 L1090.47 1445.72 L1112.47 1445.72 L1112.47 745.222 L1090.47 745.222 L1090.47 745.222  Z\n",
       "  \" fill=\"#009af9\" fill-rule=\"evenodd\" fill-opacity=\"1\"/>\n",
       "<polyline clip-path=\"url(#clip432)\" style=\"stroke:#000000; stroke-linecap:butt; stroke-linejoin:round; stroke-width:4; stroke-opacity:1; fill:none\" points=\"\n",
       "  1090.47,745.222 1090.47,1445.72 1112.47,1445.72 1112.47,745.222 1090.47,745.222 \n",
       "  \"/>\n",
       "<path clip-path=\"url(#clip432)\" d=\"\n",
       "M1112.47 815.009 L1112.47 1445.72 L1134.47 1445.72 L1134.47 815.009 L1112.47 815.009 L1112.47 815.009  Z\n",
       "  \" fill=\"#009af9\" fill-rule=\"evenodd\" fill-opacity=\"1\"/>\n",
       "<polyline clip-path=\"url(#clip432)\" style=\"stroke:#000000; stroke-linecap:butt; stroke-linejoin:round; stroke-width:4; stroke-opacity:1; fill:none\" points=\"\n",
       "  1112.47,815.009 1112.47,1445.72 1134.47,1445.72 1134.47,815.009 1112.47,815.009 \n",
       "  \"/>\n",
       "<path clip-path=\"url(#clip432)\" d=\"\n",
       "M1134.47 887.745 L1134.47 1445.72 L1156.47 1445.72 L1156.47 887.745 L1134.47 887.745 L1134.47 887.745  Z\n",
       "  \" fill=\"#009af9\" fill-rule=\"evenodd\" fill-opacity=\"1\"/>\n",
       "<polyline clip-path=\"url(#clip432)\" style=\"stroke:#000000; stroke-linecap:butt; stroke-linejoin:round; stroke-width:4; stroke-opacity:1; fill:none\" points=\"\n",
       "  1134.47,887.745 1134.47,1445.72 1156.47,1445.72 1156.47,887.745 1134.47,887.745 \n",
       "  \"/>\n",
       "<path clip-path=\"url(#clip432)\" d=\"\n",
       "M1156.47 939.84 L1156.47 1445.72 L1178.47 1445.72 L1178.47 939.84 L1156.47 939.84 L1156.47 939.84  Z\n",
       "  \" fill=\"#009af9\" fill-rule=\"evenodd\" fill-opacity=\"1\"/>\n",
       "<polyline clip-path=\"url(#clip432)\" style=\"stroke:#000000; stroke-linecap:butt; stroke-linejoin:round; stroke-width:4; stroke-opacity:1; fill:none\" points=\"\n",
       "  1156.47,939.84 1156.47,1445.72 1178.47,1445.72 1178.47,939.84 1156.47,939.84 \n",
       "  \"/>\n",
       "<path clip-path=\"url(#clip432)\" d=\"\n",
       "M1178.47 938.202 L1178.47 1445.72 L1200.47 1445.72 L1200.47 938.202 L1178.47 938.202 L1178.47 938.202  Z\n",
       "  \" fill=\"#009af9\" fill-rule=\"evenodd\" fill-opacity=\"1\"/>\n",
       "<polyline clip-path=\"url(#clip432)\" style=\"stroke:#000000; stroke-linecap:butt; stroke-linejoin:round; stroke-width:4; stroke-opacity:1; fill:none\" points=\"\n",
       "  1178.47,938.202 1178.47,1445.72 1200.47,1445.72 1200.47,938.202 1178.47,938.202 \n",
       "  \"/>\n",
       "<path clip-path=\"url(#clip432)\" d=\"\n",
       "M1200.47 994.556 L1200.47 1445.72 L1222.47 1445.72 L1222.47 994.556 L1200.47 994.556 L1200.47 994.556  Z\n",
       "  \" fill=\"#009af9\" fill-rule=\"evenodd\" fill-opacity=\"1\"/>\n",
       "<polyline clip-path=\"url(#clip432)\" style=\"stroke:#000000; stroke-linecap:butt; stroke-linejoin:round; stroke-width:4; stroke-opacity:1; fill:none\" points=\"\n",
       "  1200.47,994.556 1200.47,1445.72 1222.47,1445.72 1222.47,994.556 1200.47,994.556 \n",
       "  \"/>\n",
       "<path clip-path=\"url(#clip432)\" d=\"\n",
       "M1222.47 1052.55 L1222.47 1445.72 L1244.47 1445.72 L1244.47 1052.55 L1222.47 1052.55 L1222.47 1052.55  Z\n",
       "  \" fill=\"#009af9\" fill-rule=\"evenodd\" fill-opacity=\"1\"/>\n",
       "<polyline clip-path=\"url(#clip432)\" style=\"stroke:#000000; stroke-linecap:butt; stroke-linejoin:round; stroke-width:4; stroke-opacity:1; fill:none\" points=\"\n",
       "  1222.47,1052.55 1222.47,1445.72 1244.47,1445.72 1244.47,1052.55 1222.47,1052.55 \n",
       "  \"/>\n",
       "<path clip-path=\"url(#clip432)\" d=\"\n",
       "M1244.47 1084.98 L1244.47 1445.72 L1266.47 1445.72 L1266.47 1084.98 L1244.47 1084.98 L1244.47 1084.98  Z\n",
       "  \" fill=\"#009af9\" fill-rule=\"evenodd\" fill-opacity=\"1\"/>\n",
       "<polyline clip-path=\"url(#clip432)\" style=\"stroke:#000000; stroke-linecap:butt; stroke-linejoin:round; stroke-width:4; stroke-opacity:1; fill:none\" points=\"\n",
       "  1244.47,1084.98 1244.47,1445.72 1266.47,1445.72 1266.47,1084.98 1244.47,1084.98 \n",
       "  \"/>\n",
       "<path clip-path=\"url(#clip432)\" d=\"\n",
       "M1266.47 1134.13 L1266.47 1445.72 L1288.47 1445.72 L1288.47 1134.13 L1266.47 1134.13 L1266.47 1134.13  Z\n",
       "  \" fill=\"#009af9\" fill-rule=\"evenodd\" fill-opacity=\"1\"/>\n",
       "<polyline clip-path=\"url(#clip432)\" style=\"stroke:#000000; stroke-linecap:butt; stroke-linejoin:round; stroke-width:4; stroke-opacity:1; fill:none\" points=\"\n",
       "  1266.47,1134.13 1266.47,1445.72 1288.47,1445.72 1288.47,1134.13 1266.47,1134.13 \n",
       "  \"/>\n",
       "<path clip-path=\"url(#clip432)\" d=\"\n",
       "M1288.47 1176.4 L1288.47 1445.72 L1310.47 1445.72 L1310.47 1176.4 L1288.47 1176.4 L1288.47 1176.4  Z\n",
       "  \" fill=\"#009af9\" fill-rule=\"evenodd\" fill-opacity=\"1\"/>\n",
       "<polyline clip-path=\"url(#clip432)\" style=\"stroke:#000000; stroke-linecap:butt; stroke-linejoin:round; stroke-width:4; stroke-opacity:1; fill:none\" points=\"\n",
       "  1288.47,1176.4 1288.47,1445.72 1310.47,1445.72 1310.47,1176.4 1288.47,1176.4 \n",
       "  \"/>\n",
       "<path clip-path=\"url(#clip432)\" d=\"\n",
       "M1310.47 1204.57 L1310.47 1445.72 L1332.47 1445.72 L1332.47 1204.57 L1310.47 1204.57 L1310.47 1204.57  Z\n",
       "  \" fill=\"#009af9\" fill-rule=\"evenodd\" fill-opacity=\"1\"/>\n",
       "<polyline clip-path=\"url(#clip432)\" style=\"stroke:#000000; stroke-linecap:butt; stroke-linejoin:round; stroke-width:4; stroke-opacity:1; fill:none\" points=\"\n",
       "  1310.47,1204.57 1310.47,1445.72 1332.47,1445.72 1332.47,1204.57 1310.47,1204.57 \n",
       "  \"/>\n",
       "<path clip-path=\"url(#clip432)\" d=\"\n",
       "M1332.47 1229.15 L1332.47 1445.72 L1354.47 1445.72 L1354.47 1229.15 L1332.47 1229.15 L1332.47 1229.15  Z\n",
       "  \" fill=\"#009af9\" fill-rule=\"evenodd\" fill-opacity=\"1\"/>\n",
       "<polyline clip-path=\"url(#clip432)\" style=\"stroke:#000000; stroke-linecap:butt; stroke-linejoin:round; stroke-width:4; stroke-opacity:1; fill:none\" points=\"\n",
       "  1332.47,1229.15 1332.47,1445.72 1354.47,1445.72 1354.47,1229.15 1332.47,1229.15 \n",
       "  \"/>\n",
       "<path clip-path=\"url(#clip432)\" d=\"\n",
       "M1354.47 1255.36 L1354.47 1445.72 L1376.47 1445.72 L1376.47 1255.36 L1354.47 1255.36 L1354.47 1255.36  Z\n",
       "  \" fill=\"#009af9\" fill-rule=\"evenodd\" fill-opacity=\"1\"/>\n",
       "<polyline clip-path=\"url(#clip432)\" style=\"stroke:#000000; stroke-linecap:butt; stroke-linejoin:round; stroke-width:4; stroke-opacity:1; fill:none\" points=\"\n",
       "  1354.47,1255.36 1354.47,1445.72 1376.47,1445.72 1376.47,1255.36 1354.47,1255.36 \n",
       "  \"/>\n",
       "<path clip-path=\"url(#clip432)\" d=\"\n",
       "M1376.47 1277.31 L1376.47 1445.72 L1398.47 1445.72 L1398.47 1277.31 L1376.47 1277.31 L1376.47 1277.31  Z\n",
       "  \" fill=\"#009af9\" fill-rule=\"evenodd\" fill-opacity=\"1\"/>\n",
       "<polyline clip-path=\"url(#clip432)\" style=\"stroke:#000000; stroke-linecap:butt; stroke-linejoin:round; stroke-width:4; stroke-opacity:1; fill:none\" points=\"\n",
       "  1376.47,1277.31 1376.47,1445.72 1398.47,1445.72 1398.47,1277.31 1376.47,1277.31 \n",
       "  \"/>\n",
       "<path clip-path=\"url(#clip432)\" d=\"\n",
       "M1398.47 1301.55 L1398.47 1445.72 L1420.47 1445.72 L1420.47 1301.55 L1398.47 1301.55 L1398.47 1301.55  Z\n",
       "  \" fill=\"#009af9\" fill-rule=\"evenodd\" fill-opacity=\"1\"/>\n",
       "<polyline clip-path=\"url(#clip432)\" style=\"stroke:#000000; stroke-linecap:butt; stroke-linejoin:round; stroke-width:4; stroke-opacity:1; fill:none\" points=\"\n",
       "  1398.47,1301.55 1398.47,1445.72 1420.47,1445.72 1420.47,1301.55 1398.47,1301.55 \n",
       "  \"/>\n",
       "<path clip-path=\"url(#clip432)\" d=\"\n",
       "M1420.47 1326.45 L1420.47 1445.72 L1442.47 1445.72 L1442.47 1326.45 L1420.47 1326.45 L1420.47 1326.45  Z\n",
       "  \" fill=\"#009af9\" fill-rule=\"evenodd\" fill-opacity=\"1\"/>\n",
       "<polyline clip-path=\"url(#clip432)\" style=\"stroke:#000000; stroke-linecap:butt; stroke-linejoin:round; stroke-width:4; stroke-opacity:1; fill:none\" points=\"\n",
       "  1420.47,1326.45 1420.47,1445.72 1442.47,1445.72 1442.47,1326.45 1420.47,1326.45 \n",
       "  \"/>\n",
       "<path clip-path=\"url(#clip432)\" d=\"\n",
       "M1442.47 1336.61 L1442.47 1445.72 L1464.47 1445.72 L1464.47 1336.61 L1442.47 1336.61 L1442.47 1336.61  Z\n",
       "  \" fill=\"#009af9\" fill-rule=\"evenodd\" fill-opacity=\"1\"/>\n",
       "<polyline clip-path=\"url(#clip432)\" style=\"stroke:#000000; stroke-linecap:butt; stroke-linejoin:round; stroke-width:4; stroke-opacity:1; fill:none\" points=\"\n",
       "  1442.47,1336.61 1442.47,1445.72 1464.47,1445.72 1464.47,1336.61 1442.47,1336.61 \n",
       "  \"/>\n",
       "<path clip-path=\"url(#clip432)\" d=\"\n",
       "M1464.47 1342.18 L1464.47 1445.72 L1486.47 1445.72 L1486.47 1342.18 L1464.47 1342.18 L1464.47 1342.18  Z\n",
       "  \" fill=\"#009af9\" fill-rule=\"evenodd\" fill-opacity=\"1\"/>\n",
       "<polyline clip-path=\"url(#clip432)\" style=\"stroke:#000000; stroke-linecap:butt; stroke-linejoin:round; stroke-width:4; stroke-opacity:1; fill:none\" points=\"\n",
       "  1464.47,1342.18 1464.47,1445.72 1486.47,1445.72 1486.47,1342.18 1464.47,1342.18 \n",
       "  \"/>\n",
       "<path clip-path=\"url(#clip432)\" d=\"\n",
       "M1486.47 1365.77 L1486.47 1445.72 L1508.47 1445.72 L1508.47 1365.77 L1486.47 1365.77 L1486.47 1365.77  Z\n",
       "  \" fill=\"#009af9\" fill-rule=\"evenodd\" fill-opacity=\"1\"/>\n",
       "<polyline clip-path=\"url(#clip432)\" style=\"stroke:#000000; stroke-linecap:butt; stroke-linejoin:round; stroke-width:4; stroke-opacity:1; fill:none\" points=\"\n",
       "  1486.47,1365.77 1486.47,1445.72 1508.47,1445.72 1508.47,1365.77 1486.47,1365.77 \n",
       "  \"/>\n",
       "<path clip-path=\"url(#clip432)\" d=\"\n",
       "M1508.47 1374.29 L1508.47 1445.72 L1530.47 1445.72 L1530.47 1374.29 L1508.47 1374.29 L1508.47 1374.29  Z\n",
       "  \" fill=\"#009af9\" fill-rule=\"evenodd\" fill-opacity=\"1\"/>\n",
       "<polyline clip-path=\"url(#clip432)\" style=\"stroke:#000000; stroke-linecap:butt; stroke-linejoin:round; stroke-width:4; stroke-opacity:1; fill:none\" points=\"\n",
       "  1508.47,1374.29 1508.47,1445.72 1530.47,1445.72 1530.47,1374.29 1508.47,1374.29 \n",
       "  \"/>\n",
       "<path clip-path=\"url(#clip432)\" d=\"\n",
       "M1530.47 1377.24 L1530.47 1445.72 L1552.47 1445.72 L1552.47 1377.24 L1530.47 1377.24 L1530.47 1377.24  Z\n",
       "  \" fill=\"#009af9\" fill-rule=\"evenodd\" fill-opacity=\"1\"/>\n",
       "<polyline clip-path=\"url(#clip432)\" style=\"stroke:#000000; stroke-linecap:butt; stroke-linejoin:round; stroke-width:4; stroke-opacity:1; fill:none\" points=\"\n",
       "  1530.47,1377.24 1530.47,1445.72 1552.47,1445.72 1552.47,1377.24 1530.47,1377.24 \n",
       "  \"/>\n",
       "<path clip-path=\"url(#clip432)\" d=\"\n",
       "M1552.47 1391.98 L1552.47 1445.72 L1574.47 1445.72 L1574.47 1391.98 L1552.47 1391.98 L1552.47 1391.98  Z\n",
       "  \" fill=\"#009af9\" fill-rule=\"evenodd\" fill-opacity=\"1\"/>\n",
       "<polyline clip-path=\"url(#clip432)\" style=\"stroke:#000000; stroke-linecap:butt; stroke-linejoin:round; stroke-width:4; stroke-opacity:1; fill:none\" points=\"\n",
       "  1552.47,1391.98 1552.47,1445.72 1574.47,1445.72 1574.47,1391.98 1552.47,1391.98 \n",
       "  \"/>\n",
       "<path clip-path=\"url(#clip432)\" d=\"\n",
       "M1574.47 1403.78 L1574.47 1445.72 L1596.47 1445.72 L1596.47 1403.78 L1574.47 1403.78 L1574.47 1403.78  Z\n",
       "  \" fill=\"#009af9\" fill-rule=\"evenodd\" fill-opacity=\"1\"/>\n",
       "<polyline clip-path=\"url(#clip432)\" style=\"stroke:#000000; stroke-linecap:butt; stroke-linejoin:round; stroke-width:4; stroke-opacity:1; fill:none\" points=\"\n",
       "  1574.47,1403.78 1574.47,1445.72 1596.47,1445.72 1596.47,1403.78 1574.47,1403.78 \n",
       "  \"/>\n",
       "<path clip-path=\"url(#clip432)\" d=\"\n",
       "M1596.47 1402.14 L1596.47 1445.72 L1618.47 1445.72 L1618.47 1402.14 L1596.47 1402.14 L1596.47 1402.14  Z\n",
       "  \" fill=\"#009af9\" fill-rule=\"evenodd\" fill-opacity=\"1\"/>\n",
       "<polyline clip-path=\"url(#clip432)\" style=\"stroke:#000000; stroke-linecap:butt; stroke-linejoin:round; stroke-width:4; stroke-opacity:1; fill:none\" points=\"\n",
       "  1596.47,1402.14 1596.47,1445.72 1618.47,1445.72 1618.47,1402.14 1596.47,1402.14 \n",
       "  \"/>\n",
       "<path clip-path=\"url(#clip432)\" d=\"\n",
       "M1618.47 1407.38 L1618.47 1445.72 L1640.47 1445.72 L1640.47 1407.38 L1618.47 1407.38 L1618.47 1407.38  Z\n",
       "  \" fill=\"#009af9\" fill-rule=\"evenodd\" fill-opacity=\"1\"/>\n",
       "<polyline clip-path=\"url(#clip432)\" style=\"stroke:#000000; stroke-linecap:butt; stroke-linejoin:round; stroke-width:4; stroke-opacity:1; fill:none\" points=\"\n",
       "  1618.47,1407.38 1618.47,1445.72 1640.47,1445.72 1640.47,1407.38 1618.47,1407.38 \n",
       "  \"/>\n",
       "<path clip-path=\"url(#clip432)\" d=\"\n",
       "M1640.47 1410.66 L1640.47 1445.72 L1662.47 1445.72 L1662.47 1410.66 L1640.47 1410.66 L1640.47 1410.66  Z\n",
       "  \" fill=\"#009af9\" fill-rule=\"evenodd\" fill-opacity=\"1\"/>\n",
       "<polyline clip-path=\"url(#clip432)\" style=\"stroke:#000000; stroke-linecap:butt; stroke-linejoin:round; stroke-width:4; stroke-opacity:1; fill:none\" points=\"\n",
       "  1640.47,1410.66 1640.47,1445.72 1662.47,1445.72 1662.47,1410.66 1640.47,1410.66 \n",
       "  \"/>\n",
       "<path clip-path=\"url(#clip432)\" d=\"\n",
       "M1662.47 1421.8 L1662.47 1445.72 L1684.47 1445.72 L1684.47 1421.8 L1662.47 1421.8 L1662.47 1421.8  Z\n",
       "  \" fill=\"#009af9\" fill-rule=\"evenodd\" fill-opacity=\"1\"/>\n",
       "<polyline clip-path=\"url(#clip432)\" style=\"stroke:#000000; stroke-linecap:butt; stroke-linejoin:round; stroke-width:4; stroke-opacity:1; fill:none\" points=\"\n",
       "  1662.47,1421.8 1662.47,1445.72 1684.47,1445.72 1684.47,1421.8 1662.47,1421.8 \n",
       "  \"/>\n",
       "<path clip-path=\"url(#clip432)\" d=\"\n",
       "M1684.47 1426.38 L1684.47 1445.72 L1706.47 1445.72 L1706.47 1426.38 L1684.47 1426.38 L1684.47 1426.38  Z\n",
       "  \" fill=\"#009af9\" fill-rule=\"evenodd\" fill-opacity=\"1\"/>\n",
       "<polyline clip-path=\"url(#clip432)\" style=\"stroke:#000000; stroke-linecap:butt; stroke-linejoin:round; stroke-width:4; stroke-opacity:1; fill:none\" points=\"\n",
       "  1684.47,1426.38 1684.47,1445.72 1706.47,1445.72 1706.47,1426.38 1684.47,1426.38 \n",
       "  \"/>\n",
       "<path clip-path=\"url(#clip432)\" d=\"\n",
       "M1706.47 1431.3 L1706.47 1445.72 L1728.47 1445.72 L1728.47 1431.3 L1706.47 1431.3 L1706.47 1431.3  Z\n",
       "  \" fill=\"#009af9\" fill-rule=\"evenodd\" fill-opacity=\"1\"/>\n",
       "<polyline clip-path=\"url(#clip432)\" style=\"stroke:#000000; stroke-linecap:butt; stroke-linejoin:round; stroke-width:4; stroke-opacity:1; fill:none\" points=\"\n",
       "  1706.47,1431.3 1706.47,1445.72 1728.47,1445.72 1728.47,1431.3 1706.47,1431.3 \n",
       "  \"/>\n",
       "<path clip-path=\"url(#clip432)\" d=\"\n",
       "M1728.47 1432.94 L1728.47 1445.72 L1750.47 1445.72 L1750.47 1432.94 L1728.47 1432.94 L1728.47 1432.94  Z\n",
       "  \" fill=\"#009af9\" fill-rule=\"evenodd\" fill-opacity=\"1\"/>\n",
       "<polyline clip-path=\"url(#clip432)\" style=\"stroke:#000000; stroke-linecap:butt; stroke-linejoin:round; stroke-width:4; stroke-opacity:1; fill:none\" points=\"\n",
       "  1728.47,1432.94 1728.47,1445.72 1750.47,1445.72 1750.47,1432.94 1728.47,1432.94 \n",
       "  \"/>\n",
       "<path clip-path=\"url(#clip432)\" d=\"\n",
       "M1750.47 1430.64 L1750.47 1445.72 L1772.47 1445.72 L1772.47 1430.64 L1750.47 1430.64 L1750.47 1430.64  Z\n",
       "  \" fill=\"#009af9\" fill-rule=\"evenodd\" fill-opacity=\"1\"/>\n",
       "<polyline clip-path=\"url(#clip432)\" style=\"stroke:#000000; stroke-linecap:butt; stroke-linejoin:round; stroke-width:4; stroke-opacity:1; fill:none\" points=\"\n",
       "  1750.47,1430.64 1750.47,1445.72 1772.47,1445.72 1772.47,1430.64 1750.47,1430.64 \n",
       "  \"/>\n",
       "<path clip-path=\"url(#clip432)\" d=\"\n",
       "M1772.47 1435.89 L1772.47 1445.72 L1794.47 1445.72 L1794.47 1435.89 L1772.47 1435.89 L1772.47 1435.89  Z\n",
       "  \" fill=\"#009af9\" fill-rule=\"evenodd\" fill-opacity=\"1\"/>\n",
       "<polyline clip-path=\"url(#clip432)\" style=\"stroke:#000000; stroke-linecap:butt; stroke-linejoin:round; stroke-width:4; stroke-opacity:1; fill:none\" points=\"\n",
       "  1772.47,1435.89 1772.47,1445.72 1794.47,1445.72 1794.47,1435.89 1772.47,1435.89 \n",
       "  \"/>\n",
       "<path clip-path=\"url(#clip432)\" d=\"\n",
       "M1794.47 1438.51 L1794.47 1445.72 L1816.47 1445.72 L1816.47 1438.51 L1794.47 1438.51 L1794.47 1438.51  Z\n",
       "  \" fill=\"#009af9\" fill-rule=\"evenodd\" fill-opacity=\"1\"/>\n",
       "<polyline clip-path=\"url(#clip432)\" style=\"stroke:#000000; stroke-linecap:butt; stroke-linejoin:round; stroke-width:4; stroke-opacity:1; fill:none\" points=\"\n",
       "  1794.47,1438.51 1794.47,1445.72 1816.47,1445.72 1816.47,1438.51 1794.47,1438.51 \n",
       "  \"/>\n",
       "<path clip-path=\"url(#clip432)\" d=\"\n",
       "M1816.47 1436.54 L1816.47 1445.72 L1838.47 1445.72 L1838.47 1436.54 L1816.47 1436.54 L1816.47 1436.54  Z\n",
       "  \" fill=\"#009af9\" fill-rule=\"evenodd\" fill-opacity=\"1\"/>\n",
       "<polyline clip-path=\"url(#clip432)\" style=\"stroke:#000000; stroke-linecap:butt; stroke-linejoin:round; stroke-width:4; stroke-opacity:1; fill:none\" points=\"\n",
       "  1816.47,1436.54 1816.47,1445.72 1838.47,1445.72 1838.47,1436.54 1816.47,1436.54 \n",
       "  \"/>\n",
       "<path clip-path=\"url(#clip432)\" d=\"\n",
       "M1838.47 1436.21 L1838.47 1445.72 L1860.47 1445.72 L1860.47 1436.21 L1838.47 1436.21 L1838.47 1436.21  Z\n",
       "  \" fill=\"#009af9\" fill-rule=\"evenodd\" fill-opacity=\"1\"/>\n",
       "<polyline clip-path=\"url(#clip432)\" style=\"stroke:#000000; stroke-linecap:butt; stroke-linejoin:round; stroke-width:4; stroke-opacity:1; fill:none\" points=\"\n",
       "  1838.47,1436.21 1838.47,1445.72 1860.47,1445.72 1860.47,1436.21 1838.47,1436.21 \n",
       "  \"/>\n",
       "<path clip-path=\"url(#clip432)\" d=\"\n",
       "M1860.47 1438.84 L1860.47 1445.72 L1882.47 1445.72 L1882.47 1438.84 L1860.47 1438.84 L1860.47 1438.84  Z\n",
       "  \" fill=\"#009af9\" fill-rule=\"evenodd\" fill-opacity=\"1\"/>\n",
       "<polyline clip-path=\"url(#clip432)\" style=\"stroke:#000000; stroke-linecap:butt; stroke-linejoin:round; stroke-width:4; stroke-opacity:1; fill:none\" points=\"\n",
       "  1860.47,1438.84 1860.47,1445.72 1882.47,1445.72 1882.47,1438.84 1860.47,1438.84 \n",
       "  \"/>\n",
       "<path clip-path=\"url(#clip432)\" d=\"\n",
       "M1882.47 1438.51 L1882.47 1445.72 L1904.47 1445.72 L1904.47 1438.51 L1882.47 1438.51 L1882.47 1438.51  Z\n",
       "  \" fill=\"#009af9\" fill-rule=\"evenodd\" fill-opacity=\"1\"/>\n",
       "<polyline clip-path=\"url(#clip432)\" style=\"stroke:#000000; stroke-linecap:butt; stroke-linejoin:round; stroke-width:4; stroke-opacity:1; fill:none\" points=\"\n",
       "  1882.47,1438.51 1882.47,1445.72 1904.47,1445.72 1904.47,1438.51 1882.47,1438.51 \n",
       "  \"/>\n",
       "<path clip-path=\"url(#clip432)\" d=\"\n",
       "M1904.47 1441.46 L1904.47 1445.72 L1926.47 1445.72 L1926.47 1441.46 L1904.47 1441.46 L1904.47 1441.46  Z\n",
       "  \" fill=\"#009af9\" fill-rule=\"evenodd\" fill-opacity=\"1\"/>\n",
       "<polyline clip-path=\"url(#clip432)\" style=\"stroke:#000000; stroke-linecap:butt; stroke-linejoin:round; stroke-width:4; stroke-opacity:1; fill:none\" points=\"\n",
       "  1904.47,1441.46 1904.47,1445.72 1926.47,1445.72 1926.47,1441.46 1904.47,1441.46 \n",
       "  \"/>\n",
       "<path clip-path=\"url(#clip432)\" d=\"\n",
       "M1926.47 1442.11 L1926.47 1445.72 L1948.47 1445.72 L1948.47 1442.11 L1926.47 1442.11 L1926.47 1442.11  Z\n",
       "  \" fill=\"#009af9\" fill-rule=\"evenodd\" fill-opacity=\"1\"/>\n",
       "<polyline clip-path=\"url(#clip432)\" style=\"stroke:#000000; stroke-linecap:butt; stroke-linejoin:round; stroke-width:4; stroke-opacity:1; fill:none\" points=\"\n",
       "  1926.47,1442.11 1926.47,1445.72 1948.47,1445.72 1948.47,1442.11 1926.47,1442.11 \n",
       "  \"/>\n",
       "<path clip-path=\"url(#clip432)\" d=\"\n",
       "M1948.47 1441.46 L1948.47 1445.72 L1970.47 1445.72 L1970.47 1441.46 L1948.47 1441.46 L1948.47 1441.46  Z\n",
       "  \" fill=\"#009af9\" fill-rule=\"evenodd\" fill-opacity=\"1\"/>\n",
       "<polyline clip-path=\"url(#clip432)\" style=\"stroke:#000000; stroke-linecap:butt; stroke-linejoin:round; stroke-width:4; stroke-opacity:1; fill:none\" points=\"\n",
       "  1948.47,1441.46 1948.47,1445.72 1970.47,1445.72 1970.47,1441.46 1948.47,1441.46 \n",
       "  \"/>\n",
       "<path clip-path=\"url(#clip432)\" d=\"\n",
       "M1970.47 1441.78 L1970.47 1445.72 L1992.47 1445.72 L1992.47 1441.78 L1970.47 1441.78 L1970.47 1441.78  Z\n",
       "  \" fill=\"#009af9\" fill-rule=\"evenodd\" fill-opacity=\"1\"/>\n",
       "<polyline clip-path=\"url(#clip432)\" style=\"stroke:#000000; stroke-linecap:butt; stroke-linejoin:round; stroke-width:4; stroke-opacity:1; fill:none\" points=\"\n",
       "  1970.47,1441.78 1970.47,1445.72 1992.47,1445.72 1992.47,1441.78 1970.47,1441.78 \n",
       "  \"/>\n",
       "<path clip-path=\"url(#clip432)\" d=\"\n",
       "M1992.47 1443.09 L1992.47 1445.72 L2014.47 1445.72 L2014.47 1443.09 L1992.47 1443.09 L1992.47 1443.09  Z\n",
       "  \" fill=\"#009af9\" fill-rule=\"evenodd\" fill-opacity=\"1\"/>\n",
       "<polyline clip-path=\"url(#clip432)\" style=\"stroke:#000000; stroke-linecap:butt; stroke-linejoin:round; stroke-width:4; stroke-opacity:1; fill:none\" points=\"\n",
       "  1992.47,1443.09 1992.47,1445.72 2014.47,1445.72 2014.47,1443.09 1992.47,1443.09 \n",
       "  \"/>\n",
       "<path clip-path=\"url(#clip432)\" d=\"\n",
       "M2014.47 1442.77 L2014.47 1445.72 L2036.47 1445.72 L2036.47 1442.77 L2014.47 1442.77 L2014.47 1442.77  Z\n",
       "  \" fill=\"#009af9\" fill-rule=\"evenodd\" fill-opacity=\"1\"/>\n",
       "<polyline clip-path=\"url(#clip432)\" style=\"stroke:#000000; stroke-linecap:butt; stroke-linejoin:round; stroke-width:4; stroke-opacity:1; fill:none\" points=\"\n",
       "  2014.47,1442.77 2014.47,1445.72 2036.47,1445.72 2036.47,1442.77 2014.47,1442.77 \n",
       "  \"/>\n",
       "<path clip-path=\"url(#clip432)\" d=\"\n",
       "M2036.47 1444.73 L2036.47 1445.72 L2058.47 1445.72 L2058.47 1444.73 L2036.47 1444.73 L2036.47 1444.73  Z\n",
       "  \" fill=\"#009af9\" fill-rule=\"evenodd\" fill-opacity=\"1\"/>\n",
       "<polyline clip-path=\"url(#clip432)\" style=\"stroke:#000000; stroke-linecap:butt; stroke-linejoin:round; stroke-width:4; stroke-opacity:1; fill:none\" points=\"\n",
       "  2036.47,1444.73 2036.47,1445.72 2058.47,1445.72 2058.47,1444.73 2036.47,1444.73 \n",
       "  \"/>\n",
       "<path clip-path=\"url(#clip432)\" d=\"\n",
       "M2058.47 1443.75 L2058.47 1445.72 L2080.47 1445.72 L2080.47 1443.75 L2058.47 1443.75 L2058.47 1443.75  Z\n",
       "  \" fill=\"#009af9\" fill-rule=\"evenodd\" fill-opacity=\"1\"/>\n",
       "<polyline clip-path=\"url(#clip432)\" style=\"stroke:#000000; stroke-linecap:butt; stroke-linejoin:round; stroke-width:4; stroke-opacity:1; fill:none\" points=\"\n",
       "  2058.47,1443.75 2058.47,1445.72 2080.47,1445.72 2080.47,1443.75 2058.47,1443.75 \n",
       "  \"/>\n",
       "<path clip-path=\"url(#clip432)\" d=\"\n",
       "M2080.47 1444.41 L2080.47 1445.72 L2102.47 1445.72 L2102.47 1444.41 L2080.47 1444.41 L2080.47 1444.41  Z\n",
       "  \" fill=\"#009af9\" fill-rule=\"evenodd\" fill-opacity=\"1\"/>\n",
       "<polyline clip-path=\"url(#clip432)\" style=\"stroke:#000000; stroke-linecap:butt; stroke-linejoin:round; stroke-width:4; stroke-opacity:1; fill:none\" points=\"\n",
       "  2080.47,1444.41 2080.47,1445.72 2102.47,1445.72 2102.47,1444.41 2080.47,1444.41 \n",
       "  \"/>\n",
       "<path clip-path=\"url(#clip432)\" d=\"\n",
       "M2102.47 1444.08 L2102.47 1445.72 L2124.47 1445.72 L2124.47 1444.08 L2102.47 1444.08 L2102.47 1444.08  Z\n",
       "  \" fill=\"#009af9\" fill-rule=\"evenodd\" fill-opacity=\"1\"/>\n",
       "<polyline clip-path=\"url(#clip432)\" style=\"stroke:#000000; stroke-linecap:butt; stroke-linejoin:round; stroke-width:4; stroke-opacity:1; fill:none\" points=\"\n",
       "  2102.47,1444.08 2102.47,1445.72 2124.47,1445.72 2124.47,1444.08 2102.47,1444.08 \n",
       "  \"/>\n",
       "<path clip-path=\"url(#clip432)\" d=\"\n",
       "M2124.47 1445.72 L2124.47 1445.72 L2146.47 1445.72 L2146.47 1445.72 L2124.47 1445.72 L2124.47 1445.72  Z\n",
       "  \" fill=\"#009af9\" fill-rule=\"evenodd\" fill-opacity=\"1\"/>\n",
       "<polyline clip-path=\"url(#clip432)\" style=\"stroke:#000000; stroke-linecap:butt; stroke-linejoin:round; stroke-width:4; stroke-opacity:1; fill:none\" points=\"\n",
       "  2124.47,1445.72 2124.47,1445.72 2146.47,1445.72 2124.47,1445.72 \n",
       "  \"/>\n",
       "<path clip-path=\"url(#clip432)\" d=\"\n",
       "M2146.47 1445.06 L2146.47 1445.72 L2168.47 1445.72 L2168.47 1445.06 L2146.47 1445.06 L2146.47 1445.06  Z\n",
       "  \" fill=\"#009af9\" fill-rule=\"evenodd\" fill-opacity=\"1\"/>\n",
       "<polyline clip-path=\"url(#clip432)\" style=\"stroke:#000000; stroke-linecap:butt; stroke-linejoin:round; stroke-width:4; stroke-opacity:1; fill:none\" points=\"\n",
       "  2146.47,1445.06 2146.47,1445.72 2168.47,1445.72 2168.47,1445.06 2146.47,1445.06 \n",
       "  \"/>\n",
       "<path clip-path=\"url(#clip432)\" d=\"\n",
       "M2168.47 1445.72 L2168.47 1445.72 L2190.47 1445.72 L2190.47 1445.72 L2168.47 1445.72 L2168.47 1445.72  Z\n",
       "  \" fill=\"#009af9\" fill-rule=\"evenodd\" fill-opacity=\"1\"/>\n",
       "<polyline clip-path=\"url(#clip432)\" style=\"stroke:#000000; stroke-linecap:butt; stroke-linejoin:round; stroke-width:4; stroke-opacity:1; fill:none\" points=\"\n",
       "  2168.47,1445.72 2168.47,1445.72 2190.47,1445.72 2168.47,1445.72 \n",
       "  \"/>\n",
       "<path clip-path=\"url(#clip432)\" d=\"\n",
       "M2190.47 1445.72 L2190.47 1445.72 L2212.47 1445.72 L2212.47 1445.72 L2190.47 1445.72 L2190.47 1445.72  Z\n",
       "  \" fill=\"#009af9\" fill-rule=\"evenodd\" fill-opacity=\"1\"/>\n",
       "<polyline clip-path=\"url(#clip432)\" style=\"stroke:#000000; stroke-linecap:butt; stroke-linejoin:round; stroke-width:4; stroke-opacity:1; fill:none\" points=\"\n",
       "  2190.47,1445.72 2190.47,1445.72 2212.47,1445.72 2190.47,1445.72 \n",
       "  \"/>\n",
       "<path clip-path=\"url(#clip432)\" d=\"\n",
       "M2212.47 1445.39 L2212.47 1445.72 L2234.47 1445.72 L2234.47 1445.39 L2212.47 1445.39 L2212.47 1445.39  Z\n",
       "  \" fill=\"#009af9\" fill-rule=\"evenodd\" fill-opacity=\"1\"/>\n",
       "<polyline clip-path=\"url(#clip432)\" style=\"stroke:#000000; stroke-linecap:butt; stroke-linejoin:round; stroke-width:4; stroke-opacity:1; fill:none\" points=\"\n",
       "  2212.47,1445.39 2212.47,1445.72 2234.47,1445.72 2234.47,1445.39 2212.47,1445.39 \n",
       "  \"/>\n",
       "<path clip-path=\"url(#clip430)\" d=\"\n",
       "M1989.69 198.898 L2281.07 198.898 L2281.07 95.2176 L1989.69 95.2176  Z\n",
       "  \" fill=\"#ffffff\" fill-rule=\"evenodd\" fill-opacity=\"1\"/>\n",
       "<polyline clip-path=\"url(#clip430)\" style=\"stroke:#000000; stroke-linecap:butt; stroke-linejoin:round; stroke-width:4; stroke-opacity:1; fill:none\" points=\"\n",
       "  1989.69,198.898 2281.07,198.898 2281.07,95.2176 1989.69,95.2176 1989.69,198.898 \n",
       "  \"/>\n",
       "<path clip-path=\"url(#clip430)\" d=\"\n",
       "M2013.58 167.794 L2156.95 167.794 L2156.95 126.322 L2013.58 126.322 L2013.58 167.794  Z\n",
       "  \" fill=\"#009af9\" fill-rule=\"evenodd\" fill-opacity=\"1\"/>\n",
       "<polyline clip-path=\"url(#clip430)\" style=\"stroke:#000000; stroke-linecap:butt; stroke-linejoin:round; stroke-width:4; stroke-opacity:1; fill:none\" points=\"\n",
       "  2013.58,167.794 2156.95,167.794 2156.95,126.322 2013.58,126.322 2013.58,167.794 \n",
       "  \"/>\n",
       "<path clip-path=\"url(#clip430)\" d=\"M2194.69 166.745 Q2192.89 171.375 2191.17 172.787 Q2189.46 174.199 2186.59 174.199 L2183.19 174.199 L2183.19 170.634 L2185.69 170.634 Q2187.45 170.634 2188.42 169.8 Q2189.39 168.967 2190.57 165.865 L2191.34 163.921 L2180.85 138.412 L2185.36 138.412 L2193.46 158.689 L2201.57 138.412 L2206.08 138.412 L2194.69 166.745 Z\" fill=\"#000000\" fill-rule=\"evenodd\" fill-opacity=\"1\" /><path clip-path=\"url(#clip430)\" d=\"M2213.37 160.402 L2221.01 160.402 L2221.01 134.037 L2212.7 135.703 L2212.7 131.444 L2220.96 129.778 L2225.64 129.778 L2225.64 160.402 L2233.28 160.402 L2233.28 164.338 L2213.37 164.338 L2213.37 160.402 Z\" fill=\"#000000\" fill-rule=\"evenodd\" fill-opacity=\"1\" /></svg>\n"
      ]
     },
     "execution_count": 13,
     "metadata": {},
     "output_type": "execute_result"
    }
   ],
   "source": [
    "histogram(p1_fpbh_posts)"
   ]
  },
  {
   "cell_type": "code",
   "execution_count": 31,
   "metadata": {},
   "outputs": [
    {
     "data": {
      "text/plain": [
       "get_quantile (generic function with 1 method)"
      ]
     },
     "execution_count": 31,
     "metadata": {},
     "output_type": "execute_result"
    }
   ],
   "source": [
    "get_quantile(posts) = quantile(posts, [0.05, 0.5, 0.95])"
   ]
  },
  {
   "cell_type": "code",
   "execution_count": 39,
   "metadata": {},
   "outputs": [
    {
     "data": {
      "text/plain": [
       "3-element Vector{Float64}:\n",
       " 1.0\n",
       " 0.0005028692744331644\n",
       " 0.00042637813400436483"
      ]
     },
     "execution_count": 39,
     "metadata": {},
     "output_type": "execute_result"
    }
   ],
   "source": [
    "function get_σ(posts)\n",
    "    x_low, x_mid, x_up = get_quantile(posts)\n",
    "    x_mid, max(x_up - x_mid, x_mid - x_low)\n",
    "end\n",
    "[1, get_σ(p1_fpbh_posts)...]"
   ]
  },
  {
   "cell_type": "code",
   "execution_count": 40,
   "metadata": {},
   "outputs": [
    {
     "data": {
      "text/plain": [
       "get_interval (generic function with 1 method)"
      ]
     },
     "execution_count": 40,
     "metadata": {},
     "output_type": "execute_result"
    }
   ],
   "source": [
    "function get_interval(posts)\n",
    "    x_low, x_mid, x_up = get_quantile(posts)\n",
    "    x_mid, x_up - x_mid, x_mid - x_low\n",
    "end"
   ]
  },
  {
   "cell_type": "code",
   "execution_count": 17,
   "metadata": {},
   "outputs": [
    {
     "data": {
      "text/plain": [
       "(0.17802770765919407, 0.07762166614083676, 0.0820400612793341)"
      ]
     },
     "execution_count": 17,
     "metadata": {},
     "output_type": "execute_result"
    }
   ],
   "source": [
    "get_interval(p1_posts)"
   ]
  },
  {
   "cell_type": "code",
   "execution_count": 18,
   "metadata": {},
   "outputs": [
    {
     "data": {
      "text/plain": [
       "(0.010630979074396193, 0.01385002704059007, 0.007840862847810555)"
      ]
     },
     "execution_count": 18,
     "metadata": {},
     "output_type": "execute_result"
    }
   ],
   "source": [
    "get_interval(p2_posts)"
   ]
  },
  {
   "cell_type": "code",
   "execution_count": 19,
   "metadata": {},
   "outputs": [
    {
     "data": {
      "text/plain": [
       "(0.015322323607851678, 0.004869518230419194, 0.004049982232133105)"
      ]
     },
     "execution_count": 19,
     "metadata": {},
     "output_type": "execute_result"
    }
   ],
   "source": [
    "get_interval(p3_posts)"
   ]
  },
  {
   "cell_type": "code",
   "execution_count": 20,
   "metadata": {},
   "outputs": [
    {
     "data": {
      "text/plain": [
       "(0.001978567639202855, 0.00122633994409499, 0.0010152886107792866)"
      ]
     },
     "execution_count": 20,
     "metadata": {},
     "output_type": "execute_result"
    }
   ],
   "source": [
    "get_interval(p4_posts)"
   ]
  },
  {
   "cell_type": "code",
   "execution_count": 21,
   "metadata": {},
   "outputs": [
    {
     "data": {
      "text/plain": [
       "(0.002849789033321095, 0.000911020685444019, 0.0006662556827536333)"
      ]
     },
     "execution_count": 21,
     "metadata": {},
     "output_type": "execute_result"
    }
   ],
   "source": [
    "get_interval(fpbh_posts)"
   ]
  },
  {
   "cell_type": "code",
   "execution_count": 22,
   "metadata": {},
   "outputs": [
    {
     "data": {
      "text/plain": [
       "(154.1241707041136, 185.78166453382264, 87.58194772832005)"
      ]
     },
     "execution_count": 22,
     "metadata": {},
     "output_type": "execute_result"
    }
   ],
   "source": [
    "get_interval(R_posts)"
   ]
  },
  {
   "cell_type": "code",
   "execution_count": 107,
   "metadata": {},
   "outputs": [
    {
     "data": {
      "text/plain": [
       "3-element Vector{Float64}:\n",
       "  66.54222297579355\n",
       " 154.1241707041136\n",
       " 339.90583523793623"
      ]
     },
     "execution_count": 107,
     "metadata": {},
     "output_type": "execute_result"
    }
   ],
   "source": [
    "get_quantile(R_posts)"
   ]
  },
  {
   "cell_type": "code",
   "execution_count": 23,
   "metadata": {},
   "outputs": [
    {
     "data": {
      "text/plain": [
       "0.0038405313743226435"
      ]
     },
     "execution_count": 23,
     "metadata": {},
     "output_type": "execute_result"
    }
   ],
   "source": [
    "function get_fpbh_from_R(p1, p2, p3, p4, q)\n",
    "    func = fpbh -> merger_rate(p1, p2, p3, p4, fpbh) - quantile(R_posts, q)\n",
    "    find_zero(func, (1e-4, 1e-2))\n",
    "end\n",
    "\n",
    "get_fpbh_from_R(p1, p2, p3, p4, 0.05)"
   ]
  },
  {
   "cell_type": "code",
   "execution_count": 24,
   "metadata": {},
   "outputs": [
    {
     "data": {
      "text/plain": [
       "3-element Vector{Float64}:\n",
       " 7.937252799298751e-8\n",
       " 7.861110587952049e-7\n",
       " 2.9756282493003496e-6"
      ]
     },
     "execution_count": 24,
     "metadata": {},
     "output_type": "execute_result"
    }
   ],
   "source": [
    "p1_qs = get_quantile(p1_posts)\n",
    "p2_qs = get_quantile(p2_posts)\n",
    "p3_qs = get_quantile(p3_posts)\n",
    "p4_qs = get_quantile(p4_posts)\n",
    "p5_qs = get_quantile(p5_posts)\n",
    "fpbh_qs = get_quantile(fpbh_posts)\n",
    "\n",
    "p1_fpbh_qs = get_quantile(p1_fpbh_posts)\n",
    "p2_fpbh_qs = get_quantile(p2_fpbh_posts)\n",
    "p3_fpbh_qs = get_quantile(p3_fpbh_posts)\n",
    "p4_fpbh_qs = get_quantile(p4_fpbh_posts)\n",
    "p5_fpbh_qs = get_quantile(p5_fpbh_posts)"
   ]
  },
  {
   "cell_type": "code",
   "execution_count": 25,
   "metadata": {},
   "outputs": [],
   "source": [
    "ps_data = [\n",
    "    [(1+3)/2, get_σ(p1_fpbh_posts)...],\n",
    "    [(3+10)/2, get_σ(p2_fpbh_posts)...],\n",
    "    [(10+40)/2, get_σ(p3_fpbh_posts)...],\n",
    "    [(40+80)/2, get_σ(p4_fpbh_posts)...],\n",
    "    [(80+130)/2, get_σ(p5_fpbh_posts)...]\n",
    "]\n",
    "\n",
    "save(\"backup/$(model)_ps.jld2\", Dict(\"ps\" => ps_data))"
   ]
  },
  {
   "cell_type": "code",
   "execution_count": 26,
   "metadata": {},
   "outputs": [
    {
     "data": {
      "text/plain": [
       "plot_band (generic function with 1 method)"
      ]
     },
     "execution_count": 26,
     "metadata": {},
     "output_type": "execute_result"
    }
   ],
   "source": [
    "function plot_band(low, mid, upper, left, right)\n",
    "    ms = left:0.1:right\n",
    "    pm_low = [low for m in ms]\n",
    "    pm_mid = [mid for m in ms]\n",
    "    pm_upper = [upper for m in ms]\n",
    "    \n",
    "    plot!(ms, pm_mid, label=\"\", color=\"blue\")\n",
    "    plot!(ms, pm_low, fillrange=pm_upper, fillalpha=0.35, color=\"cyan\", label=\"\")\n",
    "end\n"
   ]
  },
  {
   "cell_type": "code",
   "execution_count": 27,
   "metadata": {},
   "outputs": [],
   "source": [
    "# function Pm_log(σ, Mc, m)\n",
    "#     1/m/σ/sqrt(2pi) * exp(- log(m/Mc)^2/2/σ^2)\n",
    "# end\n",
    "\n",
    "# best_lognormal(m) = Pm_log(0.58, 18.18, m)\n",
    "\n",
    "# using Plots\n",
    "\n",
    "# ms = 1:0.1:130\n",
    "# ps = best_lognormal.(ms)\n",
    "\n",
    "# plot(ms, ps, xaxis=:log, yaxis=:log, color=\"red\", label=\"Log-normal\", legend=:bottomleft)\n",
    "# plot_band(p1_qs..., 1, 5)\n",
    "# plot_band(p2_qs..., 5, 10)\n",
    "# plot_band(p3_qs..., 10, 40)\n",
    "# plot_band(p4_qs..., 40, 80)\n",
    "# plot_band(p5_qs..., 80, 130)\n",
    "# xlabel!(L\"m/M_{\\odot}\")\n",
    "# ylabel!(L\"P(m)\")"
   ]
  },
  {
   "cell_type": "code",
   "execution_count": 28,
   "metadata": {},
   "outputs": [],
   "source": [
    "# function lognormal(σ, Mc, m)\n",
    "#     1/m/σ/sqrt(2pi) * exp(- log(m/Mc)^2/2/σ^2)\n",
    "# end\n",
    "\n",
    "# best_lognormal(m) = lognormal(0.58, 18.18, m)\n",
    "\n",
    "# using Plots\n",
    "\n",
    "# ms = [(1+5)/2, (5+10)/2, (10+40)/2, (40+80)/2, (80+130)/2]\n",
    "# ps = PmQCD.(ms, 10^(-2.26092), -0.0639596)\n",
    "\n",
    "# plot(ms, ps, xaxis=:log, yaxis=:log, color=\"black\", legend=:bottomleft)\n",
    "# plot_band(p1_fpbh_qs..., 1, 5)\n",
    "# plot_band(p2_fpbh_qs..., 5, 10)\n",
    "# plot_band(p3_fpbh_qs..., 10, 40)\n",
    "# plot_band(p4_fpbh_qs..., 40, 80)\n",
    "# plot_band(p5_fpbh_qs..., 80, 130)\n",
    "# xlabel!(L\"m/M_{\\odot}\")\n",
    "# ylabel!(L\"f_\\mathrm{pbh} P(m)\")"
   ]
  },
  {
   "cell_type": "code",
   "execution_count": 44,
   "metadata": {},
   "outputs": [],
   "source": [
    "# # using StatsPlots # no need for `using Plots` as that is reexported here\n",
    "# # pyplot()\n",
    "# ms = [(1+5)/2 (5+10)/2 (10+40)/2 (40+80)/2 (80+130)/2]\n",
    "# ps = [p1_posts, p2_posts, p3_posts, p4_posts, p5_posts]\n",
    "\n",
    "# violin(ms[1], ps[1], leg=false, linewidth=0, xlim=[1, 130], xaxis=:log, yaxis=:log, color=\"red\")\n",
    "# # for i in 2:5\n",
    "# #     violin!(ms[i], ps[i], leg=false, linewidth=0, xlim=[1, 130], xaxis=:log, yaxis=:log, color=\"red\", widths=1e2)\n",
    "# # end\n",
    "# xlabel!(L\"m/M_{\\odot}\")\n",
    "# ylabel!(L\"P(m)\")"
   ]
  },
  {
   "cell_type": "code",
   "execution_count": 45,
   "metadata": {},
   "outputs": [],
   "source": [
    "# using StatsPlots # no need for `using Plots` as that is reexported here\n",
    "# pyplot()"
   ]
  },
  {
   "cell_type": "code",
   "execution_count": 29,
   "metadata": {},
   "outputs": [
    {
     "data": {
      "text/plain": [
       "get_err (generic function with 1 method)"
      ]
     },
     "execution_count": 29,
     "metadata": {},
     "output_type": "execute_result"
    }
   ],
   "source": [
    "function get_err(end_points)\n",
    "    left_points = end_points[1:end-1]\n",
    "    right_points = end_points[2:end]\n",
    "    mean_points = (left_points .+ right_points) ./ 2\n",
    "    left_err = mean_points - left_points\n",
    "    right_err = right_points - mean_points\n",
    "    mean_points, left_err, right_err\n",
    "end"
   ]
  },
  {
   "cell_type": "markdown",
   "metadata": {},
   "source": [
    "## merger rate"
   ]
  },
  {
   "cell_type": "code",
   "execution_count": 64,
   "metadata": {},
   "outputs": [
    {
     "data": {
      "text/plain": [
       "(::var\"#post#41\"{Float64, Float64, Float64, Float64, Float64, Float64}) (generic function with 1 method)"
      ]
     },
     "execution_count": 64,
     "metadata": {},
     "output_type": "execute_result"
    }
   ],
   "source": [
    "post_190521 = get_post_func(\"190521\")\n",
    "post_200115 = get_post_func(\"200115_042309\")\n",
    "post_200105 = get_post_func(\"200105_162426\")\n",
    "\n",
    "post_190814 = get_post_func(\"190814\")\n",
    "post_190425 = get_post_func(\"190425\")\n",
    "post_190426 = get_post_func(\"190426_152155\")"
   ]
  },
  {
   "cell_type": "code",
   "execution_count": 65,
   "metadata": {},
   "outputs": [
    {
     "data": {
      "image/png": "[encoded data removed]"
     },
     "execution_count": 65,
     "metadata": {},
     "output_type": "execute_result"
    }
   ],
   "source": [
    "ms = 22:0.1:27\n",
    "ms2 = 2.2:0.0005:2.6\n",
    "# ps = post_190814.(ms2, 1.58)\n",
    "ps = post_190814.(ms, 2.5)\n",
    "# ps2 = post_200115.(5.7, ms)\n",
    "# ps3 = post_200105.(5.7, ms)\n",
    "plot(ms, ps)\n",
    "# plot!(ms, ps3)"
   ]
  },
  {
   "cell_type": "code",
   "execution_count": 66,
   "metadata": {},
   "outputs": [
    {
     "data": {
      "text/plain": [
       "get_cond_merger_rate (generic function with 1 method)"
      ]
     },
     "execution_count": 66,
     "metadata": {},
     "output_type": "execute_result"
    }
   ],
   "source": [
    "thr = 7.708648380664132e-5;\n",
    "function get_area(thr, post_data)\n",
    "    post, m1_min, m1_max, m2_min, m2_max = post_data\n",
    "    δm1 = m1_max - m1_min\n",
    "    δm2 = m2_max - m2_min\n",
    "    \n",
    "    function post_new(m1, m2)\n",
    "        p = post(m1, m2)\n",
    "        p >= thr ? p : 0\n",
    "    end\n",
    "    int(m1, m2) = δm1 * δm2 * post_new(m1_min + δm1*m1, m2_min + δm2*m2)\n",
    "    function integrand(x, f)\n",
    "        f[1] = int(x[1], x[2])\n",
    "    end\n",
    "    result, err = cuhre(integrand, rtol=1e-3, minevals=1e4)\n",
    "    result[1]\n",
    "end\n",
    "\n",
    "function get_thr(post_data)\n",
    "    fzero(thr -> get_area(thr, post_data) - 0.9, 1e-5, 1e2)\n",
    "end\n",
    "    \n",
    "function get_cond_merger_rate(p1, p2, p3, p4, fpbh, post_data, thr)\n",
    "    post, m1_min, m1_max, m2_min, m2_max = post_data\n",
    "    δm1 = m1_max - m1_min\n",
    "    δm2 = m2_max - m2_min\n",
    "#     println(δm1)\n",
    "#     println(δm2)\n",
    "    \n",
    "    R12_new(m1, m2) = post(m1, m2) >= thr ? R12(m1, m2, p1, p2, p3, p4, fpbh) : 0\n",
    "    int(m1, m2) = δm1 * δm2 * R12_new(m1_min + δm1*m1, m2_min + δm2*m2)\n",
    "#     println(\"p1=$p10, p2=$p20, p3=$p30\")\n",
    "    function integrand(x, f)\n",
    "        f[1] = int(x[1], x[2])\n",
    "    end\n",
    "    result, err = cuhre(integrand, rtol=1e-1)\n",
    "    result[1]\n",
    "end\n",
    "\n",
    "# function get_cond_merger_rate2(p1, p2, p3, p4, fpbh, post_data, thr)\n",
    "#     post, m1_min, m1_max, m2_min, m2_max = post_data\n",
    "#     δm1 = m1_max - m1_min\n",
    "#     δm2 = m2_max - m2_min\n",
    "# #     println(δm1)\n",
    "# #     println(δm2)\n",
    "    \n",
    "#     R12_new(m1, m2) = R12(m1, m2, p1, p2, p3, p4, fpbh)\n",
    "#     int(m1, m2) = δm1 * δm2 * R12_new(m1_min + δm1*m1, m2_min + δm2*m2)\n",
    "# #     println(\"p1=$p10, p2=$p20, p3=$p30\")\n",
    "#     function integrand(x, f)\n",
    "#         f[1] = int(x[1], x[2])\n",
    "#     end\n",
    "#     result, err = cuhre(integrand, rtol=1e-1)\n",
    "#     result[1]\n",
    "# end"
   ]
  },
  {
   "cell_type": "code",
   "execution_count": 67,
   "metadata": {},
   "outputs": [
    {
     "name": "stdout",
     "output_type": "stream",
     "text": [
      "0.9739968563422006\n",
      "0.8999991232723439\n",
      "  0.120874 seconds (191.72 k allocations: 11.237 MiB, 98.79% compilation time)\n"
     ]
    },
    {
     "data": {
      "text/plain": [
       "0.08769483365799279"
      ]
     },
     "execution_count": 67,
     "metadata": {},
     "output_type": "execute_result"
    }
   ],
   "source": [
    "# post_data = [post_200105, 6, 12, 1.5, 2.5];\n",
    "post_data = [post_190814, 20, 30, 1, 3];\n",
    "thr = get_thr(post_data)\n",
    "println(thr)\n",
    "println(get_area(thr, post_data))\n",
    "\n",
    "i = 10\n",
    "@time get_cond_merger_rate(p1_posts[i], p2_posts[i], p3_posts[i], p4_posts[i], fpbh_posts[i], post_data, thr)"
   ]
  },
  {
   "cell_type": "code",
   "execution_count": 68,
   "metadata": {},
   "outputs": [
    {
     "data": {
      "text/plain": [
       "0.158249172122616"
      ]
     },
     "execution_count": 68,
     "metadata": {},
     "output_type": "execute_result"
    }
   ],
   "source": [
    "get_cond_merger_rate(p1_qs[2], p2_qs[2], p3_qs[2], p4_qs[2], fpbh_qs[2], post_data, thr)"
   ]
  },
  {
   "cell_type": "code",
   "execution_count": 69,
   "metadata": {},
   "outputs": [
    {
     "data": {
      "text/plain": [
       "get_R_post (generic function with 1 method)"
      ]
     },
     "execution_count": 69,
     "metadata": {},
     "output_type": "execute_result"
    }
   ],
   "source": [
    "function get_R_post(post_data)\n",
    "    len = length(p1_posts)\n",
    "    result = zeros(len)\n",
    "    thr = get_thr(post_data)\n",
    "    println(thr)\n",
    "    Threads.@threads for i in 1:len\n",
    "#     for i in 1:len\n",
    "        result[i] = get_cond_merger_rate(p1_posts[i], p2_posts[i], p3_posts[i], p4_posts[i], fpbh_posts[i], post_data, thr)\n",
    "#         println(result[i])\n",
    "    end\n",
    "    result\n",
    "end"
   ]
  },
  {
   "cell_type": "code",
   "execution_count": 76,
   "metadata": {},
   "outputs": [
    {
     "name": "stdout",
     "output_type": "stream",
     "text": [
      "7.640945329601645e-5\n",
      " 99.070596 seconds (1.84 G allocations: 82.175 GiB, 37.76% gc time)\n"
     ]
    },
    {
     "data": {
      "text/plain": [
       "(0.1348361527596281, 0.1517239946901525, 0.085135502107985)"
      ]
     },
     "execution_count": 76,
     "metadata": {},
     "output_type": "execute_result"
    }
   ],
   "source": [
    "@time R_post_190521 = get_R_post([post_190521, 10, 130, 10, 130]);\n",
    "save(\"backup/$(model)_R_post_190521.jld2\", Dict(\"posts\" => R_post_190521))\n",
    "\n",
    "R_post = load(\"backup/$(model)_R_post_190521.jld2\")[\"posts\"];\n",
    "get_interval(R_post)"
   ]
  }
 ],
 "metadata": {
  "kernelspec": {
   "display_name": "Julia 1.6.3",
   "language": "julia",
   "name": "julia-1.6"
  },
  "language_info": {
   "file_extension": ".jl",
   "mimetype": "application/julia",
   "name": "julia",
   "version": "1.6.3"
  }
 },
 "nbformat": 4,
 "nbformat_minor": 4
}
