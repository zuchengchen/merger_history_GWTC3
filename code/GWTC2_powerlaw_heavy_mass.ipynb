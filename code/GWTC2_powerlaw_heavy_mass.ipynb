{
 "cells": [
  {
   "cell_type": "markdown",
   "metadata": {},
   "source": [
    "## Settings"
   ]
  },
  {
   "cell_type": "code",
   "execution_count": 1,
   "metadata": {},
   "outputs": [
    {
     "data": {
      "text/plain": [
       "1"
      ]
     },
     "execution_count": 1,
     "metadata": {},
     "output_type": "execute_result"
    }
   ],
   "source": []
  },
  {
   "cell_type": "code",
   "execution_count": 1,
   "metadata": {},
   "outputs": [],
   "source": [
    "# modify model\n",
    "model = \"GWTC2_powerlaw_heavy_mass\"\n",
    "\n",
    "include(\"utils.jl\")\n",
    "\n",
    "# modify post_events\n",
    "# posts = [get_post_func(event) for event in GWTC2_events_heavy_mass];\n",
    "# save(\"backup/posts_$(model).jld2\", Dict(\"posts\" => posts))\n",
    "posts = load(\"backup/posts_$(model).jld2\", \"posts\");"
   ]
  },
  {
   "cell_type": "code",
   "execution_count": 2,
   "metadata": {},
   "outputs": [
    {
     "data": {
      "text/plain": [
       "30"
      ]
     },
     "execution_count": 2,
     "metadata": {},
     "output_type": "execute_result"
    }
   ],
   "source": [
    "fpbh = 0.0025693801260000975 # fpbh\n",
    "log_fpbh = -3\n",
    "M = 8.896735628637506\n",
    "α = 1.9108320383237213\n",
    "i = 10\n",
    "j = 30"
   ]
  },
  {
   "cell_type": "markdown",
   "metadata": {},
   "source": [
    "## Merger rate and log_likelihood"
   ]
  },
  {
   "cell_type": "code",
   "execution_count": 3,
   "metadata": {},
   "outputs": [
    {
     "data": {
      "text/plain": [
       "merger_rate (generic function with 1 method)"
      ]
     },
     "execution_count": 3,
     "metadata": {},
     "output_type": "execute_result"
    }
   ],
   "source": [
    "function mergerRateDensity1st(i, j, M, α, fpbh)\n",
    "    4.884e7* fpbh^(53/37) * (i + j)^(36/37) * (i/M)^(-α) * (j/M)^(-α) * α^3 / (i*j)^(34/37) / M^(21/37) / (M*α/(-1 + α))^(\n",
    " 53/37) / (21 + 37α)\n",
    "end\n",
    "\n",
    "function mergerRateDensity2nd0(i, j, M, α, fpbh)\n",
    "    if i > 2*M\n",
    "        5.883e5 * fpbh^(69/37) * i^(-2α) * j^(-α) * (i+j)^(72/37) * M^(-3+3α) * α^4 * beta_func2(M/i, 1-M/i, -α, -α) * ((α-1)/α)^(69/37) / (i*j)^(31/37) / (42 + 37α)\n",
    "    else\n",
    "        0\n",
    "    end\n",
    "end\n",
    "\n",
    "mergerRateDensity2nd(i, j, M, α, f) = 0.5 * (mergerRateDensity2nd0(i, j, M, α, f) + mergerRateDensity2nd0(j, i, M, α, f))\n",
    "\n",
    "# function mergerRateDensity(i, j, mc, σc, f)\n",
    "#     if i >= j\n",
    "#         mergerRateDensity1st(i, j, mc, σc, f) + mergerRateDensity2nd(i, j, mc, σc, f)\n",
    "#     else\n",
    "#         mergerRateDensity(j, i, mc, σc, f)\n",
    "#     end\n",
    "# end\n",
    "\n",
    "mergerRateDensity(i, j, M, α, f) = mergerRateDensity1st(i, j, M, α, f) + mergerRateDensity2nd(i, j, M, α, f)\n",
    "\n",
    "function merger_rate(M, α, f) \n",
    "    int(m1, m2) = δm^2 * mergerRateDensity(m_min + δm*m1, m_min + δm*m2, M, α, f) \n",
    "#     println(\"p1=$p10, p2=$p20, p3=$p30\")\n",
    "    function integrand(x, f)\n",
    "        f[1] = int(x[1], x[2])\n",
    "    end\n",
    "    result, err = cuhre(integrand, rtol=1e-3)\n",
    "    0.5*result[1]\n",
    "end"
   ]
  },
  {
   "cell_type": "code",
   "execution_count": 4,
   "metadata": {},
   "outputs": [],
   "source": [
    "# @time mergerRateDensity(i, j, mc, σc, f)\n",
    "# mergerRateDensity1st(i, j, mc, σc, f)\n",
    "# @time merger_rate(mc, σc, f)\n",
    "# mergerRateDensity2nd(i, j, mc, σc, f)\n",
    "# @time mergerRateDensity2nd(i, j, mc, σc, f)\n",
    "# @time mergerRateDensity2nd1(i, j, mc, σc, f)"
   ]
  },
  {
   "cell_type": "code",
   "execution_count": 5,
   "metadata": {},
   "outputs": [
    {
     "data": {
      "text/plain": [
       "β_func (generic function with 1 method)"
      ]
     },
     "execution_count": 5,
     "metadata": {},
     "output_type": "execute_result"
    }
   ],
   "source": [
    "function β_func(M, α, f)\n",
    "    int0(m1, m2) = mergerRateDensity(m1, m2, M, α, f) * VT(m1, m2)\n",
    "    int(m1, m2) = δm^2 * int0(m_min + δm * m1, m_min + δm * m2)\n",
    "    function integrand(x, f)\n",
    "        f[1] = int(x[1], x[2])\n",
    "    end\n",
    "    result, err = cuhre(integrand, rtol=1e-1)\n",
    "    0.5 * result[1]\n",
    "end"
   ]
  },
  {
   "cell_type": "code",
   "execution_count": 6,
   "metadata": {},
   "outputs": [
    {
     "name": "stdout",
     "output_type": "stream",
     "text": [
      "  831.948 μs (8941 allocations: 273.97 KiB)\n"
     ]
    },
    {
     "data": {
      "text/plain": [
       "64.85407891930069"
      ]
     },
     "execution_count": 6,
     "metadata": {},
     "output_type": "execute_result"
    }
   ],
   "source": [
    "@btime β_func(M, α, fpbh)"
   ]
  },
  {
   "cell_type": "code",
   "execution_count": 7,
   "metadata": {},
   "outputs": [
    {
     "data": {
      "text/plain": [
       "log_pR_func (generic function with 1 method)"
      ]
     },
     "execution_count": 7,
     "metadata": {},
     "output_type": "execute_result"
    }
   ],
   "source": [
    "function log_pR_func(M, α, f, post)\n",
    "    int0(m1, m2) = mergerRateDensity(m1, m2, M, α, f) * post(m1, m2)\n",
    "    int(m1, m2) = δm^2 * int0(m_min + δm * m1, m_min + δm * m2)\n",
    "    function integrand(x, f)\n",
    "        f[1] = int(x[1], x[2])\n",
    "    end\n",
    "    result, err = cuhre(integrand, rtol=1e-1)\n",
    "    log(0.5 * abs(result[1]))\n",
    "end"
   ]
  },
  {
   "cell_type": "code",
   "execution_count": 8,
   "metadata": {},
   "outputs": [
    {
     "name": "stdout",
     "output_type": "stream",
     "text": [
      "  0.081903 seconds (497.12 k allocations: 25.417 MiB, 77.73% compilation time)\n"
     ]
    },
    {
     "data": {
      "text/plain": [
       "-6.382856392594164"
      ]
     },
     "execution_count": 8,
     "metadata": {},
     "output_type": "execute_result"
    }
   ],
   "source": [
    "@time log_pR_func(M, α, fpbh, posts[8])"
   ]
  },
  {
   "cell_type": "code",
   "execution_count": 9,
   "metadata": {},
   "outputs": [
    {
     "data": {
      "text/plain": [
       "logL (generic function with 1 method)"
      ]
     },
     "execution_count": 9,
     "metadata": {},
     "output_type": "execute_result"
    }
   ],
   "source": [
    "function logL(M, α, log_fpbh, posts)\n",
    "    - β_func(M, α, 10.0^log_fpbh) + sum(log_pR_func.(M, α, 10.0^log_fpbh, posts))\n",
    "end"
   ]
  },
  {
   "cell_type": "code",
   "execution_count": 10,
   "metadata": {},
   "outputs": [
    {
     "name": "stdout",
     "output_type": "stream",
     "text": [
      "  0.387241 seconds (3.02 M allocations: 147.609 MiB, 7.91% gc time, 49.77% compilation time)\n"
     ]
    },
    {
     "data": {
      "text/plain": [
       "-722.6043148201051"
      ]
     },
     "execution_count": 10,
     "metadata": {},
     "output_type": "execute_result"
    }
   ],
   "source": [
    "@time logL(1, 1.01, log_fpbh, posts)"
   ]
  },
  {
   "cell_type": "code",
   "execution_count": 11,
   "metadata": {},
   "outputs": [
    {
     "data": {
      "text/plain": [
       "-709.3464167389446"
      ]
     },
     "execution_count": 11,
     "metadata": {},
     "output_type": "execute_result"
    }
   ],
   "source": [
    "logL(1, 4, 0, posts)"
   ]
  },
  {
   "cell_type": "code",
   "execution_count": 12,
   "metadata": {},
   "outputs": [
    {
     "name": "stdout",
     "output_type": "stream",
     "text": [
      "  75.910 ms (409795 allocations: 18.62 MiB)\n"
     ]
    },
    {
     "data": {
      "text/plain": [
       "-505.57679259624007"
      ]
     },
     "execution_count": 12,
     "metadata": {},
     "output_type": "execute_result"
    }
   ],
   "source": [
    "@btime logL(M, α, log_fpbh, posts)"
   ]
  },
  {
   "cell_type": "code",
   "execution_count": 13,
   "metadata": {},
   "outputs": [],
   "source": [
    "likelihood = ps -> LogDVal(logL(ps.M, ps.α, ps.log_fpbh, posts))\n",
    "\n",
    "prior = BAT.NamedTupleDist(\n",
    "    M = (1)..(20),\n",
    "    α = (1.01)..(4.0),\n",
    "    log_fpbh = (-4)..(-0.0)\n",
    ")\n",
    "\n",
    "posterior = PosteriorDensity(likelihood, prior);"
   ]
  },
  {
   "cell_type": "code",
   "execution_count": 1,
   "metadata": {},
   "outputs": [
    {
     "data": {
      "text/plain": [
       "true"
      ]
     },
     "metadata": {},
     "output_type": "display_data"
    }
   ],
   "source": [
    "1<2 & 2>1"
   ]
  },
  {
   "cell_type": "markdown",
   "metadata": {},
   "source": [
    "## Sampling"
   ]
  },
  {
   "cell_type": "code",
   "execution_count": null,
   "metadata": {},
   "outputs": [
    {
     "name": "stdout",
     "output_type": "stream",
     "text": [
      "Start sampling.\n"
     ]
    },
    {
     "name": "stderr",
     "output_type": "stream",
     "text": [
      "┌ Info: Initializing new RNG of type Random123.Philox4x{UInt64, 10}\n",
      "└ @ BAT /home/czc/.julia/packages/BAT/XvOy6/src/algotypes/bat_default.jl:44\n",
      "┌ Info: Using transform algorithm PriorSubstitution()\n",
      "└ @ BAT /home/czc/.julia/packages/BAT/XvOy6/src/algotypes/bat_default.jl:44\n",
      "┌ Info: Trying to generate 4 viable MCMC chain(s).\n",
      "└ @ BAT /home/czc/.julia/packages/BAT/XvOy6/src/samplers/mcmc/chain_pool_init.jl:56\n"
     ]
    }
   ],
   "source": [
    "@time begin\n",
    "println(\"Start sampling.\")\n",
    "\n",
    "burnin = MCMCMultiCycleBurnin(max_ncycles=1000)\n",
    "samples, chains = bat_sample(posterior, MCMCSampling(mcalg=MetropolisHastings(), nsteps=10^5, nchains=4, burnin = burnin));\n",
    "    \n",
    "println(\" \")\n",
    "println(\"Finish sampling.\")\n",
    "end\n",
    "\n",
    "save(\"backup/samples_$model.jld2\", Dict(\"samples\" => samples, \"chains\" => chains))"
   ]
  },
  {
   "cell_type": "code",
   "execution_count": null,
   "metadata": {},
   "outputs": [
    {
     "name": "stdout",
     "output_type": "stream",
     "text": [
      "Start sampling.\n"
     ]
    },
    {
     "name": "stderr",
     "output_type": "stream",
     "text": [
      "┌ Info: Initializing new RNG of type Random123.Philox4x{UInt64, 10}\n",
      "└ @ BAT /home/czc/.julia/packages/BAT/XvOy6/src/algotypes/bat_default.jl:44\n",
      "┌ Info: Using transform algorithm PriorSubstitution()\n",
      "└ @ BAT /home/czc/.julia/packages/BAT/XvOy6/src/algotypes/bat_default.jl:44\n",
      "┌ Info: Trying to generate 4 viable MCMC chain(s).\n",
      "└ @ BAT /home/czc/.julia/packages/BAT/XvOy6/src/samplers/mcmc/chain_pool_init.jl:56\n"
     ]
    }
   ],
   "source": [
    "@time begin\n",
    "println(\"Start sampling.\")\n",
    "\n",
    "burnin = MCMCMultiCycleBurnin(max_ncycles=1000)\n",
    "samples, chains = bat_sample(posterior, MCMCSampling(mcalg=MetropolisHastings(), nsteps=10^5, nchains=4, burnin = burnin));\n",
    "    \n",
    "println(\" \")\n",
    "println(\"Finish sampling.\")\n",
    "end\n",
    "\n",
    "save(\"backup/samples_$model.jld2\", Dict(\"samples\" => samples, \"chains\" => chains))"
   ]
  },
  {
   "cell_type": "code",
   "execution_count": 23,
   "metadata": {},
   "outputs": [],
   "source": [
    "samples = load(\"backup/samples_$model.jld2\")[\"samples\"];"
   ]
  },
  {
   "cell_type": "code",
   "execution_count": 24,
   "metadata": {},
   "outputs": [
    {
     "data": {
      "image/png": "[encoded data removed]"
     },
     "execution_count": 24,
     "metadata": {},
     "output_type": "execute_result"
    }
   ],
   "source": [
    "plot(samples)"
   ]
  },
  {
   "cell_type": "code",
   "execution_count": null,
   "metadata": {},
   "outputs": [],
   "source": [
    "plot(\n",
    "    samples, :α,\n",
    "    mean = true, std = true, globalmode = true, marginalmode = true,\n",
    "    nbins = 50, title = \"Marginalized Distribution for y\"\n",
    ")"
   ]
  },
  {
   "cell_type": "code",
   "execution_count": 26,
   "metadata": {},
   "outputs": [
    {
     "data": {
      "text/plain": [
       "BAT.jl - SampledDensity\n",
       "──────────────────────────────\n",
       "\n",
       "Sampling:\n",
       "─────────────────────────\n",
       "total number of samples:      102814\n",
       "effective number of samples: (mc = 15451.44904390591, σc = 17520.970664312077, log_fpbh = 18842.777553488366)\n",
       "\n",
       "\n",
       "Parameter estimates:\n",
       "─────────────────────────\n",
       "number of free parameters: 3\n",
       "\n",
       "NamedTuple{(:parameter, :mean, :std, :global_mode, :marginal_mode), Tuple{Symbol, Float64, Float64, Float64, Float64}}[(parameter = :mc, mean = 16.880571451097556, std = 2.308750596747043, global_mode = 16.77003928630452, marginal_mode = 16.75), (parameter = :σc, mean = 0.853842995325672, std = 0.10069798429779661, global_mode = 0.8042464576206975, marginal_mode = 0.8574999999999999), (parameter = :log_fpbh, mean = -2.5350287258153426, std = 0.06363490106492785, global_mode = -2.53088210975279, marginal_mode = -2.5324999999999998)]\n",
       "\n",
       "\n",
       "Covariance matrix:\n",
       "─────────────────────────\n",
       "3×3 Named Matrix{Float64}\n",
       "  cov ╲  │           mc            σc      log_fpbh\n",
       "─────────┼─────────────────────────────────────────\n",
       "mc       │      5.33033    -0.0836381     -0.075271\n",
       "σc       │   -0.0836381     0.0101401  -0.000371506\n",
       "log_fpbh │    -0.075271  -0.000371506     0.0040494\n"
      ]
     },
     "metadata": {},
     "output_type": "display_data"
    }
   ],
   "source": [
    "sd = SampledDensity(posterior, samples)\n",
    "display(sd)"
   ]
  },
  {
   "cell_type": "code",
   "execution_count": 27,
   "metadata": {},
   "outputs": [
    {
     "data": {
      "text/plain": [
       "get_post (generic function with 1 method)"
      ]
     },
     "execution_count": 27,
     "metadata": {},
     "output_type": "execute_result"
    }
   ],
   "source": [
    "get_post(para, samples) = [a[para] for a in samples.v]"
   ]
  },
  {
   "cell_type": "code",
   "execution_count": 28,
   "metadata": {},
   "outputs": [
    {
     "ename": "LoadError",
     "evalue": "type NamedTuple has no field log_p1",
     "output_type": "error",
     "traceback": [
      "type NamedTuple has no field log_p1",
      "",
      "Stacktrace:",
      " [1] getindex",
      "   @ ./namedtuple.jl:118 [inlined]",
      " [2] #22",
      "   @ ./none:0 [inlined]",
      " [3] iterate",
      "   @ ./generator.jl:47 [inlined]",
      " [4] collect(itr::Base.Generator{ValueShapes.ShapedAsNTArray{NamedTuple{(:mc, :σc, :log_fpbh), Tuple{Float64, Float64, Float64}}, 1, ArraysOfArrays.ArrayOfSimilarArrays{Float64, 1, 1, 2, ElasticArrays.ElasticMatrix{Float64, Vector{Float64}}}, ValueShapes.NamedTupleShape{(:mc, :σc, :log_fpbh), Tuple{ValueShapes.ValueAccessor{ValueShapes.ScalarShape{Real}}, ValueShapes.ValueAccessor{ValueShapes.ScalarShape{Real}}, ValueShapes.ValueAccessor{ValueShapes.ScalarShape{Real}}}}}, var\"#22#23\"{Symbol}})",
      "   @ Base ./array.jl:681",
      " [5] get_post(para::Symbol, samples::StructArrays.StructVector{DensitySample{NamedTuple{(:mc, :σc, :log_fpbh), Tuple{Float64, Float64, Float64}}, Float64, Int64, BAT.MCMCSampleID, Nothing}, NamedTuple{(:v, :logd, :weight, :info, :aux), Tuple{ValueShapes.ShapedAsNTArray{NamedTuple{(:mc, :σc, :log_fpbh), Tuple{Float64, Float64, Float64}}, 1, ArraysOfArrays.ArrayOfSimilarArrays{Float64, 1, 1, 2, ElasticArrays.ElasticMatrix{Float64, Vector{Float64}}}, ValueShapes.NamedTupleShape{(:mc, :σc, :log_fpbh), Tuple{ValueShapes.ValueAccessor{ValueShapes.ScalarShape{Real}}, ValueShapes.ValueAccessor{ValueShapes.ScalarShape{Real}}, ValueShapes.ValueAccessor{ValueShapes.ScalarShape{Real}}}}}, Vector{Float64}, Vector{Int64}, StructArrays.StructVector{BAT.MCMCSampleID, NamedTuple{(:chainid, :chaincycle, :stepno, :sampletype), Tuple{Vector{Int32}, Vector{Int32}, Vector{Int64}, Vector{Int64}}}, Int64}, Vector{Nothing}}}, CartesianIndex{1}})",
      "   @ Main ./In[27]:1",
      " [6] top-level scope",
      "   @ In[28]:1",
      " [7] eval",
      "   @ ./boot.jl:360 [inlined]",
      " [8] include_string(mapexpr::typeof(REPL.softscope), mod::Module, code::String, filename::String)",
      "   @ Base ./loading.jl:1116"
     ]
    }
   ],
   "source": [
    "log_p1_posts = get_post(:log_p1, samples)\n",
    "log_p2_posts = get_post(:log_p2, samples)\n",
    "log_p3_posts = get_post(:log_p3, samples)\n",
    "log_p4_posts = get_post(:log_p4, samples)\n",
    "log_fpbh_posts = get_post(:log_fpbh, samples)\n",
    "\n",
    "p1_posts = 10 .^ log_p1_posts\n",
    "p2_posts = 10 .^ log_p2_posts\n",
    "p3_posts = 10 .^ log_p3_posts\n",
    "p4_posts = 10 .^ log_p4_posts\n",
    "fpbh_posts = 10 .^ log_fpbh_posts\n",
    "\n",
    "p5_posts = get_p5.(p1_posts, p2_posts, p3_posts, p4_posts);\n",
    "log_p5_posts = log10.(p5_posts);"
   ]
  },
  {
   "cell_type": "code",
   "execution_count": 29,
   "metadata": {},
   "outputs": [
    {
     "ename": "LoadError",
     "evalue": "UndefVarError: p1_posts not defined",
     "output_type": "error",
     "traceback": [
      "UndefVarError: p1_posts not defined",
      "",
      "Stacktrace:",
      " [1] top-level scope",
      "   @ In[29]:1",
      " [2] eval",
      "   @ ./boot.jl:360 [inlined]",
      " [3] include_string(mapexpr::typeof(REPL.softscope), mod::Module, code::String, filename::String)",
      "   @ Base ./loading.jl:1116"
     ]
    }
   ],
   "source": [
    "p1_fpbh_posts = p1_posts .* fpbh_posts\n",
    "p2_fpbh_posts = p2_posts .* fpbh_posts\n",
    "p3_fpbh_posts = p3_posts .* fpbh_posts\n",
    "p4_fpbh_posts = p4_posts .* fpbh_posts\n",
    "p5_fpbh_posts = p5_posts .* fpbh_posts;\n",
    "\n",
    "log_p1_fpbh_posts = log10.(p1_fpbh_posts)\n",
    "log_p2_fpbh_posts = log10.(p2_fpbh_posts)\n",
    "log_p3_fpbh_posts = log10.(p3_fpbh_posts)\n",
    "log_p4_fpbh_posts = log10.(p4_fpbh_posts)\n",
    "log_p5_fpbh_posts = log10.(p5_fpbh_posts);"
   ]
  },
  {
   "cell_type": "code",
   "execution_count": 30,
   "metadata": {},
   "outputs": [
    {
     "ename": "LoadError",
     "evalue": "ArgumentError: No file exists at given path: backup/R_posts_GWTC2_lognormal_low_spin_heavy_mass.jld2",
     "output_type": "error",
     "traceback": [
      "ArgumentError: No file exists at given path: backup/R_posts_GWTC2_lognormal_low_spin_heavy_mass.jld2",
      "",
      "Stacktrace:",
      " [1] checkpath_load",
      "   @ ~/.julia/packages/FileIO/DNKwN/src/loadsave.jl:167 [inlined]",
      " [2] load(::String; options::Base.Iterators.Pairs{Union{}, Union{}, Tuple{}, NamedTuple{(), Tuple{}}})",
      "   @ FileIO ~/.julia/packages/FileIO/DNKwN/src/loadsave.jl:110",
      " [3] load(::String)",
      "   @ FileIO ~/.julia/packages/FileIO/DNKwN/src/loadsave.jl:110",
      " [4] top-level scope",
      "   @ In[30]:7",
      " [5] eval",
      "   @ ./boot.jl:360 [inlined]",
      " [6] include_string(mapexpr::typeof(REPL.softscope), mod::Module, code::String, filename::String)",
      "   @ Base ./loading.jl:1116"
     ]
    }
   ],
   "source": [
    "# R_posts = zeros(length(p1_posts))\n",
    "# Threads.@threads for i in 1:length(R_posts)\n",
    "#     R_posts[i] = merger_rate(p1_posts[i], p2_posts[i], p3_posts[i], p4_posts[i], fpbh_posts[i])\n",
    "# end\n",
    "\n",
    "# save(\"backup/R_posts_$model.jld2\", Dict(\"samples\" => R_posts))\n",
    "R_posts = load(\"backup/R_posts_$model.jld2\")[\"samples\"];"
   ]
  },
  {
   "cell_type": "code",
   "execution_count": 31,
   "metadata": {},
   "outputs": [
    {
     "ename": "LoadError",
     "evalue": "UndefVarError: log_p2_posts not defined",
     "output_type": "error",
     "traceback": [
      "UndefVarError: log_p2_posts not defined",
      "",
      "Stacktrace:",
      " [1] top-level scope",
      "   @ In[31]:1",
      " [2] eval",
      "   @ ./boot.jl:360 [inlined]",
      " [3] include_string(mapexpr::typeof(REPL.softscope), mod::Module, code::String, filename::String)",
      "   @ Base ./loading.jl:1116"
     ]
    }
   ],
   "source": [
    "histogram(log_p2_posts)"
   ]
  },
  {
   "cell_type": "code",
   "execution_count": 32,
   "metadata": {},
   "outputs": [
    {
     "ename": "LoadError",
     "evalue": "UndefVarError: p1_fpbh_posts not defined",
     "output_type": "error",
     "traceback": [
      "UndefVarError: p1_fpbh_posts not defined",
      "",
      "Stacktrace:",
      " [1] top-level scope",
      "   @ In[32]:1",
      " [2] eval",
      "   @ ./boot.jl:360 [inlined]",
      " [3] include_string(mapexpr::typeof(REPL.softscope), mod::Module, code::String, filename::String)",
      "   @ Base ./loading.jl:1116"
     ]
    }
   ],
   "source": [
    "histogram(p1_fpbh_posts)"
   ]
  },
  {
   "cell_type": "code",
   "execution_count": 33,
   "metadata": {},
   "outputs": [
    {
     "data": {
      "text/plain": [
       "get_quantile (generic function with 1 method)"
      ]
     },
     "execution_count": 33,
     "metadata": {},
     "output_type": "execute_result"
    }
   ],
   "source": [
    "get_quantile(posts) = quantile(posts, [0.05, 0.5, 0.95])"
   ]
  },
  {
   "cell_type": "code",
   "execution_count": 34,
   "metadata": {},
   "outputs": [
    {
     "ename": "LoadError",
     "evalue": "UndefVarError: p1_fpbh_posts not defined",
     "output_type": "error",
     "traceback": [
      "UndefVarError: p1_fpbh_posts not defined",
      "",
      "Stacktrace:",
      " [1] top-level scope",
      "   @ In[34]:5",
      " [2] eval",
      "   @ ./boot.jl:360 [inlined]",
      " [3] include_string(mapexpr::typeof(REPL.softscope), mod::Module, code::String, filename::String)",
      "   @ Base ./loading.jl:1116"
     ]
    }
   ],
   "source": [
    "function get_σ(posts)\n",
    "    x_low, x_mid, x_up = get_quantile(posts)\n",
    "    x_mid, max(x_up - x_mid, x_mid - x_low)\n",
    "end\n",
    "[1, get_σ(p1_fpbh_posts)...]"
   ]
  },
  {
   "cell_type": "code",
   "execution_count": 35,
   "metadata": {},
   "outputs": [
    {
     "data": {
      "text/plain": [
       "get_interval (generic function with 1 method)"
      ]
     },
     "execution_count": 35,
     "metadata": {},
     "output_type": "execute_result"
    }
   ],
   "source": [
    "function get_interval(posts)\n",
    "    x_low, x_mid, x_up = get_quantile(posts)\n",
    "    x_mid, x_up - x_mid, x_mid - x_low\n",
    "end"
   ]
  },
  {
   "cell_type": "code",
   "execution_count": 36,
   "metadata": {},
   "outputs": [
    {
     "ename": "LoadError",
     "evalue": "UndefVarError: p1_posts not defined",
     "output_type": "error",
     "traceback": [
      "UndefVarError: p1_posts not defined",
      "",
      "Stacktrace:",
      " [1] top-level scope",
      "   @ In[36]:1",
      " [2] eval",
      "   @ ./boot.jl:360 [inlined]",
      " [3] include_string(mapexpr::typeof(REPL.softscope), mod::Module, code::String, filename::String)",
      "   @ Base ./loading.jl:1116"
     ]
    }
   ],
   "source": [
    "get_interval(p1_posts)"
   ]
  },
  {
   "cell_type": "code",
   "execution_count": 37,
   "metadata": {},
   "outputs": [
    {
     "ename": "LoadError",
     "evalue": "UndefVarError: p2_posts not defined",
     "output_type": "error",
     "traceback": [
      "UndefVarError: p2_posts not defined",
      "",
      "Stacktrace:",
      " [1] top-level scope",
      "   @ In[37]:1",
      " [2] eval",
      "   @ ./boot.jl:360 [inlined]",
      " [3] include_string(mapexpr::typeof(REPL.softscope), mod::Module, code::String, filename::String)",
      "   @ Base ./loading.jl:1116"
     ]
    }
   ],
   "source": [
    "get_interval(p2_posts)"
   ]
  },
  {
   "cell_type": "code",
   "execution_count": 38,
   "metadata": {},
   "outputs": [
    {
     "ename": "LoadError",
     "evalue": "UndefVarError: p3_posts not defined",
     "output_type": "error",
     "traceback": [
      "UndefVarError: p3_posts not defined",
      "",
      "Stacktrace:",
      " [1] top-level scope",
      "   @ In[38]:1",
      " [2] eval",
      "   @ ./boot.jl:360 [inlined]",
      " [3] include_string(mapexpr::typeof(REPL.softscope), mod::Module, code::String, filename::String)",
      "   @ Base ./loading.jl:1116"
     ]
    }
   ],
   "source": [
    "get_interval(p3_posts)"
   ]
  },
  {
   "cell_type": "code",
   "execution_count": 39,
   "metadata": {},
   "outputs": [
    {
     "ename": "LoadError",
     "evalue": "UndefVarError: p4_posts not defined",
     "output_type": "error",
     "traceback": [
      "UndefVarError: p4_posts not defined",
      "",
      "Stacktrace:",
      " [1] top-level scope",
      "   @ In[39]:1",
      " [2] eval",
      "   @ ./boot.jl:360 [inlined]",
      " [3] include_string(mapexpr::typeof(REPL.softscope), mod::Module, code::String, filename::String)",
      "   @ Base ./loading.jl:1116"
     ]
    }
   ],
   "source": [
    "get_interval(p4_posts)"
   ]
  },
  {
   "cell_type": "code",
   "execution_count": 40,
   "metadata": {},
   "outputs": [
    {
     "ename": "LoadError",
     "evalue": "UndefVarError: fpbh_posts not defined",
     "output_type": "error",
     "traceback": [
      "UndefVarError: fpbh_posts not defined",
      "",
      "Stacktrace:",
      " [1] top-level scope",
      "   @ In[40]:1",
      " [2] eval",
      "   @ ./boot.jl:360 [inlined]",
      " [3] include_string(mapexpr::typeof(REPL.softscope), mod::Module, code::String, filename::String)",
      "   @ Base ./loading.jl:1116"
     ]
    }
   ],
   "source": [
    "get_interval(fpbh_posts)"
   ]
  },
  {
   "cell_type": "code",
   "execution_count": 41,
   "metadata": {},
   "outputs": [
    {
     "ename": "LoadError",
     "evalue": "UndefVarError: R_posts not defined",
     "output_type": "error",
     "traceback": [
      "UndefVarError: R_posts not defined",
      "",
      "Stacktrace:",
      " [1] top-level scope",
      "   @ In[41]:1",
      " [2] eval",
      "   @ ./boot.jl:360 [inlined]",
      " [3] include_string(mapexpr::typeof(REPL.softscope), mod::Module, code::String, filename::String)",
      "   @ Base ./loading.jl:1116"
     ]
    }
   ],
   "source": [
    "get_interval(R_posts)"
   ]
  },
  {
   "cell_type": "code",
   "execution_count": 42,
   "metadata": {},
   "outputs": [
    {
     "ename": "LoadError",
     "evalue": "UndefVarError: R_posts not defined",
     "output_type": "error",
     "traceback": [
      "UndefVarError: R_posts not defined",
      "",
      "Stacktrace:",
      " [1] top-level scope",
      "   @ In[42]:1",
      " [2] eval",
      "   @ ./boot.jl:360 [inlined]",
      " [3] include_string(mapexpr::typeof(REPL.softscope), mod::Module, code::String, filename::String)",
      "   @ Base ./loading.jl:1116"
     ]
    }
   ],
   "source": [
    "get_quantile(R_posts)"
   ]
  },
  {
   "cell_type": "code",
   "execution_count": 43,
   "metadata": {},
   "outputs": [
    {
     "ename": "LoadError",
     "evalue": "UndefVarError: p1 not defined",
     "output_type": "error",
     "traceback": [
      "UndefVarError: p1 not defined",
      "",
      "Stacktrace:",
      " [1] top-level scope",
      "   @ In[43]:6",
      " [2] eval",
      "   @ ./boot.jl:360 [inlined]",
      " [3] include_string(mapexpr::typeof(REPL.softscope), mod::Module, code::String, filename::String)",
      "   @ Base ./loading.jl:1116"
     ]
    }
   ],
   "source": [
    "function get_fpbh_from_R(p1, p2, p3, p4, q)\n",
    "    func = fpbh -> merger_rate(p1, p2, p3, p4, fpbh) - quantile(R_posts, q)\n",
    "    find_zero(func, (1e-4, 1e-2))\n",
    "end\n",
    "\n",
    "get_fpbh_from_R(p1, p2, p3, p4, 0.05)"
   ]
  },
  {
   "cell_type": "code",
   "execution_count": 44,
   "metadata": {},
   "outputs": [
    {
     "ename": "LoadError",
     "evalue": "UndefVarError: p1_posts not defined",
     "output_type": "error",
     "traceback": [
      "UndefVarError: p1_posts not defined",
      "",
      "Stacktrace:",
      " [1] top-level scope",
      "   @ In[44]:1",
      " [2] eval",
      "   @ ./boot.jl:360 [inlined]",
      " [3] include_string(mapexpr::typeof(REPL.softscope), mod::Module, code::String, filename::String)",
      "   @ Base ./loading.jl:1116"
     ]
    }
   ],
   "source": [
    "p1_qs = get_quantile(p1_posts)\n",
    "p2_qs = get_quantile(p2_posts)\n",
    "p3_qs = get_quantile(p3_posts)\n",
    "p4_qs = get_quantile(p4_posts)\n",
    "p5_qs = get_quantile(p5_posts)\n",
    "fpbh_qs = get_quantile(fpbh_posts)\n",
    "\n",
    "p1_fpbh_qs = get_quantile(p1_fpbh_posts)\n",
    "p2_fpbh_qs = get_quantile(p2_fpbh_posts)\n",
    "p3_fpbh_qs = get_quantile(p3_fpbh_posts)\n",
    "p4_fpbh_qs = get_quantile(p4_fpbh_posts)\n",
    "p5_fpbh_qs = get_quantile(p5_fpbh_posts)"
   ]
  },
  {
   "cell_type": "code",
   "execution_count": 45,
   "metadata": {},
   "outputs": [
    {
     "ename": "LoadError",
     "evalue": "UndefVarError: p1_fpbh_posts not defined",
     "output_type": "error",
     "traceback": [
      "UndefVarError: p1_fpbh_posts not defined",
      "",
      "Stacktrace:",
      " [1] top-level scope",
      "   @ In[45]:1",
      " [2] eval",
      "   @ ./boot.jl:360 [inlined]",
      " [3] include_string(mapexpr::typeof(REPL.softscope), mod::Module, code::String, filename::String)",
      "   @ Base ./loading.jl:1116"
     ]
    }
   ],
   "source": [
    "ps_data = [\n",
    "    [(1+3)/2, get_σ(p1_fpbh_posts)...],\n",
    "    [(3+10)/2, get_σ(p2_fpbh_posts)...],\n",
    "    [(10+40)/2, get_σ(p3_fpbh_posts)...],\n",
    "    [(40+80)/2, get_σ(p4_fpbh_posts)...],\n",
    "    [(80+130)/2, get_σ(p5_fpbh_posts)...]\n",
    "]\n",
    "\n",
    "save(\"backup/$(model)_ps.jld2\", Dict(\"ps\" => ps_data))"
   ]
  },
  {
   "cell_type": "code",
   "execution_count": 46,
   "metadata": {},
   "outputs": [
    {
     "data": {
      "text/plain": [
       "plot_band (generic function with 1 method)"
      ]
     },
     "execution_count": 46,
     "metadata": {},
     "output_type": "execute_result"
    }
   ],
   "source": [
    "function plot_band(low, mid, upper, left, right)\n",
    "    ms = left:0.1:right\n",
    "    pm_low = [low for m in ms]\n",
    "    pm_mid = [mid for m in ms]\n",
    "    pm_upper = [upper for m in ms]\n",
    "    \n",
    "    plot!(ms, pm_mid, label=\"\", color=\"blue\")\n",
    "    plot!(ms, pm_low, fillrange=pm_upper, fillalpha=0.35, color=\"cyan\", label=\"\")\n",
    "end\n"
   ]
  },
  {
   "cell_type": "code",
   "execution_count": 47,
   "metadata": {},
   "outputs": [],
   "source": [
    "# function Pm_log(σ, Mc, m)\n",
    "#     1/m/σ/sqrt(2pi) * exp(- log(m/Mc)^2/2/σ^2)\n",
    "# end\n",
    "\n",
    "# best_lognormal(m) = Pm_log(0.58, 18.18, m)\n",
    "\n",
    "# using Plots\n",
    "\n",
    "# ms = 1:0.1:130\n",
    "# ps = best_lognormal.(ms)\n",
    "\n",
    "# plot(ms, ps, xaxis=:log, yaxis=:log, color=\"red\", label=\"Log-normal\", legend=:bottomleft)\n",
    "# plot_band(p1_qs..., 1, 5)\n",
    "# plot_band(p2_qs..., 5, 10)\n",
    "# plot_band(p3_qs..., 10, 40)\n",
    "# plot_band(p4_qs..., 40, 80)\n",
    "# plot_band(p5_qs..., 80, 130)\n",
    "# xlabel!(L\"m/M_{\\odot}\")\n",
    "# ylabel!(L\"P(m)\")"
   ]
  },
  {
   "cell_type": "code",
   "execution_count": 48,
   "metadata": {},
   "outputs": [],
   "source": [
    "# function lognormal(σ, Mc, m)\n",
    "#     1/m/σ/sqrt(2pi) * exp(- log(m/Mc)^2/2/σ^2)\n",
    "# end\n",
    "\n",
    "# best_lognormal(m) = lognormal(0.58, 18.18, m)\n",
    "\n",
    "# using Plots\n",
    "\n",
    "# ms = [(1+5)/2, (5+10)/2, (10+40)/2, (40+80)/2, (80+130)/2]\n",
    "# ps = PmQCD.(ms, 10^(-2.26092), -0.0639596)\n",
    "\n",
    "# plot(ms, ps, xaxis=:log, yaxis=:log, color=\"black\", legend=:bottomleft)\n",
    "# plot_band(p1_fpbh_qs..., 1, 5)\n",
    "# plot_band(p2_fpbh_qs..., 5, 10)\n",
    "# plot_band(p3_fpbh_qs..., 10, 40)\n",
    "# plot_band(p4_fpbh_qs..., 40, 80)\n",
    "# plot_band(p5_fpbh_qs..., 80, 130)\n",
    "# xlabel!(L\"m/M_{\\odot}\")\n",
    "# ylabel!(L\"f_\\mathrm{pbh} P(m)\")"
   ]
  },
  {
   "cell_type": "code",
   "execution_count": 49,
   "metadata": {},
   "outputs": [],
   "source": [
    "# # using StatsPlots # no need for `using Plots` as that is reexported here\n",
    "# # pyplot()\n",
    "# ms = [(1+5)/2 (5+10)/2 (10+40)/2 (40+80)/2 (80+130)/2]\n",
    "# ps = [p1_posts, p2_posts, p3_posts, p4_posts, p5_posts]\n",
    "\n",
    "# violin(ms[1], ps[1], leg=false, linewidth=0, xlim=[1, 130], xaxis=:log, yaxis=:log, color=\"red\")\n",
    "# # for i in 2:5\n",
    "# #     violin!(ms[i], ps[i], leg=false, linewidth=0, xlim=[1, 130], xaxis=:log, yaxis=:log, color=\"red\", widths=1e2)\n",
    "# # end\n",
    "# xlabel!(L\"m/M_{\\odot}\")\n",
    "# ylabel!(L\"P(m)\")"
   ]
  },
  {
   "cell_type": "code",
   "execution_count": 50,
   "metadata": {},
   "outputs": [],
   "source": [
    "# using StatsPlots # no need for `using Plots` as that is reexported here\n",
    "# pyplot()"
   ]
  },
  {
   "cell_type": "code",
   "execution_count": 51,
   "metadata": {},
   "outputs": [
    {
     "data": {
      "text/plain": [
       "get_err (generic function with 1 method)"
      ]
     },
     "execution_count": 51,
     "metadata": {},
     "output_type": "execute_result"
    }
   ],
   "source": [
    "function get_err(end_points)\n",
    "    left_points = end_points[1:end-1]\n",
    "    right_points = end_points[2:end]\n",
    "    mean_points = (left_points .+ right_points) ./ 2\n",
    "    left_err = mean_points - left_points\n",
    "    right_err = right_points - mean_points\n",
    "    mean_points, left_err, right_err\n",
    "end"
   ]
  },
  {
   "cell_type": "markdown",
   "metadata": {},
   "source": [
    "## merger rate"
   ]
  },
  {
   "cell_type": "code",
   "execution_count": 52,
   "metadata": {},
   "outputs": [
    {
     "ename": "LoadError",
     "evalue": "ArgumentError: Cannot open 'LIGO-data/masses_source_frame_posterior/GW200115_042309_posterior.txt': not a file",
     "output_type": "error",
     "traceback": [
      "ArgumentError: Cannot open 'LIGO-data/masses_source_frame_posterior/GW200115_042309_posterior.txt': not a file",
      "",
      "Stacktrace:",
      "  [1] readdlm_auto(input::String, dlm::Char, T::Type, eol::Char, auto::Bool; opts::Base.Iterators.Pairs{Union{}, Union{}, Tuple{}, NamedTuple{(), Tuple{}}})",
      "    @ DelimitedFiles /buildworker/worker/package_linux64/build/usr/share/julia/stdlib/v1.6/DelimitedFiles/src/DelimitedFiles.jl:233",
      "  [2] readdlm_auto",
      "    @ /buildworker/worker/package_linux64/build/usr/share/julia/stdlib/v1.6/DelimitedFiles/src/DelimitedFiles.jl:233 [inlined]",
      "  [3] #readdlm#5",
      "    @ /buildworker/worker/package_linux64/build/usr/share/julia/stdlib/v1.6/DelimitedFiles/src/DelimitedFiles.jl:170 [inlined]",
      "  [4] readdlm",
      "    @ /buildworker/worker/package_linux64/build/usr/share/julia/stdlib/v1.6/DelimitedFiles/src/DelimitedFiles.jl:170 [inlined]",
      "  [5] #readdlm#3",
      "    @ /buildworker/worker/package_linux64/build/usr/share/julia/stdlib/v1.6/DelimitedFiles/src/DelimitedFiles.jl:118 [inlined]",
      "  [6] readdlm",
      "    @ /buildworker/worker/package_linux64/build/usr/share/julia/stdlib/v1.6/DelimitedFiles/src/DelimitedFiles.jl:118 [inlined]",
      "  [7] get_post_func(event::String)",
      "    @ Main ./In[5]:3",
      "  [8] top-level scope",
      "    @ In[52]:2",
      "  [9] eval",
      "    @ ./boot.jl:360 [inlined]",
      " [10] include_string(mapexpr::typeof(REPL.softscope), mod::Module, code::String, filename::String)",
      "    @ Base ./loading.jl:1116"
     ]
    }
   ],
   "source": [
    "post_190521 = get_post_func(\"190521\")\n",
    "post_200115 = get_post_func(\"200115_042309\")\n",
    "post_200105 = get_post_func(\"200105_162426\")\n",
    "\n",
    "post_190814 = get_post_func(\"190814\")\n",
    "post_190425 = get_post_func(\"190425\")\n",
    "post_190426 = get_post_func(\"190426_152155\")"
   ]
  },
  {
   "cell_type": "code",
   "execution_count": 53,
   "metadata": {},
   "outputs": [
    {
     "ename": "LoadError",
     "evalue": "UndefVarError: post_190814 not defined",
     "output_type": "error",
     "traceback": [
      "UndefVarError: post_190814 not defined",
      "",
      "Stacktrace:",
      " [1] top-level scope",
      "   @ In[53]:4",
      " [2] eval",
      "   @ ./boot.jl:360 [inlined]",
      " [3] include_string(mapexpr::typeof(REPL.softscope), mod::Module, code::String, filename::String)",
      "   @ Base ./loading.jl:1116"
     ]
    }
   ],
   "source": [
    "ms = 22:0.1:27\n",
    "ms2 = 2.2:0.0005:2.6\n",
    "# ps = post_190814.(ms2, 1.58)\n",
    "ps = post_190814.(ms, 2.5)\n",
    "# ps2 = post_200115.(5.7, ms)\n",
    "# ps3 = post_200105.(5.7, ms)\n",
    "plot(ms, ps)\n",
    "# plot!(ms, ps3)"
   ]
  },
  {
   "cell_type": "code",
   "execution_count": 54,
   "metadata": {},
   "outputs": [
    {
     "data": {
      "text/plain": [
       "get_cond_merger_rate (generic function with 1 method)"
      ]
     },
     "execution_count": 54,
     "metadata": {},
     "output_type": "execute_result"
    }
   ],
   "source": [
    "thr = 7.708648380664132e-5;\n",
    "function get_area(thr, post_data)\n",
    "    post, m1_min, m1_max, m2_min, m2_max = post_data\n",
    "    δm1 = m1_max - m1_min\n",
    "    δm2 = m2_max - m2_min\n",
    "    \n",
    "    function post_new(m1, m2)\n",
    "        p = post(m1, m2)\n",
    "        p >= thr ? p : 0\n",
    "    end\n",
    "    int(m1, m2) = δm1 * δm2 * post_new(m1_min + δm1*m1, m2_min + δm2*m2)\n",
    "    function integrand(x, f)\n",
    "        f[1] = int(x[1], x[2])\n",
    "    end\n",
    "    result, err = cuhre(integrand, rtol=1e-3, minevals=1e4)\n",
    "    result[1]\n",
    "end\n",
    "\n",
    "function get_thr(post_data)\n",
    "    fzero(thr -> get_area(thr, post_data) - 0.9, 1e-5, 1e2)\n",
    "end\n",
    "    \n",
    "function get_cond_merger_rate(p1, p2, p3, p4, fpbh, post_data, thr)\n",
    "    post, m1_min, m1_max, m2_min, m2_max = post_data\n",
    "    δm1 = m1_max - m1_min\n",
    "    δm2 = m2_max - m2_min\n",
    "#     println(δm1)\n",
    "#     println(δm2)\n",
    "    \n",
    "    R12_new(m1, m2) = post(m1, m2) >= thr ? R12(m1, m2, p1, p2, p3, p4, fpbh) : 0\n",
    "    int(m1, m2) = δm1 * δm2 * R12_new(m1_min + δm1*m1, m2_min + δm2*m2)\n",
    "#     println(\"p1=$p10, p2=$p20, p3=$p30\")\n",
    "    function integrand(x, f)\n",
    "        f[1] = int(x[1], x[2])\n",
    "    end\n",
    "    result, err = cuhre(integrand, rtol=1e-1)\n",
    "    result[1]\n",
    "end\n",
    "\n",
    "# function get_cond_merger_rate2(p1, p2, p3, p4, fpbh, post_data, thr)\n",
    "#     post, m1_min, m1_max, m2_min, m2_max = post_data\n",
    "#     δm1 = m1_max - m1_min\n",
    "#     δm2 = m2_max - m2_min\n",
    "# #     println(δm1)\n",
    "# #     println(δm2)\n",
    "    \n",
    "#     R12_new(m1, m2) = R12(m1, m2, p1, p2, p3, p4, fpbh)\n",
    "#     int(m1, m2) = δm1 * δm2 * R12_new(m1_min + δm1*m1, m2_min + δm2*m2)\n",
    "# #     println(\"p1=$p10, p2=$p20, p3=$p30\")\n",
    "#     function integrand(x, f)\n",
    "#         f[1] = int(x[1], x[2])\n",
    "#     end\n",
    "#     result, err = cuhre(integrand, rtol=1e-1)\n",
    "#     result[1]\n",
    "# end"
   ]
  },
  {
   "cell_type": "code",
   "execution_count": 55,
   "metadata": {},
   "outputs": [
    {
     "ename": "LoadError",
     "evalue": "UndefVarError: post_190814 not defined",
     "output_type": "error",
     "traceback": [
      "UndefVarError: post_190814 not defined",
      "",
      "Stacktrace:",
      " [1] top-level scope",
      "   @ In[55]:2",
      " [2] eval",
      "   @ ./boot.jl:360 [inlined]",
      " [3] include_string(mapexpr::typeof(REPL.softscope), mod::Module, code::String, filename::String)",
      "   @ Base ./loading.jl:1116"
     ]
    }
   ],
   "source": [
    "# post_data = [post_200105, 6, 12, 1.5, 2.5];\n",
    "post_data = [post_190814, 20, 30, 1, 3];\n",
    "thr = get_thr(post_data)\n",
    "println(thr)\n",
    "println(get_area(thr, post_data))\n",
    "\n",
    "i = 10\n",
    "@time get_cond_merger_rate(p1_posts[i], p2_posts[i], p3_posts[i], p4_posts[i], fpbh_posts[i], post_data, thr)"
   ]
  },
  {
   "cell_type": "code",
   "execution_count": 56,
   "metadata": {},
   "outputs": [
    {
     "ename": "LoadError",
     "evalue": "UndefVarError: p1_qs not defined",
     "output_type": "error",
     "traceback": [
      "UndefVarError: p1_qs not defined",
      "",
      "Stacktrace:",
      " [1] top-level scope",
      "   @ In[56]:1",
      " [2] eval",
      "   @ ./boot.jl:360 [inlined]",
      " [3] include_string(mapexpr::typeof(REPL.softscope), mod::Module, code::String, filename::String)",
      "   @ Base ./loading.jl:1116"
     ]
    }
   ],
   "source": [
    "get_cond_merger_rate(p1_qs[2], p2_qs[2], p3_qs[2], p4_qs[2], fpbh_qs[2], post_data, thr)"
   ]
  },
  {
   "cell_type": "code",
   "execution_count": 57,
   "metadata": {},
   "outputs": [
    {
     "data": {
      "text/plain": [
       "get_R_post (generic function with 1 method)"
      ]
     },
     "execution_count": 57,
     "metadata": {},
     "output_type": "execute_result"
    }
   ],
   "source": [
    "function get_R_post(post_data)\n",
    "    len = length(p1_posts)\n",
    "    result = zeros(len)\n",
    "    thr = get_thr(post_data)\n",
    "    println(thr)\n",
    "    Threads.@threads for i in 1:len\n",
    "#     for i in 1:len\n",
    "        result[i] = get_cond_merger_rate(p1_posts[i], p2_posts[i], p3_posts[i], p4_posts[i], fpbh_posts[i], post_data, thr)\n",
    "#         println(result[i])\n",
    "    end\n",
    "    result\n",
    "end"
   ]
  },
  {
   "cell_type": "code",
   "execution_count": 58,
   "metadata": {},
   "outputs": [
    {
     "ename": "LoadError",
     "evalue": "UndefVarError: p1_posts not defined",
     "output_type": "error",
     "traceback": [
      "UndefVarError: p1_posts not defined",
      "",
      "Stacktrace:",
      " [1] get_R_post(post_data::Vector{Any})",
      "   @ Main ./In[57]:2",
      " [2] top-level scope",
      "   @ ./timing.jl:210 [inlined]",
      " [3] top-level scope",
      "   @ ./In[58]:0",
      " [4] eval",
      "   @ ./boot.jl:360 [inlined]",
      " [5] include_string(mapexpr::typeof(REPL.softscope), mod::Module, code::String, filename::String)",
      "   @ Base ./loading.jl:1116"
     ]
    }
   ],
   "source": [
    "@time R_post_190521 = get_R_post([post_190521, 10, 130, 10, 130]);\n",
    "save(\"backup/$(model)_R_post_190521.jld2\", Dict(\"posts\" => R_post_190521))\n",
    "\n",
    "R_post = load(\"backup/$(model)_R_post_190521.jld2\")[\"posts\"];\n",
    "get_interval(R_post)"
   ]
  }
 ],
 "metadata": {
  "kernelspec": {
   "display_name": "Julia 1.7.0",
   "language": "julia",
   "name": "julia-1.7"
  },
  "language_info": {
   "file_extension": ".jl",
   "mimetype": "application/julia",
   "name": "julia",
   "version": "1.7.0"
  }
 },
 "nbformat": 4,
 "nbformat_minor": 4
}
